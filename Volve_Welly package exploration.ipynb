{
 "cells": [
  {
   "cell_type": "markdown",
   "metadata": {},
   "source": [
    "# Volve well logs (composite & petrophysical interp) with Lasio and Welly"
   ]
  },
  {
   "cell_type": "markdown",
   "metadata": {},
   "source": [
    "Welly is a family of classes to facilitate the loading, processing, and analysis of subsurface wells and well data, such as striplogs, well log curves, and synthetic seismograms.\n",
    "\n",
    "References:<br>\n",
    "https://welly.readthedocs.io/en/latest/<br>\n",
    "https://github.com/agile-geoscience/welly<br>\n",
    "https://github.com/agile-geoscience/xlines/blob/master/notebooks/08_Read_and_write_LAS.ipynb"
   ]
  },
  {
   "cell_type": "code",
   "execution_count": 1,
   "metadata": {},
   "outputs": [
    {
     "data": {
      "text/plain": [
       "'0.4.5'"
      ]
     },
     "execution_count": 1,
     "metadata": {},
     "output_type": "execute_result"
    }
   ],
   "source": [
    "import numpy as np\n",
    "import welly\n",
    "from welly import Project\n",
    "from welly import Well\n",
    "welly.__version__"
   ]
  },
  {
   "cell_type": "code",
   "execution_count": 2,
   "metadata": {},
   "outputs": [
    {
     "data": {
      "text/plain": [
       "'0.25.0'"
      ]
     },
     "execution_count": 2,
     "metadata": {},
     "output_type": "execute_result"
    }
   ],
   "source": [
    "import lasio\n",
    "lasio.__version__"
   ]
  },
  {
   "cell_type": "code",
   "execution_count": 3,
   "metadata": {},
   "outputs": [],
   "source": [
    "import matplotlib\n",
    "import matplotlib.pyplot as plt\n",
    "%matplotlib inline"
   ]
  },
  {
   "cell_type": "markdown",
   "metadata": {},
   "source": [
    "Begin by following workflow on \"Welly to the wescue\" (which uses Welly to get data out of LAS files and into so-called feature vectors for a machine learning project, where the features are wireline log measurements). https://agilescientific.com/blog/2016/11/8/welly-to-the-wescue\n",
    "\n",
    "The benefit of this workflow is that everything is fully reproducible: load the data, apply some tests, fix some problems, and export or process the data. There's no need for intermediate files called things like DT_MATT_EDIT or RHOB_DESPIKE_FINAL_DELETEME. The workflow is completely self-contained."
   ]
  },
  {
   "cell_type": "markdown",
   "metadata": {},
   "source": [
    "## Volve composite well logs"
   ]
  },
  {
   "cell_type": "code",
   "execution_count": 4,
   "metadata": {},
   "outputs": [
    {
     "name": "stdout",
     "output_type": "stream",
     "text": [
      "15_9-F-1 A.las\n",
      "15_9-F-1 B.las\n",
      "15_9-F-1 C.las\n",
      "15_9-F-1.las\n",
      "15_9-F-10.las\n",
      "15_9-F-11 A.las\n",
      "15_9-F-11 B.las\n",
      "15_9-F-11.las\n",
      "15_9-F-5.las\n",
      "15_9-F-9 A.las\n",
      "15_9-F-9.las\n",
      "_15_9-F-11 T2.las\n"
     ]
    }
   ],
   "source": [
    "# List composite logs\n",
    "\n",
    "import os\n",
    "\n",
    "for root, dirs, files in os.walk(\"./input_data/composite\"):\n",
    "    for filename in files:\n",
    "        print(filename)"
   ]
  },
  {
   "cell_type": "code",
   "execution_count": 5,
   "metadata": {},
   "outputs": [
    {
     "name": "stderr",
     "output_type": "stream",
     "text": [
      "0it [00:00, ?it/s]C:\\Users\\LBHAWZ\\AppData\\Local\\Continuum\\anaconda3\\lib\\site-packages\\welly\\curve.py:214: UserWarning: Irregular sampling in depth is not supported. Interpolating to regular basis.\n",
      "  warnings.warn(m)\n",
      "12it [00:10,  1.16it/s]\n"
     ]
    }
   ],
   "source": [
    "# Read LAS files into a welly 'project', which contains all the wells. This bit depends on lasio.\n",
    "\n",
    "p_composite = Project.from_las('input_data\\composite\\*.las')"
   ]
  },
  {
   "cell_type": "markdown",
   "metadata": {},
   "source": [
    "Data for Volve exploration wells: 15/9-19 A, B, BT2, S & R (plus 21 dev wells).\n",
    "\n",
    "Note that most Volve Field composite logs are provided in DLIS format. We have used Interactive Petrophysics software to convert composites for 13 wells to LAS. \n",
    "\n",
    "Just two original .LAS are provided in the Volve dataset: 'STAT1990__30-1__15-9-19_SR__COMPOSITE__1.LAS' and 'WLC_PETROPHYSICAL_COMPOSITE - well 15_9-F-7.las'."
   ]
  },
  {
   "cell_type": "code",
   "execution_count": 6,
   "metadata": {},
   "outputs": [
    {
     "data": {
      "text/html": [
       "<table><tr><th>Index</th><th>UWI</th><th>Data</th><th>Curves</th></tr><tr><td>0</td><td><strong>15/9-F-1 A</strong></td><td>12&nbsp;curves</td><td>CALI, RDEP, DEN, DENC, ROP, GR, RMED, NEU, PEF, BS, AC, ACS</td></tr><tr><td>1</td><td><strong>15/9-F-1 B</strong></td><td>12&nbsp;curves</td><td>CALI, RDEP, DEN, DENC, ROP, GR, RMED, NEU, PEF, BS, AC, ACS</td></tr><tr><td>2</td><td><strong>15/9-F-1 C</strong></td><td>10&nbsp;curves</td><td>CALI, RDEP, DEN, DENC, ROP, GR, RMED, NEU, PEF, BS</td></tr><tr><td>3</td><td><strong>15/9-F-1</strong></td><td>11&nbsp;curves</td><td>CALI, RDEP, DEN, DENC, ROP, GR, RMED, NEU, PEF, BS, AC</td></tr><tr><td>4</td><td><strong>15/9-F-10</strong></td><td>12&nbsp;curves</td><td>CALI, RDEP, DEN, DENC, ROP, GR, RMED, NEU, PEF, BS, AC, ACS</td></tr><tr><td>5</td><td><strong>15/9-F-11 A</strong></td><td>12&nbsp;curves</td><td>CALI, RDEP, DEN, DENC, ROP, GR, RMED, NEU, PEF, BS, AC, ACS</td></tr><tr><td>6</td><td><strong>15/9-F-11 B</strong></td><td>10&nbsp;curves</td><td>CALI, RDEP, DEN, DENC, ROP, GR, RMED, NEU, PEF, BS</td></tr><tr><td>7</td><td><strong>15/9-F-11</strong></td><td>5&nbsp;curves</td><td>RDEP, ROP, GR, RMED, BS</td></tr><tr><td>8</td><td><strong>15/9-F-5</strong></td><td>11&nbsp;curves</td><td>CALI, RDEP, DEN, DENC, ROP, GR, RMED, NEU, PEF, BS, AC</td></tr><tr><td>9</td><td><strong>15/9-F-9 A</strong></td><td>5&nbsp;curves</td><td>RDEP, ROP, GR, RMED, BS</td></tr><tr><td>10</td><td><strong>15/9-F-9</strong></td><td>5&nbsp;curves</td><td>RDEP, ROP, GR, RMED, BS</td></tr><tr><td>11</td><td><strong>_15/9-F-11 T2</strong></td><td>12&nbsp;curves</td><td>CALI, RDEP, DEN, DENC, ROP, GR, RMED, NEU, PEF, BS, AC, ACS</td></tr></table>"
      ],
      "text/plain": [
       "Project(12 wells: 15/9-F-1 A, 15/9-F-1 B, 15/9-F-1 C, 15/9-F-1, 15/9-F-10, 15/9-F-11 A, 15/9-F-11 B, 15/9-F-11, 15/9-F-5, 15/9-F-9 A, 15/9-F-9, _15/9-F-11 T2)"
      ]
     },
     "execution_count": 6,
     "metadata": {},
     "output_type": "execute_result"
    }
   ],
   "source": [
    "# Check what curves we have in our project\n",
    "\n",
    "p_composite"
   ]
  },
  {
   "cell_type": "markdown",
   "metadata": {},
   "source": [
    "Use aliases to simplify things, allowing us to refer to all GR curves as 'Gamma', so for a given well, welly will take the first curve it finds in the list of alternatives we give it. We'll also pass a list of the curves (called keys here) we are interested in."
   ]
  },
  {
   "cell_type": "code",
   "execution_count": 76,
   "metadata": {},
   "outputs": [],
   "source": [
    "# Define aliases for curves\n",
    "\n",
    "alias = {\n",
    "    'Gamma': ['GR'],\n",
    "    'Caliper': ['CALI'],\n",
    "    'Density': ['DEN', 'DENC'],\n",
    "    'Neutron': ['NEU'],\n",
    "    'Sonic': ['DT', 'AC', 'ACS'],\n",
    "    'Resistivity': ['RDEP', 'RMED']\n",
    "}\n",
    "\n",
    "# Did not include Drilling logs: 'ROP', 'BS', 'PEF'"
   ]
  },
  {
   "cell_type": "code",
   "execution_count": 77,
   "metadata": {},
   "outputs": [],
   "source": [
    "keys = ['Gamma', 'Caliper', 'Density', 'Neutron', 'Sonic', 'Resistivity']"
   ]
  },
  {
   "cell_type": "code",
   "execution_count": 78,
   "metadata": {},
   "outputs": [
    {
     "data": {
      "text/html": [
       "<table><tr><th>Idx</th><th>UWI</th><th>Data</th><th>Passing</th><th>Gamma*</th><th>Caliper*</th><th>Density*</th><th>Neutron*</th><th>Sonic*</th><th>Resistivity*</th></tr><tr><td></td><td></td><td></td><td>%</td><td>12/12&nbsp;wells</td><td>9/12&nbsp;wells</td><td>9/12&nbsp;wells</td><td>9/12&nbsp;wells</td><td>7/12&nbsp;wells</td><td>12/12&nbsp;wells</td></tr><td>0</td><td><span style=\"font-weight:bold;\">15/9-F-1 A</span></td><td>6/12&nbsp;curves</td><td>–</td><td style=\"background-color:#CCEECC; line-height:80%; padding:5px 4px 2px 4px;\">GR<div title=\"0/0\" style=\"font-size:80%; float:right; cursor: default; padding:4px 0px 4px 6px; color:#AACCAA;\"></div><br /><span style=\"font-size:70%; color:#33AA33\">58.27 API</span></td><td style=\"background-color:#CCEECC; line-height:80%; padding:5px 4px 2px 4px;\">CALI<div title=\"0/0\" style=\"font-size:80%; float:right; cursor: default; padding:4px 0px 4px 6px; color:#AACCAA;\"></div><br /><span style=\"font-size:70%; color:#33AA33\">8.61 in</span></td><td style=\"background-color:#CCEECC; line-height:80%; padding:5px 4px 2px 4px;\">DEN<div title=\"0/0\" style=\"font-size:80%; float:right; cursor: default; padding:4px 0px 4px 6px; color:#AACCAA;\"></div><br /><span style=\"font-size:70%; color:#33AA33\">2.48 -</span></td><td style=\"background-color:#CCEECC; line-height:80%; padding:5px 4px 2px 4px;\">NEU<div title=\"0/0\" style=\"font-size:80%; float:right; cursor: default; padding:4px 0px 4px 6px; color:#AACCAA;\"></div><br /><span style=\"font-size:70%; color:#33AA33\">0.17 -</span></td><td style=\"background-color:#CCEECC; line-height:80%; padding:5px 4px 2px 4px;\">AC<div title=\"0/0\" style=\"font-size:80%; float:right; cursor: default; padding:4px 0px 4px 6px; color:#AACCAA;\"></div><br /><span style=\"font-size:70%; color:#33AA33\">76.67 µs/ft</span></td><td style=\"background-color:#CCEECC; line-height:80%; padding:5px 4px 2px 4px;\">RDEP<div title=\"0/0\" style=\"font-size:80%; float:right; cursor: default; padding:4px 0px 4px 6px; color:#AACCAA;\"></div><br /><span style=\"font-size:70%; color:#33AA33\">1.66 -</span></td></tr><td>1</td><td><span style=\"font-weight:bold;\">15/9-F-1 B</span></td><td>6/12&nbsp;curves</td><td>–</td><td style=\"background-color:#CCEECC; line-height:80%; padding:5px 4px 2px 4px;\">GR<div title=\"0/0\" style=\"font-size:80%; float:right; cursor: default; padding:4px 0px 4px 6px; color:#AACCAA;\"></div><br /><span style=\"font-size:70%; color:#33AA33\">56.86 API</span></td><td style=\"background-color:#CCEECC; line-height:80%; padding:5px 4px 2px 4px;\">CALI<div title=\"0/0\" style=\"font-size:80%; float:right; cursor: default; padding:4px 0px 4px 6px; color:#AACCAA;\"></div><br /><span style=\"font-size:70%; color:#33AA33\">8.68 in</span></td><td style=\"background-color:#CCEECC; line-height:80%; padding:5px 4px 2px 4px;\">DEN<div title=\"0/0\" style=\"font-size:80%; float:right; cursor: default; padding:4px 0px 4px 6px; color:#AACCAA;\"></div><br /><span style=\"font-size:70%; color:#33AA33\">2.45 -</span></td><td style=\"background-color:#CCEECC; line-height:80%; padding:5px 4px 2px 4px;\">NEU<div title=\"0/0\" style=\"font-size:80%; float:right; cursor: default; padding:4px 0px 4px 6px; color:#AACCAA;\"></div><br /><span style=\"font-size:70%; color:#33AA33\">0.20 -</span></td><td style=\"background-color:#CCEECC; line-height:80%; padding:5px 4px 2px 4px;\">AC<div title=\"0/0\" style=\"font-size:80%; float:right; cursor: default; padding:4px 0px 4px 6px; color:#AACCAA;\"></div><br /><span style=\"font-size:70%; color:#33AA33\">80.38 µs/ft</span></td><td style=\"background-color:#CCEECC; line-height:80%; padding:5px 4px 2px 4px;\">RDEP<div title=\"0/0\" style=\"font-size:80%; float:right; cursor: default; padding:4px 0px 4px 6px; color:#AACCAA;\"></div><br /><span style=\"font-size:70%; color:#33AA33\">1.56 -</span></td></tr><td>2</td><td><span style=\"font-weight:bold;\">15/9-F-1 C</span></td><td>5/10&nbsp;curves</td><td>–</td><td style=\"background-color:#CCEECC; line-height:80%; padding:5px 4px 2px 4px;\">GR<div title=\"0/0\" style=\"font-size:80%; float:right; cursor: default; padding:4px 0px 4px 6px; color:#AACCAA;\"></div><br /><span style=\"font-size:70%; color:#33AA33\">50.38 API</span></td><td style=\"background-color:#CCEECC; line-height:80%; padding:5px 4px 2px 4px;\">CALI<div title=\"0/0\" style=\"font-size:80%; float:right; cursor: default; padding:4px 0px 4px 6px; color:#AACCAA;\"></div><br /><span style=\"font-size:70%; color:#33AA33\">8.54 in</span></td><td style=\"background-color:#CCEECC; line-height:80%; padding:5px 4px 2px 4px;\">DEN<div title=\"0/0\" style=\"font-size:80%; float:right; cursor: default; padding:4px 0px 4px 6px; color:#AACCAA;\"></div><br /><span style=\"font-size:70%; color:#33AA33\">2.38 -</span></td><td style=\"background-color:#CCEECC; line-height:80%; padding:5px 4px 2px 4px;\">NEU<div title=\"0/0\" style=\"font-size:80%; float:right; cursor: default; padding:4px 0px 4px 6px; color:#AACCAA;\"></div><br /><span style=\"font-size:70%; color:#33AA33\">0.19 -</span></td><td style=\"background-color:#CCCCCC; line-height:80%; padding:5px 4px 2px 4px;\"><div title=\"\" style=\"font-size:80%; float:right; cursor: default; padding:4px 0px 4px 6px; color:#CCCCCC;\"></div><br /><span style=\"font-size:70%; color:#33AA33\"> </span></td><td style=\"background-color:#CCEECC; line-height:80%; padding:5px 4px 2px 4px;\">RDEP<div title=\"0/0\" style=\"font-size:80%; float:right; cursor: default; padding:4px 0px 4px 6px; color:#AACCAA;\"></div><br /><span style=\"font-size:70%; color:#33AA33\">8.63 -</span></td></tr><td>3</td><td><span style=\"font-weight:bold;\">15/9-F-1</span></td><td>6/11&nbsp;curves</td><td>–</td><td style=\"background-color:#CCEECC; line-height:80%; padding:5px 4px 2px 4px;\">GR<div title=\"0/0\" style=\"font-size:80%; float:right; cursor: default; padding:4px 0px 4px 6px; color:#AACCAA;\"></div><br /><span style=\"font-size:70%; color:#33AA33\">58.72 API</span></td><td style=\"background-color:#CCEECC; line-height:80%; padding:5px 4px 2px 4px;\">CALI<div title=\"0/0\" style=\"font-size:80%; float:right; cursor: default; padding:4px 0px 4px 6px; color:#AACCAA;\"></div><br /><span style=\"font-size:70%; color:#33AA33\">8.59 in</span></td><td style=\"background-color:#CCEECC; line-height:80%; padding:5px 4px 2px 4px;\">DEN<div title=\"0/0\" style=\"font-size:80%; float:right; cursor: default; padding:4px 0px 4px 6px; color:#AACCAA;\"></div><br /><span style=\"font-size:70%; color:#33AA33\">2.48 -</span></td><td style=\"background-color:#CCEECC; line-height:80%; padding:5px 4px 2px 4px;\">NEU<div title=\"0/0\" style=\"font-size:80%; float:right; cursor: default; padding:4px 0px 4px 6px; color:#AACCAA;\"></div><br /><span style=\"font-size:70%; color:#33AA33\">0.17 -</span></td><td style=\"background-color:#CCEECC; line-height:80%; padding:5px 4px 2px 4px;\">AC<div title=\"0/0\" style=\"font-size:80%; float:right; cursor: default; padding:4px 0px 4px 6px; color:#AACCAA;\"></div><br /><span style=\"font-size:70%; color:#33AA33\">77.41 µs/ft</span></td><td style=\"background-color:#CCEECC; line-height:80%; padding:5px 4px 2px 4px;\">RDEP<div title=\"0/0\" style=\"font-size:80%; float:right; cursor: default; padding:4px 0px 4px 6px; color:#AACCAA;\"></div><br /><span style=\"font-size:70%; color:#33AA33\">1.50 -</span></td></tr><td>4</td><td><span style=\"font-weight:bold;\">15/9-F-10</span></td><td>6/12&nbsp;curves</td><td>–</td><td style=\"background-color:#CCEECC; line-height:80%; padding:5px 4px 2px 4px;\">GR<div title=\"0/0\" style=\"font-size:80%; float:right; cursor: default; padding:4px 0px 4px 6px; color:#AACCAA;\"></div><br /><span style=\"font-size:70%; color:#33AA33\">60.75 API</span></td><td style=\"background-color:#CCEECC; line-height:80%; padding:5px 4px 2px 4px;\">CALI<div title=\"0/0\" style=\"font-size:80%; float:right; cursor: default; padding:4px 0px 4px 6px; color:#AACCAA;\"></div><br /><span style=\"font-size:70%; color:#33AA33\">8.40 in</span></td><td style=\"background-color:#CCEECC; line-height:80%; padding:5px 4px 2px 4px;\">DEN<div title=\"0/0\" style=\"font-size:80%; float:right; cursor: default; padding:4px 0px 4px 6px; color:#AACCAA;\"></div><br /><span style=\"font-size:70%; color:#33AA33\">2.54 -</span></td><td style=\"background-color:#CCEECC; line-height:80%; padding:5px 4px 2px 4px;\">NEU<div title=\"0/0\" style=\"font-size:80%; float:right; cursor: default; padding:4px 0px 4px 6px; color:#AACCAA;\"></div><br /><span style=\"font-size:70%; color:#33AA33\">0.20 -</span></td><td style=\"background-color:#CCEECC; line-height:80%; padding:5px 4px 2px 4px;\">AC<div title=\"0/0\" style=\"font-size:80%; float:right; cursor: default; padding:4px 0px 4px 6px; color:#AACCAA;\"></div><br /><span style=\"font-size:70%; color:#33AA33\">66.11 µs/ft</span></td><td style=\"background-color:#CCEECC; line-height:80%; padding:5px 4px 2px 4px;\">RDEP<div title=\"0/0\" style=\"font-size:80%; float:right; cursor: default; padding:4px 0px 4px 6px; color:#AACCAA;\"></div><br /><span style=\"font-size:70%; color:#33AA33\">11.63 -</span></td></tr><td>5</td><td><span style=\"font-weight:bold;\">15/9-F-11 A</span></td><td>6/12&nbsp;curves</td><td>–</td><td style=\"background-color:#CCEECC; line-height:80%; padding:5px 4px 2px 4px;\">GR<div title=\"0/0\" style=\"font-size:80%; float:right; cursor: default; padding:4px 0px 4px 6px; color:#AACCAA;\"></div><br /><span style=\"font-size:70%; color:#33AA33\">52.28 API</span></td><td style=\"background-color:#CCEECC; line-height:80%; padding:5px 4px 2px 4px;\">CALI<div title=\"0/0\" style=\"font-size:80%; float:right; cursor: default; padding:4px 0px 4px 6px; color:#AACCAA;\"></div><br /><span style=\"font-size:70%; color:#33AA33\">8.63 in</span></td><td style=\"background-color:#CCEECC; line-height:80%; padding:5px 4px 2px 4px;\">DEN<div title=\"0/0\" style=\"font-size:80%; float:right; cursor: default; padding:4px 0px 4px 6px; color:#AACCAA;\"></div><br /><span style=\"font-size:70%; color:#33AA33\">2.47 -</span></td><td style=\"background-color:#CCEECC; line-height:80%; padding:5px 4px 2px 4px;\">NEU<div title=\"0/0\" style=\"font-size:80%; float:right; cursor: default; padding:4px 0px 4px 6px; color:#AACCAA;\"></div><br /><span style=\"font-size:70%; color:#33AA33\">0.17 -</span></td><td style=\"background-color:#CCEECC; line-height:80%; padding:5px 4px 2px 4px;\">AC<div title=\"0/0\" style=\"font-size:80%; float:right; cursor: default; padding:4px 0px 4px 6px; color:#AACCAA;\"></div><br /><span style=\"font-size:70%; color:#33AA33\">77.76 µs/ft</span></td><td style=\"background-color:#CCEECC; line-height:80%; padding:5px 4px 2px 4px;\">RDEP<div title=\"0/0\" style=\"font-size:80%; float:right; cursor: default; padding:4px 0px 4px 6px; color:#AACCAA;\"></div><br /><span style=\"font-size:70%; color:#33AA33\">1.97 -</span></td></tr><td>6</td><td><span style=\"font-weight:bold;\">15/9-F-11 B</span></td><td>5/10&nbsp;curves</td><td>–</td><td style=\"background-color:#CCEECC; line-height:80%; padding:5px 4px 2px 4px;\">GR<div title=\"0/0\" style=\"font-size:80%; float:right; cursor: default; padding:4px 0px 4px 6px; color:#AACCAA;\"></div><br /><span style=\"font-size:70%; color:#33AA33\">46.58 API</span></td><td style=\"background-color:#CCEECC; line-height:80%; padding:5px 4px 2px 4px;\">CALI<div title=\"0/0\" style=\"font-size:80%; float:right; cursor: default; padding:4px 0px 4px 6px; color:#AACCAA;\"></div><br /><span style=\"font-size:70%; color:#33AA33\">8.66 in</span></td><td style=\"background-color:#CCEECC; line-height:80%; padding:5px 4px 2px 4px;\">DEN<div title=\"0/0\" style=\"font-size:80%; float:right; cursor: default; padding:4px 0px 4px 6px; color:#AACCAA;\"></div><br /><span style=\"font-size:70%; color:#33AA33\">2.40 -</span></td><td style=\"background-color:#CCEECC; line-height:80%; padding:5px 4px 2px 4px;\">NEU<div title=\"0/0\" style=\"font-size:80%; float:right; cursor: default; padding:4px 0px 4px 6px; color:#AACCAA;\"></div><br /><span style=\"font-size:70%; color:#33AA33\">0.18 -</span></td><td style=\"background-color:#CCCCCC; line-height:80%; padding:5px 4px 2px 4px;\"><div title=\"\" style=\"font-size:80%; float:right; cursor: default; padding:4px 0px 4px 6px; color:#CCCCCC;\"></div><br /><span style=\"font-size:70%; color:#33AA33\"> </span></td><td style=\"background-color:#CCEECC; line-height:80%; padding:5px 4px 2px 4px;\">RDEP<div title=\"0/0\" style=\"font-size:80%; float:right; cursor: default; padding:4px 0px 4px 6px; color:#AACCAA;\"></div><br /><span style=\"font-size:70%; color:#33AA33\">12.40 -</span></td></tr><td>7</td><td><span style=\"font-weight:bold;\">15/9-F-11</span></td><td>2/5&nbsp;curves</td><td>–</td><td style=\"background-color:#CCEECC; line-height:80%; padding:5px 4px 2px 4px;\">GR<div title=\"0/0\" style=\"font-size:80%; float:right; cursor: default; padding:4px 0px 4px 6px; color:#AACCAA;\"></div><br /><span style=\"font-size:70%; color:#33AA33\">17.28 API</span></td><td style=\"background-color:#CCCCCC; line-height:80%; padding:5px 4px 2px 4px;\"><div title=\"\" style=\"font-size:80%; float:right; cursor: default; padding:4px 0px 4px 6px; color:#CCCCCC;\"></div><br /><span style=\"font-size:70%; color:#33AA33\"> </span></td><td style=\"background-color:#CCCCCC; line-height:80%; padding:5px 4px 2px 4px;\"><div title=\"\" style=\"font-size:80%; float:right; cursor: default; padding:4px 0px 4px 6px; color:#CCCCCC;\"></div><br /><span style=\"font-size:70%; color:#33AA33\"> </span></td><td style=\"background-color:#CCCCCC; line-height:80%; padding:5px 4px 2px 4px;\"><div title=\"\" style=\"font-size:80%; float:right; cursor: default; padding:4px 0px 4px 6px; color:#CCCCCC;\"></div><br /><span style=\"font-size:70%; color:#33AA33\"> </span></td><td style=\"background-color:#CCCCCC; line-height:80%; padding:5px 4px 2px 4px;\"><div title=\"\" style=\"font-size:80%; float:right; cursor: default; padding:4px 0px 4px 6px; color:#CCCCCC;\"></div><br /><span style=\"font-size:70%; color:#33AA33\"> </span></td><td style=\"background-color:#CCEECC; line-height:80%; padding:5px 4px 2px 4px;\">RDEP<div title=\"0/0\" style=\"font-size:80%; float:right; cursor: default; padding:4px 0px 4px 6px; color:#AACCAA;\"></div><br /><span style=\"font-size:70%; color:#33AA33\">0.86 -</span></td></tr><td>8</td><td><span style=\"font-weight:bold;\">15/9-F-5</span></td><td>6/11&nbsp;curves</td><td>–</td><td style=\"background-color:#CCEECC; line-height:80%; padding:5px 4px 2px 4px;\">GR<div title=\"0/0\" style=\"font-size:80%; float:right; cursor: default; padding:4px 0px 4px 6px; color:#AACCAA;\"></div><br /><span style=\"font-size:70%; color:#33AA33\">71.39 API</span></td><td style=\"background-color:#CCEECC; line-height:80%; padding:5px 4px 2px 4px;\">CALI<div title=\"0/0\" style=\"font-size:80%; float:right; cursor: default; padding:4px 0px 4px 6px; color:#AACCAA;\"></div><br /><span style=\"font-size:70%; color:#33AA33\">8.51 in</span></td><td style=\"background-color:#CCEECC; line-height:80%; padding:5px 4px 2px 4px;\">DEN<div title=\"0/0\" style=\"font-size:80%; float:right; cursor: default; padding:4px 0px 4px 6px; color:#AACCAA;\"></div><br /><span style=\"font-size:70%; color:#33AA33\">2.48 -</span></td><td style=\"background-color:#CCEECC; line-height:80%; padding:5px 4px 2px 4px;\">NEU<div title=\"0/0\" style=\"font-size:80%; float:right; cursor: default; padding:4px 0px 4px 6px; color:#AACCAA;\"></div><br /><span style=\"font-size:70%; color:#33AA33\">0.17 -</span></td><td style=\"background-color:#CCEECC; line-height:80%; padding:5px 4px 2px 4px;\">AC<div title=\"0/0\" style=\"font-size:80%; float:right; cursor: default; padding:4px 0px 4px 6px; color:#AACCAA;\"></div><br /><span style=\"font-size:70%; color:#33AA33\">76.25 µs/ft</span></td><td style=\"background-color:#CCEECC; line-height:80%; padding:5px 4px 2px 4px;\">RDEP<div title=\"0/0\" style=\"font-size:80%; float:right; cursor: default; padding:4px 0px 4px 6px; color:#AACCAA;\"></div><br /><span style=\"font-size:70%; color:#33AA33\">10.25 -</span></td></tr><td>9</td><td><span style=\"font-weight:bold;\">15/9-F-9 A</span></td><td>2/5&nbsp;curves</td><td>–</td><td style=\"background-color:#CCEECC; line-height:80%; padding:5px 4px 2px 4px;\">GR<div title=\"0/0\" style=\"font-size:80%; float:right; cursor: default; padding:4px 0px 4px 6px; color:#AACCAA;\"></div><br /><span style=\"font-size:70%; color:#33AA33\">159.69 API</span></td><td style=\"background-color:#CCCCCC; line-height:80%; padding:5px 4px 2px 4px;\"><div title=\"\" style=\"font-size:80%; float:right; cursor: default; padding:4px 0px 4px 6px; color:#CCCCCC;\"></div><br /><span style=\"font-size:70%; color:#33AA33\"> </span></td><td style=\"background-color:#CCCCCC; line-height:80%; padding:5px 4px 2px 4px;\"><div title=\"\" style=\"font-size:80%; float:right; cursor: default; padding:4px 0px 4px 6px; color:#CCCCCC;\"></div><br /><span style=\"font-size:70%; color:#33AA33\"> </span></td><td style=\"background-color:#CCCCCC; line-height:80%; padding:5px 4px 2px 4px;\"><div title=\"\" style=\"font-size:80%; float:right; cursor: default; padding:4px 0px 4px 6px; color:#CCCCCC;\"></div><br /><span style=\"font-size:70%; color:#33AA33\"> </span></td><td style=\"background-color:#CCCCCC; line-height:80%; padding:5px 4px 2px 4px;\"><div title=\"\" style=\"font-size:80%; float:right; cursor: default; padding:4px 0px 4px 6px; color:#CCCCCC;\"></div><br /><span style=\"font-size:70%; color:#33AA33\"> </span></td><td style=\"background-color:#CCEECC; line-height:80%; padding:5px 4px 2px 4px;\">RDEP<div title=\"0/0\" style=\"font-size:80%; float:right; cursor: default; padding:4px 0px 4px 6px; color:#AACCAA;\"></div><br /><span style=\"font-size:70%; color:#33AA33\">0.95 -</span></td></tr><td>10</td><td><span style=\"font-weight:bold;\">15/9-F-9</span></td><td>2/5&nbsp;curves</td><td>–</td><td style=\"background-color:#CCEECC; line-height:80%; padding:5px 4px 2px 4px;\">GR<div title=\"0/0\" style=\"font-size:80%; float:right; cursor: default; padding:4px 0px 4px 6px; color:#AACCAA;\"></div><br /><span style=\"font-size:70%; color:#33AA33\">36.64 API</span></td><td style=\"background-color:#CCCCCC; line-height:80%; padding:5px 4px 2px 4px;\"><div title=\"\" style=\"font-size:80%; float:right; cursor: default; padding:4px 0px 4px 6px; color:#CCCCCC;\"></div><br /><span style=\"font-size:70%; color:#33AA33\"> </span></td><td style=\"background-color:#CCCCCC; line-height:80%; padding:5px 4px 2px 4px;\"><div title=\"\" style=\"font-size:80%; float:right; cursor: default; padding:4px 0px 4px 6px; color:#CCCCCC;\"></div><br /><span style=\"font-size:70%; color:#33AA33\"> </span></td><td style=\"background-color:#CCCCCC; line-height:80%; padding:5px 4px 2px 4px;\"><div title=\"\" style=\"font-size:80%; float:right; cursor: default; padding:4px 0px 4px 6px; color:#CCCCCC;\"></div><br /><span style=\"font-size:70%; color:#33AA33\"> </span></td><td style=\"background-color:#CCCCCC; line-height:80%; padding:5px 4px 2px 4px;\"><div title=\"\" style=\"font-size:80%; float:right; cursor: default; padding:4px 0px 4px 6px; color:#CCCCCC;\"></div><br /><span style=\"font-size:70%; color:#33AA33\"> </span></td><td style=\"background-color:#CCEECC; line-height:80%; padding:5px 4px 2px 4px;\">RDEP<div title=\"0/0\" style=\"font-size:80%; float:right; cursor: default; padding:4px 0px 4px 6px; color:#AACCAA;\"></div><br /><span style=\"font-size:70%; color:#33AA33\">0.90 -</span></td></tr><td>11</td><td><span style=\"font-weight:bold;\">_15/9-F-11 T2</span></td><td>6/12&nbsp;curves</td><td>–</td><td style=\"background-color:#CCEECC; line-height:80%; padding:5px 4px 2px 4px;\">GR<div title=\"0/0\" style=\"font-size:80%; float:right; cursor: default; padding:4px 0px 4px 6px; color:#AACCAA;\"></div><br /><span style=\"font-size:70%; color:#33AA33\">48.78 API</span></td><td style=\"background-color:#CCEECC; line-height:80%; padding:5px 4px 2px 4px;\">CALI<div title=\"0/0\" style=\"font-size:80%; float:right; cursor: default; padding:4px 0px 4px 6px; color:#AACCAA;\"></div><br /><span style=\"font-size:70%; color:#33AA33\">8.68 in</span></td><td style=\"background-color:#CCEECC; line-height:80%; padding:5px 4px 2px 4px;\">DEN<div title=\"0/0\" style=\"font-size:80%; float:right; cursor: default; padding:4px 0px 4px 6px; color:#AACCAA;\"></div><br /><span style=\"font-size:70%; color:#33AA33\">2.50 -</span></td><td style=\"background-color:#CCEECC; line-height:80%; padding:5px 4px 2px 4px;\">NEU<div title=\"0/0\" style=\"font-size:80%; float:right; cursor: default; padding:4px 0px 4px 6px; color:#AACCAA;\"></div><br /><span style=\"font-size:70%; color:#33AA33\">0.15 -</span></td><td style=\"background-color:#CCEECC; line-height:80%; padding:5px 4px 2px 4px;\">AC<div title=\"0/0\" style=\"font-size:80%; float:right; cursor: default; padding:4px 0px 4px 6px; color:#AACCAA;\"></div><br /><span style=\"font-size:70%; color:#33AA33\">75.51 µs/ft</span></td><td style=\"background-color:#CCEECC; line-height:80%; padding:5px 4px 2px 4px;\">RDEP<div title=\"0/0\" style=\"font-size:80%; float:right; cursor: default; padding:4px 0px 4px 6px; color:#AACCAA;\"></div><br /><span style=\"font-size:70%; color:#33AA33\">2.22 -</span></td></tr></table>"
      ],
      "text/plain": [
       "<IPython.core.display.HTML object>"
      ]
     },
     "execution_count": 78,
     "metadata": {},
     "output_type": "execute_result"
    }
   ],
   "source": [
    "p_composite_html = p_composite.curve_table_html(keys=keys, alias=alias)\n",
    "\n",
    "from IPython.display import HTML\n",
    "HTML(p_composite_html)"
   ]
  },
  {
   "cell_type": "markdown",
   "metadata": {},
   "source": [
    "<b>Check curve quality by passing a test suite to the project, and making a quality table.</b>\n",
    "\n",
    "Define a suite of tests. Lists of test to run on each curve are held in a Python data structure called a dictionary. \n",
    "\n",
    "As well as tests for specific curves, there are two special test lists: Each and All, which are run on each curve encountered, and on all curves together, respectively. (The latter is required to, for example, compare the curves to each other to look for duplicates). \n",
    "\n",
    "The welly module quality contains some predefined tests, but you can also define your own test functions — these functions take a curve as input, and return either True (for a test pass) for False.\n",
    "\n",
    "The green dot means that all tests passed for that curve. Orange means some tests failed. If all tests fail, the dot is red. The quality score shows a normalized score for all the tests on that well. In this case, rhob and dt are failing the 'mean_between' test because they have imperial units."
   ]
  },
  {
   "cell_type": "code",
   "execution_count": 81,
   "metadata": {},
   "outputs": [
    {
     "data": {
      "text/html": [
       "<table><tr><th>Idx</th><th>UWI</th><th>Data</th><th>Passing</th><th>Gamma*</th><th>Caliper*</th><th>Density*</th><th>Neutron*</th><th>Sonic*</th><th>Resistivity*</th></tr><tr><td></td><td></td><td></td><td>%</td><td>12/12&nbsp;wells</td><td>9/12&nbsp;wells</td><td>9/12&nbsp;wells</td><td>9/12&nbsp;wells</td><td>7/12&nbsp;wells</td><td>12/12&nbsp;wells</td></tr><td>0</td><td><span style=\"font-weight:bold;\">15/9-F-1 A</span></td><td>6/12&nbsp;curves</td><td>82</td><td style=\"background-color:#CCEECC; line-height:80%; padding:5px 4px 2px 4px;\">GR<div title=\"6/8\" style=\"font-size:80%; float:right; cursor: default; padding:4px 0px 4px 6px; color:#FFCC33;\">&#x2b24;</div><br /><span style=\"font-size:70%; color:#33AA33\">58.27 API</span></td><td style=\"background-color:#CCEECC; line-height:80%; padding:5px 4px 2px 4px;\">CALI<div title=\"4/4\" style=\"font-size:80%; float:right; cursor: default; padding:4px 0px 4px 6px; color:#33EE33;\">&#x2b24;</div><br /><span style=\"font-size:70%; color:#33AA33\">8.61 in</span></td><td style=\"background-color:#CCEECC; line-height:80%; padding:5px 4px 2px 4px;\">DEN<div title=\"5/6\" style=\"font-size:80%; float:right; cursor: default; padding:4px 0px 4px 6px; color:#FFCC33;\">&#x2b24;</div><br /><span style=\"font-size:70%; color:#33AA33\">2.48 -</span></td><td style=\"background-color:#CCEECC; line-height:80%; padding:5px 4px 2px 4px;\">NEU<div title=\"4/4\" style=\"font-size:80%; float:right; cursor: default; padding:4px 0px 4px 6px; color:#33EE33;\">&#x2b24;</div><br /><span style=\"font-size:70%; color:#33AA33\">0.17 -</span></td><td style=\"background-color:#CCEECC; line-height:80%; padding:5px 4px 2px 4px;\">AC<div title=\"5/7\" style=\"font-size:80%; float:right; cursor: default; padding:4px 0px 4px 6px; color:#FFCC33;\">&#x2b24;</div><br /><span style=\"font-size:70%; color:#33AA33\">76.67 µs/ft</span></td><td style=\"background-color:#CCEECC; line-height:80%; padding:5px 4px 2px 4px;\">RDEP<div title=\"3/4\" style=\"font-size:80%; float:right; cursor: default; padding:4px 0px 4px 6px; color:#FFCC33;\">&#x2b24;</div><br /><span style=\"font-size:70%; color:#33AA33\">1.66 -</span></td></tr><td>1</td><td><span style=\"font-weight:bold;\">15/9-F-1 B</span></td><td>6/12&nbsp;curves</td><td>85</td><td style=\"background-color:#CCEECC; line-height:80%; padding:5px 4px 2px 4px;\">GR<div title=\"7/8\" style=\"font-size:80%; float:right; cursor: default; padding:4px 0px 4px 6px; color:#FFCC33;\">&#x2b24;</div><br /><span style=\"font-size:70%; color:#33AA33\">56.86 API</span></td><td style=\"background-color:#CCEECC; line-height:80%; padding:5px 4px 2px 4px;\">CALI<div title=\"4/4\" style=\"font-size:80%; float:right; cursor: default; padding:4px 0px 4px 6px; color:#33EE33;\">&#x2b24;</div><br /><span style=\"font-size:70%; color:#33AA33\">8.68 in</span></td><td style=\"background-color:#CCEECC; line-height:80%; padding:5px 4px 2px 4px;\">DEN<div title=\"5/6\" style=\"font-size:80%; float:right; cursor: default; padding:4px 0px 4px 6px; color:#FFCC33;\">&#x2b24;</div><br /><span style=\"font-size:70%; color:#33AA33\">2.45 -</span></td><td style=\"background-color:#CCEECC; line-height:80%; padding:5px 4px 2px 4px;\">NEU<div title=\"4/4\" style=\"font-size:80%; float:right; cursor: default; padding:4px 0px 4px 6px; color:#33EE33;\">&#x2b24;</div><br /><span style=\"font-size:70%; color:#33AA33\">0.20 -</span></td><td style=\"background-color:#CCEECC; line-height:80%; padding:5px 4px 2px 4px;\">AC<div title=\"5/7\" style=\"font-size:80%; float:right; cursor: default; padding:4px 0px 4px 6px; color:#FFCC33;\">&#x2b24;</div><br /><span style=\"font-size:70%; color:#33AA33\">80.38 µs/ft</span></td><td style=\"background-color:#CCEECC; line-height:80%; padding:5px 4px 2px 4px;\">RDEP<div title=\"3/4\" style=\"font-size:80%; float:right; cursor: default; padding:4px 0px 4px 6px; color:#FFCC33;\">&#x2b24;</div><br /><span style=\"font-size:70%; color:#33AA33\">1.56 -</span></td></tr><td>2</td><td><span style=\"font-weight:bold;\">15/9-F-1 C</span></td><td>5/10&nbsp;curves</td><td>85</td><td style=\"background-color:#CCEECC; line-height:80%; padding:5px 4px 2px 4px;\">GR<div title=\"6/8\" style=\"font-size:80%; float:right; cursor: default; padding:4px 0px 4px 6px; color:#FFCC33;\">&#x2b24;</div><br /><span style=\"font-size:70%; color:#33AA33\">50.38 API</span></td><td style=\"background-color:#CCEECC; line-height:80%; padding:5px 4px 2px 4px;\">CALI<div title=\"4/4\" style=\"font-size:80%; float:right; cursor: default; padding:4px 0px 4px 6px; color:#33EE33;\">&#x2b24;</div><br /><span style=\"font-size:70%; color:#33AA33\">8.54 in</span></td><td style=\"background-color:#CCEECC; line-height:80%; padding:5px 4px 2px 4px;\">DEN<div title=\"5/6\" style=\"font-size:80%; float:right; cursor: default; padding:4px 0px 4px 6px; color:#FFCC33;\">&#x2b24;</div><br /><span style=\"font-size:70%; color:#33AA33\">2.38 -</span></td><td style=\"background-color:#CCEECC; line-height:80%; padding:5px 4px 2px 4px;\">NEU<div title=\"4/4\" style=\"font-size:80%; float:right; cursor: default; padding:4px 0px 4px 6px; color:#33EE33;\">&#x2b24;</div><br /><span style=\"font-size:70%; color:#33AA33\">0.19 -</span></td><td style=\"background-color:#CCCCCC; line-height:80%; padding:5px 4px 2px 4px;\"><div title=\"\" style=\"font-size:80%; float:right; cursor: default; padding:4px 0px 4px 6px; color:#CCCCCC;\">&#x2b24;</div><br /><span style=\"font-size:70%; color:#33AA33\"> </span></td><td style=\"background-color:#CCEECC; line-height:80%; padding:5px 4px 2px 4px;\">RDEP<div title=\"3/4\" style=\"font-size:80%; float:right; cursor: default; padding:4px 0px 4px 6px; color:#FFCC33;\">&#x2b24;</div><br /><span style=\"font-size:70%; color:#33AA33\">8.63 -</span></td></tr><td>3</td><td><span style=\"font-weight:bold;\">15/9-F-1</span></td><td>6/11&nbsp;curves</td><td>82</td><td style=\"background-color:#CCEECC; line-height:80%; padding:5px 4px 2px 4px;\">GR<div title=\"6/8\" style=\"font-size:80%; float:right; cursor: default; padding:4px 0px 4px 6px; color:#FFCC33;\">&#x2b24;</div><br /><span style=\"font-size:70%; color:#33AA33\">58.72 API</span></td><td style=\"background-color:#CCEECC; line-height:80%; padding:5px 4px 2px 4px;\">CALI<div title=\"4/4\" style=\"font-size:80%; float:right; cursor: default; padding:4px 0px 4px 6px; color:#33EE33;\">&#x2b24;</div><br /><span style=\"font-size:70%; color:#33AA33\">8.59 in</span></td><td style=\"background-color:#CCEECC; line-height:80%; padding:5px 4px 2px 4px;\">DEN<div title=\"5/6\" style=\"font-size:80%; float:right; cursor: default; padding:4px 0px 4px 6px; color:#FFCC33;\">&#x2b24;</div><br /><span style=\"font-size:70%; color:#33AA33\">2.48 -</span></td><td style=\"background-color:#CCEECC; line-height:80%; padding:5px 4px 2px 4px;\">NEU<div title=\"4/4\" style=\"font-size:80%; float:right; cursor: default; padding:4px 0px 4px 6px; color:#33EE33;\">&#x2b24;</div><br /><span style=\"font-size:70%; color:#33AA33\">0.17 -</span></td><td style=\"background-color:#CCEECC; line-height:80%; padding:5px 4px 2px 4px;\">AC<div title=\"5/7\" style=\"font-size:80%; float:right; cursor: default; padding:4px 0px 4px 6px; color:#FFCC33;\">&#x2b24;</div><br /><span style=\"font-size:70%; color:#33AA33\">77.41 µs/ft</span></td><td style=\"background-color:#CCEECC; line-height:80%; padding:5px 4px 2px 4px;\">RDEP<div title=\"3/4\" style=\"font-size:80%; float:right; cursor: default; padding:4px 0px 4px 6px; color:#FFCC33;\">&#x2b24;</div><br /><span style=\"font-size:70%; color:#33AA33\">1.50 -</span></td></tr><td>4</td><td><span style=\"font-weight:bold;\">15/9-F-10</span></td><td>6/12&nbsp;curves</td><td>76</td><td style=\"background-color:#CCEECC; line-height:80%; padding:5px 4px 2px 4px;\">GR<div title=\"6/8\" style=\"font-size:80%; float:right; cursor: default; padding:4px 0px 4px 6px; color:#FFCC33;\">&#x2b24;</div><br /><span style=\"font-size:70%; color:#33AA33\">60.75 API</span></td><td style=\"background-color:#CCEECC; line-height:80%; padding:5px 4px 2px 4px;\">CALI<div title=\"3/4\" style=\"font-size:80%; float:right; cursor: default; padding:4px 0px 4px 6px; color:#FFCC33;\">&#x2b24;</div><br /><span style=\"font-size:70%; color:#33AA33\">8.40 in</span></td><td style=\"background-color:#CCEECC; line-height:80%; padding:5px 4px 2px 4px;\">DEN<div title=\"5/6\" style=\"font-size:80%; float:right; cursor: default; padding:4px 0px 4px 6px; color:#FFCC33;\">&#x2b24;</div><br /><span style=\"font-size:70%; color:#33AA33\">2.54 -</span></td><td style=\"background-color:#CCEECC; line-height:80%; padding:5px 4px 2px 4px;\">NEU<div title=\"3/4\" style=\"font-size:80%; float:right; cursor: default; padding:4px 0px 4px 6px; color:#FFCC33;\">&#x2b24;</div><br /><span style=\"font-size:70%; color:#33AA33\">0.20 -</span></td><td style=\"background-color:#CCEECC; line-height:80%; padding:5px 4px 2px 4px;\">AC<div title=\"5/7\" style=\"font-size:80%; float:right; cursor: default; padding:4px 0px 4px 6px; color:#FFCC33;\">&#x2b24;</div><br /><span style=\"font-size:70%; color:#33AA33\">66.11 µs/ft</span></td><td style=\"background-color:#CCEECC; line-height:80%; padding:5px 4px 2px 4px;\">RDEP<div title=\"3/4\" style=\"font-size:80%; float:right; cursor: default; padding:4px 0px 4px 6px; color:#FFCC33;\">&#x2b24;</div><br /><span style=\"font-size:70%; color:#33AA33\">11.63 -</span></td></tr><td>5</td><td><span style=\"font-weight:bold;\">15/9-F-11 A</span></td><td>6/12&nbsp;curves</td><td>82</td><td style=\"background-color:#CCEECC; line-height:80%; padding:5px 4px 2px 4px;\">GR<div title=\"6/8\" style=\"font-size:80%; float:right; cursor: default; padding:4px 0px 4px 6px; color:#FFCC33;\">&#x2b24;</div><br /><span style=\"font-size:70%; color:#33AA33\">52.28 API</span></td><td style=\"background-color:#CCEECC; line-height:80%; padding:5px 4px 2px 4px;\">CALI<div title=\"4/4\" style=\"font-size:80%; float:right; cursor: default; padding:4px 0px 4px 6px; color:#33EE33;\">&#x2b24;</div><br /><span style=\"font-size:70%; color:#33AA33\">8.63 in</span></td><td style=\"background-color:#CCEECC; line-height:80%; padding:5px 4px 2px 4px;\">DEN<div title=\"5/6\" style=\"font-size:80%; float:right; cursor: default; padding:4px 0px 4px 6px; color:#FFCC33;\">&#x2b24;</div><br /><span style=\"font-size:70%; color:#33AA33\">2.47 -</span></td><td style=\"background-color:#CCEECC; line-height:80%; padding:5px 4px 2px 4px;\">NEU<div title=\"4/4\" style=\"font-size:80%; float:right; cursor: default; padding:4px 0px 4px 6px; color:#33EE33;\">&#x2b24;</div><br /><span style=\"font-size:70%; color:#33AA33\">0.17 -</span></td><td style=\"background-color:#CCEECC; line-height:80%; padding:5px 4px 2px 4px;\">AC<div title=\"5/7\" style=\"font-size:80%; float:right; cursor: default; padding:4px 0px 4px 6px; color:#FFCC33;\">&#x2b24;</div><br /><span style=\"font-size:70%; color:#33AA33\">77.76 µs/ft</span></td><td style=\"background-color:#CCEECC; line-height:80%; padding:5px 4px 2px 4px;\">RDEP<div title=\"3/4\" style=\"font-size:80%; float:right; cursor: default; padding:4px 0px 4px 6px; color:#FFCC33;\">&#x2b24;</div><br /><span style=\"font-size:70%; color:#33AA33\">1.97 -</span></td></tr><td>6</td><td><span style=\"font-weight:bold;\">15/9-F-11 B</span></td><td>5/10&nbsp;curves</td><td>88</td><td style=\"background-color:#CCEECC; line-height:80%; padding:5px 4px 2px 4px;\">GR<div title=\"7/8\" style=\"font-size:80%; float:right; cursor: default; padding:4px 0px 4px 6px; color:#FFCC33;\">&#x2b24;</div><br /><span style=\"font-size:70%; color:#33AA33\">46.58 API</span></td><td style=\"background-color:#CCEECC; line-height:80%; padding:5px 4px 2px 4px;\">CALI<div title=\"4/4\" style=\"font-size:80%; float:right; cursor: default; padding:4px 0px 4px 6px; color:#33EE33;\">&#x2b24;</div><br /><span style=\"font-size:70%; color:#33AA33\">8.66 in</span></td><td style=\"background-color:#CCEECC; line-height:80%; padding:5px 4px 2px 4px;\">DEN<div title=\"5/6\" style=\"font-size:80%; float:right; cursor: default; padding:4px 0px 4px 6px; color:#FFCC33;\">&#x2b24;</div><br /><span style=\"font-size:70%; color:#33AA33\">2.40 -</span></td><td style=\"background-color:#CCEECC; line-height:80%; padding:5px 4px 2px 4px;\">NEU<div title=\"4/4\" style=\"font-size:80%; float:right; cursor: default; padding:4px 0px 4px 6px; color:#33EE33;\">&#x2b24;</div><br /><span style=\"font-size:70%; color:#33AA33\">0.18 -</span></td><td style=\"background-color:#CCCCCC; line-height:80%; padding:5px 4px 2px 4px;\"><div title=\"\" style=\"font-size:80%; float:right; cursor: default; padding:4px 0px 4px 6px; color:#CCCCCC;\">&#x2b24;</div><br /><span style=\"font-size:70%; color:#33AA33\"> </span></td><td style=\"background-color:#CCEECC; line-height:80%; padding:5px 4px 2px 4px;\">RDEP<div title=\"3/4\" style=\"font-size:80%; float:right; cursor: default; padding:4px 0px 4px 6px; color:#FFCC33;\">&#x2b24;</div><br /><span style=\"font-size:70%; color:#33AA33\">12.40 -</span></td></tr><td>7</td><td><span style=\"font-weight:bold;\">15/9-F-11</span></td><td>2/5&nbsp;curves</td><td>92</td><td style=\"background-color:#CCEECC; line-height:80%; padding:5px 4px 2px 4px;\">GR<div title=\"7/8\" style=\"font-size:80%; float:right; cursor: default; padding:4px 0px 4px 6px; color:#FFCC33;\">&#x2b24;</div><br /><span style=\"font-size:70%; color:#33AA33\">17.28 API</span></td><td style=\"background-color:#CCCCCC; line-height:80%; padding:5px 4px 2px 4px;\"><div title=\"\" style=\"font-size:80%; float:right; cursor: default; padding:4px 0px 4px 6px; color:#CCCCCC;\">&#x2b24;</div><br /><span style=\"font-size:70%; color:#33AA33\"> </span></td><td style=\"background-color:#CCCCCC; line-height:80%; padding:5px 4px 2px 4px;\"><div title=\"\" style=\"font-size:80%; float:right; cursor: default; padding:4px 0px 4px 6px; color:#CCCCCC;\">&#x2b24;</div><br /><span style=\"font-size:70%; color:#33AA33\"> </span></td><td style=\"background-color:#CCCCCC; line-height:80%; padding:5px 4px 2px 4px;\"><div title=\"\" style=\"font-size:80%; float:right; cursor: default; padding:4px 0px 4px 6px; color:#CCCCCC;\">&#x2b24;</div><br /><span style=\"font-size:70%; color:#33AA33\"> </span></td><td style=\"background-color:#CCCCCC; line-height:80%; padding:5px 4px 2px 4px;\"><div title=\"\" style=\"font-size:80%; float:right; cursor: default; padding:4px 0px 4px 6px; color:#CCCCCC;\">&#x2b24;</div><br /><span style=\"font-size:70%; color:#33AA33\"> </span></td><td style=\"background-color:#CCEECC; line-height:80%; padding:5px 4px 2px 4px;\">RDEP<div title=\"4/4\" style=\"font-size:80%; float:right; cursor: default; padding:4px 0px 4px 6px; color:#33EE33;\">&#x2b24;</div><br /><span style=\"font-size:70%; color:#33AA33\">0.86 -</span></td></tr><td>8</td><td><span style=\"font-weight:bold;\">15/9-F-5</span></td><td>6/11&nbsp;curves</td><td>79</td><td style=\"background-color:#CCEECC; line-height:80%; padding:5px 4px 2px 4px;\">GR<div title=\"6/8\" style=\"font-size:80%; float:right; cursor: default; padding:4px 0px 4px 6px; color:#FFCC33;\">&#x2b24;</div><br /><span style=\"font-size:70%; color:#33AA33\">71.39 API</span></td><td style=\"background-color:#CCEECC; line-height:80%; padding:5px 4px 2px 4px;\">CALI<div title=\"4/4\" style=\"font-size:80%; float:right; cursor: default; padding:4px 0px 4px 6px; color:#33EE33;\">&#x2b24;</div><br /><span style=\"font-size:70%; color:#33AA33\">8.51 in</span></td><td style=\"background-color:#CCEECC; line-height:80%; padding:5px 4px 2px 4px;\">DEN<div title=\"5/6\" style=\"font-size:80%; float:right; cursor: default; padding:4px 0px 4px 6px; color:#FFCC33;\">&#x2b24;</div><br /><span style=\"font-size:70%; color:#33AA33\">2.48 -</span></td><td style=\"background-color:#CCEECC; line-height:80%; padding:5px 4px 2px 4px;\">NEU<div title=\"3/4\" style=\"font-size:80%; float:right; cursor: default; padding:4px 0px 4px 6px; color:#FFCC33;\">&#x2b24;</div><br /><span style=\"font-size:70%; color:#33AA33\">0.17 -</span></td><td style=\"background-color:#CCEECC; line-height:80%; padding:5px 4px 2px 4px;\">AC<div title=\"5/7\" style=\"font-size:80%; float:right; cursor: default; padding:4px 0px 4px 6px; color:#FFCC33;\">&#x2b24;</div><br /><span style=\"font-size:70%; color:#33AA33\">76.25 µs/ft</span></td><td style=\"background-color:#CCEECC; line-height:80%; padding:5px 4px 2px 4px;\">RDEP<div title=\"3/4\" style=\"font-size:80%; float:right; cursor: default; padding:4px 0px 4px 6px; color:#FFCC33;\">&#x2b24;</div><br /><span style=\"font-size:70%; color:#33AA33\">10.25 -</span></td></tr><td>9</td><td><span style=\"font-weight:bold;\">15/9-F-9 A</span></td><td>2/5&nbsp;curves</td><td>83</td><td style=\"background-color:#CCEECC; line-height:80%; padding:5px 4px 2px 4px;\">GR<div title=\"6/8\" style=\"font-size:80%; float:right; cursor: default; padding:4px 0px 4px 6px; color:#FFCC33;\">&#x2b24;</div><br /><span style=\"font-size:70%; color:#33AA33\">159.69 API</span></td><td style=\"background-color:#CCCCCC; line-height:80%; padding:5px 4px 2px 4px;\"><div title=\"\" style=\"font-size:80%; float:right; cursor: default; padding:4px 0px 4px 6px; color:#CCCCCC;\">&#x2b24;</div><br /><span style=\"font-size:70%; color:#33AA33\"> </span></td><td style=\"background-color:#CCCCCC; line-height:80%; padding:5px 4px 2px 4px;\"><div title=\"\" style=\"font-size:80%; float:right; cursor: default; padding:4px 0px 4px 6px; color:#CCCCCC;\">&#x2b24;</div><br /><span style=\"font-size:70%; color:#33AA33\"> </span></td><td style=\"background-color:#CCCCCC; line-height:80%; padding:5px 4px 2px 4px;\"><div title=\"\" style=\"font-size:80%; float:right; cursor: default; padding:4px 0px 4px 6px; color:#CCCCCC;\">&#x2b24;</div><br /><span style=\"font-size:70%; color:#33AA33\"> </span></td><td style=\"background-color:#CCCCCC; line-height:80%; padding:5px 4px 2px 4px;\"><div title=\"\" style=\"font-size:80%; float:right; cursor: default; padding:4px 0px 4px 6px; color:#CCCCCC;\">&#x2b24;</div><br /><span style=\"font-size:70%; color:#33AA33\"> </span></td><td style=\"background-color:#CCEECC; line-height:80%; padding:5px 4px 2px 4px;\">RDEP<div title=\"4/4\" style=\"font-size:80%; float:right; cursor: default; padding:4px 0px 4px 6px; color:#33EE33;\">&#x2b24;</div><br /><span style=\"font-size:70%; color:#33AA33\">0.95 -</span></td></tr><td>10</td><td><span style=\"font-weight:bold;\">15/9-F-9</span></td><td>2/5&nbsp;curves</td><td>100</td><td style=\"background-color:#CCEECC; line-height:80%; padding:5px 4px 2px 4px;\">GR<div title=\"8/8\" style=\"font-size:80%; float:right; cursor: default; padding:4px 0px 4px 6px; color:#33EE33;\">&#x2b24;</div><br /><span style=\"font-size:70%; color:#33AA33\">36.64 API</span></td><td style=\"background-color:#CCCCCC; line-height:80%; padding:5px 4px 2px 4px;\"><div title=\"\" style=\"font-size:80%; float:right; cursor: default; padding:4px 0px 4px 6px; color:#CCCCCC;\">&#x2b24;</div><br /><span style=\"font-size:70%; color:#33AA33\"> </span></td><td style=\"background-color:#CCCCCC; line-height:80%; padding:5px 4px 2px 4px;\"><div title=\"\" style=\"font-size:80%; float:right; cursor: default; padding:4px 0px 4px 6px; color:#CCCCCC;\">&#x2b24;</div><br /><span style=\"font-size:70%; color:#33AA33\"> </span></td><td style=\"background-color:#CCCCCC; line-height:80%; padding:5px 4px 2px 4px;\"><div title=\"\" style=\"font-size:80%; float:right; cursor: default; padding:4px 0px 4px 6px; color:#CCCCCC;\">&#x2b24;</div><br /><span style=\"font-size:70%; color:#33AA33\"> </span></td><td style=\"background-color:#CCCCCC; line-height:80%; padding:5px 4px 2px 4px;\"><div title=\"\" style=\"font-size:80%; float:right; cursor: default; padding:4px 0px 4px 6px; color:#CCCCCC;\">&#x2b24;</div><br /><span style=\"font-size:70%; color:#33AA33\"> </span></td><td style=\"background-color:#CCEECC; line-height:80%; padding:5px 4px 2px 4px;\">RDEP<div title=\"4/4\" style=\"font-size:80%; float:right; cursor: default; padding:4px 0px 4px 6px; color:#33EE33;\">&#x2b24;</div><br /><span style=\"font-size:70%; color:#33AA33\">0.90 -</span></td></tr><td>11</td><td><span style=\"font-weight:bold;\">_15/9-F-11 T2</span></td><td>6/12&nbsp;curves</td><td>85</td><td style=\"background-color:#CCEECC; line-height:80%; padding:5px 4px 2px 4px;\">GR<div title=\"7/8\" style=\"font-size:80%; float:right; cursor: default; padding:4px 0px 4px 6px; color:#FFCC33;\">&#x2b24;</div><br /><span style=\"font-size:70%; color:#33AA33\">48.78 API</span></td><td style=\"background-color:#CCEECC; line-height:80%; padding:5px 4px 2px 4px;\">CALI<div title=\"4/4\" style=\"font-size:80%; float:right; cursor: default; padding:4px 0px 4px 6px; color:#33EE33;\">&#x2b24;</div><br /><span style=\"font-size:70%; color:#33AA33\">8.68 in</span></td><td style=\"background-color:#CCEECC; line-height:80%; padding:5px 4px 2px 4px;\">DEN<div title=\"5/6\" style=\"font-size:80%; float:right; cursor: default; padding:4px 0px 4px 6px; color:#FFCC33;\">&#x2b24;</div><br /><span style=\"font-size:70%; color:#33AA33\">2.50 -</span></td><td style=\"background-color:#CCEECC; line-height:80%; padding:5px 4px 2px 4px;\">NEU<div title=\"4/4\" style=\"font-size:80%; float:right; cursor: default; padding:4px 0px 4px 6px; color:#33EE33;\">&#x2b24;</div><br /><span style=\"font-size:70%; color:#33AA33\">0.15 -</span></td><td style=\"background-color:#CCEECC; line-height:80%; padding:5px 4px 2px 4px;\">AC<div title=\"5/7\" style=\"font-size:80%; float:right; cursor: default; padding:4px 0px 4px 6px; color:#FFCC33;\">&#x2b24;</div><br /><span style=\"font-size:70%; color:#33AA33\">75.51 µs/ft</span></td><td style=\"background-color:#CCEECC; line-height:80%; padding:5px 4px 2px 4px;\">RDEP<div title=\"3/4\" style=\"font-size:80%; float:right; cursor: default; padding:4px 0px 4px 6px; color:#FFCC33;\">&#x2b24;</div><br /><span style=\"font-size:70%; color:#33AA33\">2.22 -</span></td></tr></table>"
      ],
      "text/plain": [
       "<IPython.core.display.HTML object>"
      ]
     },
     "execution_count": 81,
     "metadata": {},
     "output_type": "execute_result"
    }
   ],
   "source": [
    "# Check curve quality by passing a test suite to the project, and making a quality table.\n",
    "# Uses a dictionary of tests:\n",
    "\n",
    "import welly.quality as qty\n",
    "\n",
    "tests = {\n",
    "    'All': [qty.no_similarities],\n",
    "    'Each': [\n",
    "        qty.no_flat,\n",
    "        qty.no_monotonic,\n",
    "        qty.no_gaps,\n",
    "    ],\n",
    "    'Gamma': [\n",
    "        qty.all_positive,\n",
    "        qty.all_below(450),\n",
    "        qty.mean_between(10, 100),\n",
    "        qty.check_units(['API', 'GAPI']),\n",
    "    ],\n",
    "    'Density': [\n",
    "        qty.mean_between(1000,3000),\n",
    "        qty.all_positive,\n",
    "    ],\n",
    "    'Sonic': [\n",
    "        qty.mean_between(180, 400),\n",
    "        qty.all_between(1, 10000),  # 1333 to 5000 m/s\n",
    "        qty.no_spikes(10),          # 10 spikes allowed\n",
    "    ],\n",
    "    }\n",
    "\n",
    "# Add tests for Caliper, Neutron, Resistivity\n",
    "\n",
    "p_composite_qty_html = p_composite.curve_table_html(keys=keys, alias=alias, tests=tests)\n",
    "HTML(p_composite_qty_html)\n",
    "\n",
    "# Note that you can, for individual wells, return a dictionary of curves in which \n",
    "# the values are dictionaries of test name: test result pairs (example in next section)"
   ]
  },
  {
   "cell_type": "markdown",
   "metadata": {},
   "source": [
    "Fix problems with curves. This part is not yet automated, so it's a fairly hands-on process."
   ]
  },
  {
   "cell_type": "raw",
   "metadata": {},
   "source": [
    "def fix_negs(c):\n",
    "    c[c < 0] = np.nan\n",
    "    return c\n",
    "\n",
    "# What is passed in as C? More in docs?\n",
    "\n",
    "# Glossing over some details, we give a mnemonic, a test\n",
    "# to apply, and the function to apply if the test fails.\n",
    "\n",
    "fix_curve_if_bad('GAM', qty.all_positive, fix_negs)"
   ]
  },
  {
   "cell_type": "code",
   "execution_count": 11,
   "metadata": {},
   "outputs": [
    {
     "name": "stdout",
     "output_type": "stream",
     "text": [
      "15/9-F-1 A 34861\n",
      "15/9-F-1 B 32681\n",
      "15/9-F-1 C 38960\n",
      "15/9-F-1 34351\n",
      "15/9-F-10 51551\n",
      "15/9-F-11 A 35737\n",
      "15/9-F-11 B 45821\n",
      "15/9-F-11 1583\n",
      "15/9-F-5 36046\n",
      "15/9-F-9 A 7906\n",
      "15/9-F-9 1834\n",
      "_15/9-F-11 T2 43733\n"
     ]
    },
    {
     "ename": "TypeError",
     "evalue": "cannot unpack non-iterable NoneType object",
     "output_type": "error",
     "traceback": [
      "\u001b[1;31m---------------------------------------------------------------------------\u001b[0m",
      "\u001b[1;31mTypeError\u001b[0m                                 Traceback (most recent call last)",
      "\u001b[1;32m<ipython-input-11-3b1037b50b6c>\u001b[0m in \u001b[0;36m<module>\u001b[1;34m\u001b[0m\n\u001b[0;32m      2\u001b[0m \u001b[1;31m# All ready for the machine learning task.\u001b[0m\u001b[1;33m\u001b[0m\u001b[1;33m\u001b[0m\u001b[1;33m\u001b[0m\u001b[0m\n\u001b[0;32m      3\u001b[0m \u001b[1;33m\u001b[0m\u001b[0m\n\u001b[1;32m----> 4\u001b[1;33m \u001b[0mX\u001b[0m\u001b[1;33m,\u001b[0m \u001b[0m_\u001b[0m \u001b[1;33m=\u001b[0m \u001b[0mp_composite\u001b[0m\u001b[1;33m.\u001b[0m\u001b[0mdata_as_matrix\u001b[0m\u001b[1;33m(\u001b[0m\u001b[0mX_keys\u001b[0m\u001b[1;33m=\u001b[0m\u001b[0mkeys\u001b[0m\u001b[1;33m,\u001b[0m \u001b[0mstep\u001b[0m\u001b[1;33m=\u001b[0m\u001b[1;36m0.1\u001b[0m\u001b[1;33m,\u001b[0m \u001b[0malias\u001b[0m\u001b[1;33m=\u001b[0m\u001b[0malias\u001b[0m\u001b[1;33m)\u001b[0m\u001b[1;33m\u001b[0m\u001b[1;33m\u001b[0m\u001b[0m\n\u001b[0m\u001b[0;32m      5\u001b[0m \u001b[1;33m\u001b[0m\u001b[0m\n\u001b[0;32m      6\u001b[0m \u001b[1;31m# produces TypeError: cannot unpack non-iterable NoneType object\u001b[0m\u001b[1;33m\u001b[0m\u001b[1;33m\u001b[0m\u001b[1;33m\u001b[0m\u001b[0m\n",
      "\u001b[1;31mTypeError\u001b[0m: cannot unpack non-iterable NoneType object"
     ]
    }
   ],
   "source": [
    "# The data can now be exported as a matrix, specifying a depth step for interpolation.\n",
    "# All ready for the machine learning task.\n",
    "    \n",
    "X, _ = p_composite.data_as_matrix(X_keys=keys, step=0.1, alias=alias)\n",
    "\n",
    "# produces TypeError: cannot unpack non-iterable NoneType object"
   ]
  },
  {
   "cell_type": "code",
   "execution_count": 12,
   "metadata": {},
   "outputs": [
    {
     "ename": "NameError",
     "evalue": "name 'X' is not defined",
     "output_type": "error",
     "traceback": [
      "\u001b[1;31m---------------------------------------------------------------------------\u001b[0m",
      "\u001b[1;31mNameError\u001b[0m                                 Traceback (most recent call last)",
      "\u001b[1;32m<ipython-input-12-83f8bb51e70f>\u001b[0m in \u001b[0;36m<module>\u001b[1;34m\u001b[0m\n\u001b[0;32m      1\u001b[0m \u001b[1;31m# We end up with a 2D array of log values\u001b[0m\u001b[1;33m\u001b[0m\u001b[1;33m\u001b[0m\u001b[1;33m\u001b[0m\u001b[0m\n\u001b[0;32m      2\u001b[0m \u001b[1;33m\u001b[0m\u001b[0m\n\u001b[1;32m----> 3\u001b[1;33m \u001b[0mX\u001b[0m\u001b[1;33m[\u001b[0m\u001b[1;33m:\u001b[0m\u001b[1;36m5\u001b[0m\u001b[1;33m]\u001b[0m\u001b[1;33m\u001b[0m\u001b[1;33m\u001b[0m\u001b[0m\n\u001b[0m",
      "\u001b[1;31mNameError\u001b[0m: name 'X' is not defined"
     ]
    }
   ],
   "source": [
    "# We end up with a 2D array of log values\n",
    "\n",
    "X[:5]"
   ]
  },
  {
   "cell_type": "markdown",
   "metadata": {},
   "source": [
    "### Individual well (15_9-19 SR)"
   ]
  },
  {
   "cell_type": "code",
   "execution_count": 14,
   "metadata": {},
   "outputs": [],
   "source": [
    "# Original Statoil file: STAT1990__30-1__15-9-19_SR__COMPOSITE__1.LAS\n",
    "# Export from IP: 15_9-19 SR.las\n",
    "\n",
    "w_1 = Well.from_las('input_data/composite/STAT1990__30-1__15-9-19_SR__COMPOSITE__1.LAS')\n",
    "w_2 = Well.from_las('input_data/composite/15_9-19 SR.las')\n",
    "\n",
    "# It doesn't seem to like loading from sub-directories?"
   ]
  },
  {
   "cell_type": "code",
   "execution_count": 15,
   "metadata": {},
   "outputs": [
    {
     "data": {
      "text/html": [
       "<table><tr><th style=\"text-align:center;\" colspan=\"2\">15/9-19<br><small></small></th></tr><tr><td><strong>td</strong></td><td>None</td></tr><tr><td><strong>crs</strong></td><td>CRS({})</td></tr><tr><td><strong>country</strong></td><td>NOR</td></tr><tr><td><strong>state</strong></td><td>NORWAY</td></tr><tr><td><strong>data</strong></td><td>AC, CALI, DEN, GR, NEU, RDEP, RMED</td></tr></table>"
      ],
      "text/plain": [
       "Well(uwi: '', 7 curves: ['AC', 'CALI', 'DEN', 'GR', 'NEU', 'RDEP', 'RMED'])"
      ]
     },
     "execution_count": 15,
     "metadata": {},
     "output_type": "execute_result"
    }
   ],
   "source": [
    "w_1 # Why no SR suffix?"
   ]
  },
  {
   "cell_type": "code",
   "execution_count": 16,
   "metadata": {},
   "outputs": [
    {
     "data": {
      "text/html": [
       "<table><tr><th style=\"text-align:center;\" colspan=\"2\">15/9-19 SR<br><small>2105</small></th></tr><tr><td><strong>td</strong></td><td>None</td></tr><tr><td><strong>crs</strong></td><td>CRS({})</td></tr><tr><td><strong>location</strong></td><td></td></tr><tr><td><strong>country</strong></td><td></td></tr><tr><td><strong>state</strong></td><td></td></tr><tr><td><strong>county</strong></td><td></td></tr><tr><td><strong>data</strong></td><td>AC, CALI, DEN, GR, NEU, RDEP, RMED</td></tr></table>"
      ],
      "text/plain": [
       "Well(uwi: '2105', 7 curves: ['CALI', 'RDEP', 'DEN', 'GR', 'RMED', 'NEU', 'AC'])"
      ]
     },
     "execution_count": 16,
     "metadata": {},
     "output_type": "execute_result"
    }
   ],
   "source": [
    "w_2 \n",
    "\n",
    "# Note that we lost some header information when exporting from IP\n",
    "# Lets try using Welly to populate some of these empty header fields like TD, CRS."
   ]
  },
  {
   "cell_type": "code",
   "execution_count": 19,
   "metadata": {},
   "outputs": [
    {
     "name": "stdout",
     "output_type": "stream",
     "text": [
      "Well(uwi: '', 7 curves: ['AC', 'CALI', 'DEN', 'GR', 'NEU', 'RDEP', 'RMED'])\n",
      "Well(uwi: '2105', 7 curves: ['CALI', 'RDEP', 'DEN', 'GR', 'RMED', 'NEU', 'AC'])\n"
     ]
    }
   ],
   "source": [
    "print(w_1)\n",
    "print(w_2)"
   ]
  },
  {
   "cell_type": "code",
   "execution_count": 20,
   "metadata": {},
   "outputs": [
    {
     "data": {
      "text/html": [
       "<div>\n",
       "<style scoped>\n",
       "    .dataframe tbody tr th:only-of-type {\n",
       "        vertical-align: middle;\n",
       "    }\n",
       "\n",
       "    .dataframe tbody tr th {\n",
       "        vertical-align: top;\n",
       "    }\n",
       "\n",
       "    .dataframe thead th {\n",
       "        text-align: right;\n",
       "    }\n",
       "</style>\n",
       "<table border=\"1\" class=\"dataframe\">\n",
       "  <thead>\n",
       "    <tr style=\"text-align: right;\">\n",
       "      <th></th>\n",
       "      <th>AC</th>\n",
       "      <th>CALI</th>\n",
       "      <th>DEN</th>\n",
       "      <th>GR</th>\n",
       "      <th>NEU</th>\n",
       "      <th>RDEP</th>\n",
       "      <th>RMED</th>\n",
       "    </tr>\n",
       "    <tr>\n",
       "      <th>Depth</th>\n",
       "      <th></th>\n",
       "      <th></th>\n",
       "      <th></th>\n",
       "      <th></th>\n",
       "      <th></th>\n",
       "      <th></th>\n",
       "      <th></th>\n",
       "    </tr>\n",
       "  </thead>\n",
       "  <tbody>\n",
       "    <tr>\n",
       "      <th>102.1568</th>\n",
       "      <td>NaN</td>\n",
       "      <td>NaN</td>\n",
       "      <td>NaN</td>\n",
       "      <td>5.3274</td>\n",
       "      <td>NaN</td>\n",
       "      <td>NaN</td>\n",
       "      <td>NaN</td>\n",
       "    </tr>\n",
       "    <tr>\n",
       "      <th>102.3092</th>\n",
       "      <td>NaN</td>\n",
       "      <td>NaN</td>\n",
       "      <td>NaN</td>\n",
       "      <td>5.8235</td>\n",
       "      <td>NaN</td>\n",
       "      <td>NaN</td>\n",
       "      <td>NaN</td>\n",
       "    </tr>\n",
       "    <tr>\n",
       "      <th>102.4616</th>\n",
       "      <td>NaN</td>\n",
       "      <td>NaN</td>\n",
       "      <td>NaN</td>\n",
       "      <td>6.5228</td>\n",
       "      <td>NaN</td>\n",
       "      <td>NaN</td>\n",
       "      <td>NaN</td>\n",
       "    </tr>\n",
       "    <tr>\n",
       "      <th>102.6140</th>\n",
       "      <td>NaN</td>\n",
       "      <td>NaN</td>\n",
       "      <td>NaN</td>\n",
       "      <td>7.2285</td>\n",
       "      <td>NaN</td>\n",
       "      <td>NaN</td>\n",
       "      <td>NaN</td>\n",
       "    </tr>\n",
       "    <tr>\n",
       "      <th>102.7664</th>\n",
       "      <td>NaN</td>\n",
       "      <td>NaN</td>\n",
       "      <td>NaN</td>\n",
       "      <td>9.5020</td>\n",
       "      <td>NaN</td>\n",
       "      <td>NaN</td>\n",
       "      <td>NaN</td>\n",
       "    </tr>\n",
       "  </tbody>\n",
       "</table>\n",
       "</div>"
      ],
      "text/plain": [
       "          AC  CALI  DEN      GR  NEU  RDEP  RMED\n",
       "Depth                                           \n",
       "102.1568 NaN   NaN  NaN  5.3274  NaN   NaN   NaN\n",
       "102.3092 NaN   NaN  NaN  5.8235  NaN   NaN   NaN\n",
       "102.4616 NaN   NaN  NaN  6.5228  NaN   NaN   NaN\n",
       "102.6140 NaN   NaN  NaN  7.2285  NaN   NaN   NaN\n",
       "102.7664 NaN   NaN  NaN  9.5020  NaN   NaN   NaN"
      ]
     },
     "execution_count": 20,
     "metadata": {},
     "output_type": "execute_result"
    }
   ],
   "source": [
    "w_1.df().head()"
   ]
  },
  {
   "cell_type": "code",
   "execution_count": 21,
   "metadata": {},
   "outputs": [
    {
     "data": {
      "image/png": "[encoded data removed]",
      "text/plain": [
       "<Figure size 1008x864 with 7 Axes>"
      ]
     },
     "metadata": {},
     "output_type": "display_data"
    }
   ],
   "source": [
    "w_1.plot()"
   ]
  },
  {
   "cell_type": "code",
   "execution_count": 22,
   "metadata": {},
   "outputs": [
    {
     "data": {
      "text/html": [
       "<table><tr><th style=\"text-align:center;\" colspan=\"2\">GR [GAPI]</th></tr><tr><td style=\"text-align:center;\" colspan=\"2\">102.1568 : 4636.5140 : 0.1524</td></tr><tr><td><strong>run</strong></td><td>None</td></tr><tr><td><strong>null</strong></td><td>-999.25</td></tr><tr><td><strong>service_company</strong></td><td>None</td></tr><tr><td><strong>date</strong></td><td>None</td></tr><tr><td><strong>code</strong></td><td></td></tr><tr><td><strong>description</strong></td><td>5  Gamma Ray</td></tr><tr><th style=\"border-top: 2px solid #000; text-align:center;\" colspan=\"2\"><strong>Stats</strong></th></tr><tr><td><strong>samples (NaNs)</strong></td><td>29754 (1637)</td></tr><tr><td><strong><sub>min</sub> mean <sup>max</sup></strong></td><td><sub>2.77</sub> 71.987 <sup>304.33</sup></td></tr><tr><th style=\"border-top: 2px solid #000;\">Depth</th><th style=\"border-top: 2px solid #000;\">Value</th></tr><tr><td>102.1568</td><td>5.3274</td></tr><tr><td>102.3092</td><td>5.8235</td></tr><tr><td>102.4616</td><td>6.5228</td></tr><tr><td>⋮</td><td>⋮</td></tr><tr><td>4636.2092</td><td>nan</td></tr><tr><td>4636.3616</td><td>nan</td></tr><tr><td>4636.5140</td><td>nan</td></tr></table>"
      ],
      "text/plain": [
       "Curve([5.3274, 5.8235, 6.5228, ...,    nan,    nan,    nan])"
      ]
     },
     "execution_count": 22,
     "metadata": {},
     "output_type": "execute_result"
    }
   ],
   "source": [
    "gr = w_1.data['GR']\n",
    "gr"
   ]
  },
  {
   "cell_type": "code",
   "execution_count": 23,
   "metadata": {},
   "outputs": [
    {
     "data": {
      "text/plain": [
       "array([ 102.1568,  102.3092,  102.4616, ..., 4636.2092, 4636.3616,\n",
       "       4636.514 ])"
      ]
     },
     "execution_count": 23,
     "metadata": {},
     "output_type": "execute_result"
    }
   ],
   "source": [
    "gr.basis"
   ]
  },
  {
   "cell_type": "code",
   "execution_count": 24,
   "metadata": {
    "scrolled": true
   },
   "outputs": [
    {
     "data": {
      "image/png": "[encoded data removed]",
      "text/plain": [
       "<Figure size 144x720 with 1 Axes>"
      ]
     },
     "metadata": {
      "needs_background": "light"
     },
     "output_type": "display_data"
    }
   ],
   "source": [
    "gr.to_basis(start=300, stop=1000).plot()"
   ]
  },
  {
   "cell_type": "code",
   "execution_count": 74,
   "metadata": {},
   "outputs": [
    {
     "data": {
      "image/png": "[encoded data removed]",
      "text/plain": [
       "<Figure size 864x864 with 6 Axes>"
      ]
     },
     "metadata": {},
     "output_type": "display_data"
    }
   ],
   "source": [
    "tracks = ['MD', 'GR', 'DEN', 'NEU', ['RMED', 'RDEP'], 'MD']\n",
    "w_1.plot(tracks=tracks)\n",
    "\n",
    "# AC, CALI, DEN, GR, NEU, RDEP, RMED"
   ]
  },
  {
   "cell_type": "code",
   "execution_count": 83,
   "metadata": {},
   "outputs": [
    {
     "data": {
      "text/plain": [
       "{'AC': {'no_flat': True,\n",
       "  'no_monotonic': True,\n",
       "  'no_gaps': True,\n",
       "  'mean_between': False,\n",
       "  'all_between': True,\n",
       "  'no_spikes': False,\n",
       "  'no_similarities': True},\n",
       " 'CALI': {'no_flat': True,\n",
       "  'no_monotonic': True,\n",
       "  'no_gaps': True,\n",
       "  'no_similarities': True},\n",
       " 'DEN': {'no_flat': True,\n",
       "  'no_monotonic': True,\n",
       "  'no_gaps': True,\n",
       "  'mean_between': False,\n",
       "  'all_positive': True,\n",
       "  'no_similarities': True},\n",
       " 'GR': {'no_flat': True,\n",
       "  'no_monotonic': True,\n",
       "  'no_gaps': False,\n",
       "  'all_positive': True,\n",
       "  'all_below': True,\n",
       "  'mean_between': True,\n",
       "  'check_units': True,\n",
       "  'no_similarities': True},\n",
       " 'NEU': {'no_flat': True,\n",
       "  'no_monotonic': True,\n",
       "  'no_gaps': True,\n",
       "  'no_similarities': True},\n",
       " 'RDEP': {'no_flat': True,\n",
       "  'no_monotonic': True,\n",
       "  'no_gaps': False,\n",
       "  'no_similarities': True},\n",
       " 'RMED': {'no_flat': True,\n",
       "  'no_monotonic': True,\n",
       "  'no_gaps': False,\n",
       "  'no_similarities': True}}"
      ]
     },
     "execution_count": 83,
     "metadata": {},
     "output_type": "execute_result"
    }
   ],
   "source": [
    "r = w_1.qc_data(tests, alias=alias)\n",
    "r\n",
    "\n",
    "# returns a dict of curves (values are dicts of test name: test result pairs)"
   ]
  },
  {
   "cell_type": "code",
   "execution_count": 84,
   "metadata": {},
   "outputs": [
    {
     "data": {
      "text/html": [
       "<table><tr><th>Curve</th><th>Passed</th><th>Score</th><th>no_flat</th><th>all_between</th><th>check_units</th><th>no_spikes</th><th>all_positive</th><th>no_similarities</th><th>no_monotonic</th><th>all_below</th><th>mean_between</th><th>no_gaps</th></tr><tr><th>AC</th><td>5 / 7</td><td>0.714</td><td style=\"background-color:#CCEECC;\">True</td><td style=\"background-color:#CCEECC;\">True</td><td style=\"background-color:#EEEEEE;\"></td><td style=\"background-color:#FFCCCC;\">False</td><td style=\"background-color:#EEEEEE;\"></td><td style=\"background-color:#CCEECC;\">True</td><td style=\"background-color:#CCEECC;\">True</td><td style=\"background-color:#EEEEEE;\"></td><td style=\"background-color:#FFCCCC;\">False</td><td style=\"background-color:#CCEECC;\">True</td></tr><tr><th>CALI</th><td>4 / 4</td><td>1.000</td><td style=\"background-color:#CCEECC;\">True</td><td style=\"background-color:#EEEEEE;\"></td><td style=\"background-color:#EEEEEE;\"></td><td style=\"background-color:#EEEEEE;\"></td><td style=\"background-color:#EEEEEE;\"></td><td style=\"background-color:#CCEECC;\">True</td><td style=\"background-color:#CCEECC;\">True</td><td style=\"background-color:#EEEEEE;\"></td><td style=\"background-color:#EEEEEE;\"></td><td style=\"background-color:#CCEECC;\">True</td></tr><tr><th>DEN</th><td>5 / 6</td><td>0.833</td><td style=\"background-color:#CCEECC;\">True</td><td style=\"background-color:#EEEEEE;\"></td><td style=\"background-color:#EEEEEE;\"></td><td style=\"background-color:#EEEEEE;\"></td><td style=\"background-color:#CCEECC;\">True</td><td style=\"background-color:#CCEECC;\">True</td><td style=\"background-color:#CCEECC;\">True</td><td style=\"background-color:#EEEEEE;\"></td><td style=\"background-color:#FFCCCC;\">False</td><td style=\"background-color:#CCEECC;\">True</td></tr><tr><th>GR</th><td>7 / 8</td><td>0.875</td><td style=\"background-color:#CCEECC;\">True</td><td style=\"background-color:#EEEEEE;\"></td><td style=\"background-color:#CCEECC;\">True</td><td style=\"background-color:#EEEEEE;\"></td><td style=\"background-color:#CCEECC;\">True</td><td style=\"background-color:#CCEECC;\">True</td><td style=\"background-color:#CCEECC;\">True</td><td style=\"background-color:#CCEECC;\">True</td><td style=\"background-color:#CCEECC;\">True</td><td style=\"background-color:#FFCCCC;\">False</td></tr><tr><th>NEU</th><td>4 / 4</td><td>1.000</td><td style=\"background-color:#CCEECC;\">True</td><td style=\"background-color:#EEEEEE;\"></td><td style=\"background-color:#EEEEEE;\"></td><td style=\"background-color:#EEEEEE;\"></td><td style=\"background-color:#EEEEEE;\"></td><td style=\"background-color:#CCEECC;\">True</td><td style=\"background-color:#CCEECC;\">True</td><td style=\"background-color:#EEEEEE;\"></td><td style=\"background-color:#EEEEEE;\"></td><td style=\"background-color:#CCEECC;\">True</td></tr><tr><th>RDEP</th><td>3 / 4</td><td>0.750</td><td style=\"background-color:#CCEECC;\">True</td><td style=\"background-color:#EEEEEE;\"></td><td style=\"background-color:#EEEEEE;\"></td><td style=\"background-color:#EEEEEE;\"></td><td style=\"background-color:#EEEEEE;\"></td><td style=\"background-color:#CCEECC;\">True</td><td style=\"background-color:#CCEECC;\">True</td><td style=\"background-color:#EEEEEE;\"></td><td style=\"background-color:#EEEEEE;\"></td><td style=\"background-color:#FFCCCC;\">False</td></tr><tr><th>RMED</th><td>3 / 4</td><td>0.750</td><td style=\"background-color:#CCEECC;\">True</td><td style=\"background-color:#EEEEEE;\"></td><td style=\"background-color:#EEEEEE;\"></td><td style=\"background-color:#EEEEEE;\"></td><td style=\"background-color:#EEEEEE;\"></td><td style=\"background-color:#CCEECC;\">True</td><td style=\"background-color:#CCEECC;\">True</td><td style=\"background-color:#EEEEEE;\"></td><td style=\"background-color:#EEEEEE;\"></td><td style=\"background-color:#FFCCCC;\">False</td></tr></table>"
      ],
      "text/plain": [
       "<IPython.core.display.HTML object>"
      ]
     },
     "execution_count": 84,
     "metadata": {},
     "output_type": "execute_result"
    }
   ],
   "source": [
    "# And an HTML table for rendering in Notebooks\n",
    "\n",
    "html = w_1.qc_table_html(tests, alias=alias)\n",
    "HTML(html)"
   ]
  },
  {
   "cell_type": "code",
   "execution_count": 87,
   "metadata": {},
   "outputs": [
    {
     "data": {
      "text/html": [
       "<div>\n",
       "<style scoped>\n",
       "    .dataframe tbody tr th:only-of-type {\n",
       "        vertical-align: middle;\n",
       "    }\n",
       "\n",
       "    .dataframe tbody tr th {\n",
       "        vertical-align: top;\n",
       "    }\n",
       "\n",
       "    .dataframe thead th {\n",
       "        text-align: right;\n",
       "    }\n",
       "</style>\n",
       "<table border=\"1\" class=\"dataframe\">\n",
       "  <thead>\n",
       "    <tr style=\"text-align: right;\">\n",
       "      <th></th>\n",
       "      <th>Gamma</th>\n",
       "      <th>Caliper</th>\n",
       "      <th>Density</th>\n",
       "      <th>Neutron</th>\n",
       "      <th>Sonic</th>\n",
       "      <th>Resistivity</th>\n",
       "    </tr>\n",
       "    <tr>\n",
       "      <th>Depth</th>\n",
       "      <th></th>\n",
       "      <th></th>\n",
       "      <th></th>\n",
       "      <th></th>\n",
       "      <th></th>\n",
       "      <th></th>\n",
       "    </tr>\n",
       "  </thead>\n",
       "  <tbody>\n",
       "    <tr>\n",
       "      <th>102.1568</th>\n",
       "      <td>5.3274</td>\n",
       "      <td>NaN</td>\n",
       "      <td>NaN</td>\n",
       "      <td>NaN</td>\n",
       "      <td>NaN</td>\n",
       "      <td>NaN</td>\n",
       "    </tr>\n",
       "    <tr>\n",
       "      <th>102.3092</th>\n",
       "      <td>5.8235</td>\n",
       "      <td>NaN</td>\n",
       "      <td>NaN</td>\n",
       "      <td>NaN</td>\n",
       "      <td>NaN</td>\n",
       "      <td>NaN</td>\n",
       "    </tr>\n",
       "    <tr>\n",
       "      <th>102.4616</th>\n",
       "      <td>6.5228</td>\n",
       "      <td>NaN</td>\n",
       "      <td>NaN</td>\n",
       "      <td>NaN</td>\n",
       "      <td>NaN</td>\n",
       "      <td>NaN</td>\n",
       "    </tr>\n",
       "    <tr>\n",
       "      <th>102.6140</th>\n",
       "      <td>7.2285</td>\n",
       "      <td>NaN</td>\n",
       "      <td>NaN</td>\n",
       "      <td>NaN</td>\n",
       "      <td>NaN</td>\n",
       "      <td>NaN</td>\n",
       "    </tr>\n",
       "    <tr>\n",
       "      <th>102.7664</th>\n",
       "      <td>9.5020</td>\n",
       "      <td>NaN</td>\n",
       "      <td>NaN</td>\n",
       "      <td>NaN</td>\n",
       "      <td>NaN</td>\n",
       "      <td>NaN</td>\n",
       "    </tr>\n",
       "    <tr>\n",
       "      <th>...</th>\n",
       "      <td>...</td>\n",
       "      <td>...</td>\n",
       "      <td>...</td>\n",
       "      <td>...</td>\n",
       "      <td>...</td>\n",
       "      <td>...</td>\n",
       "    </tr>\n",
       "    <tr>\n",
       "      <th>4635.9044</th>\n",
       "      <td>NaN</td>\n",
       "      <td>NaN</td>\n",
       "      <td>NaN</td>\n",
       "      <td>NaN</td>\n",
       "      <td>NaN</td>\n",
       "      <td>0.7729</td>\n",
       "    </tr>\n",
       "    <tr>\n",
       "      <th>4636.0568</th>\n",
       "      <td>NaN</td>\n",
       "      <td>NaN</td>\n",
       "      <td>NaN</td>\n",
       "      <td>NaN</td>\n",
       "      <td>NaN</td>\n",
       "      <td>0.8369</td>\n",
       "    </tr>\n",
       "    <tr>\n",
       "      <th>4636.2092</th>\n",
       "      <td>NaN</td>\n",
       "      <td>NaN</td>\n",
       "      <td>NaN</td>\n",
       "      <td>NaN</td>\n",
       "      <td>NaN</td>\n",
       "      <td>0.8741</td>\n",
       "    </tr>\n",
       "    <tr>\n",
       "      <th>4636.3616</th>\n",
       "      <td>NaN</td>\n",
       "      <td>NaN</td>\n",
       "      <td>NaN</td>\n",
       "      <td>NaN</td>\n",
       "      <td>NaN</td>\n",
       "      <td>0.9002</td>\n",
       "    </tr>\n",
       "    <tr>\n",
       "      <th>4636.5140</th>\n",
       "      <td>NaN</td>\n",
       "      <td>NaN</td>\n",
       "      <td>NaN</td>\n",
       "      <td>NaN</td>\n",
       "      <td>NaN</td>\n",
       "      <td>0.9133</td>\n",
       "    </tr>\n",
       "  </tbody>\n",
       "</table>\n",
       "<p>29754 rows × 6 columns</p>\n",
       "</div>"
      ],
      "text/plain": [
       "            Gamma  Caliper  Density  Neutron  Sonic  Resistivity\n",
       "Depth                                                           \n",
       "102.1568   5.3274      NaN      NaN      NaN    NaN          NaN\n",
       "102.3092   5.8235      NaN      NaN      NaN    NaN          NaN\n",
       "102.4616   6.5228      NaN      NaN      NaN    NaN          NaN\n",
       "102.6140   7.2285      NaN      NaN      NaN    NaN          NaN\n",
       "102.7664   9.5020      NaN      NaN      NaN    NaN          NaN\n",
       "...           ...      ...      ...      ...    ...          ...\n",
       "4635.9044     NaN      NaN      NaN      NaN    NaN       0.7729\n",
       "4636.0568     NaN      NaN      NaN      NaN    NaN       0.8369\n",
       "4636.2092     NaN      NaN      NaN      NaN    NaN       0.8741\n",
       "4636.3616     NaN      NaN      NaN      NaN    NaN       0.9002\n",
       "4636.5140     NaN      NaN      NaN      NaN    NaN       0.9133\n",
       "\n",
       "[29754 rows x 6 columns]"
      ]
     },
     "execution_count": 87,
     "metadata": {},
     "output_type": "execute_result"
    }
   ],
   "source": [
    "# Pandas with an alias dictionary\n",
    "w_1.df(keys=keys, alias=alias, rename_aliased=True)"
   ]
  },
  {
   "cell_type": "code",
   "execution_count": 88,
   "metadata": {},
   "outputs": [
    {
     "data": {
      "text/plain": [
       "array([[   nan,    nan,    nan, ...,    nan,    nan,    nan],\n",
       "       [   nan,    nan,    nan, ...,    nan,    nan,    nan],\n",
       "       [   nan,    nan,    nan, ...,    nan,    nan,    nan],\n",
       "       ...,\n",
       "       [   nan,    nan,    nan, ...,    nan, 0.8741, 0.6888],\n",
       "       [   nan,    nan,    nan, ...,    nan, 0.9002, 0.8902],\n",
       "       [   nan,    nan,    nan, ...,    nan, 0.9133, 1.0363]])"
      ]
     },
     "execution_count": 88,
     "metadata": {},
     "output_type": "execute_result"
    }
   ],
   "source": [
    "# Export curves to data matrix (makes a NumPy array)\n",
    "w_1.data_as_matrix()"
   ]
  },
  {
   "cell_type": "code",
   "execution_count": 93,
   "metadata": {},
   "outputs": [
    {
     "data": {
      "text/plain": [
       "array([[   nan,    nan,    nan, ...,    nan,    nan,    nan],\n",
       "       [   nan,    nan,    nan, ...,    nan,    nan,    nan],\n",
       "       [   nan,    nan,    nan, ...,    nan,    nan,    nan],\n",
       "       ...,\n",
       "       [   nan,    nan,    nan, ...,    nan, 0.8741, 0.6888],\n",
       "       [   nan,    nan,    nan, ...,    nan, 0.9002, 0.8902],\n",
       "       [   nan,    nan,    nan, ...,    nan, 0.9133, 1.0363]])"
      ]
     },
     "execution_count": 93,
     "metadata": {},
     "output_type": "execute_result"
    }
   ],
   "source": [
    "# Or similiarly\n",
    "w_1.df().values"
   ]
  },
  {
   "cell_type": "code",
   "execution_count": 94,
   "metadata": {},
   "outputs": [
    {
     "data": {
      "text/plain": [
       "array([ 102.1568,  102.3092,  102.4616, ..., 4636.2092, 4636.3616,\n",
       "       4636.514 ])"
      ]
     },
     "execution_count": 94,
     "metadata": {},
     "output_type": "execute_result"
    }
   ],
   "source": [
    "# Get depth values separately\n",
    "w_1.df().index.values"
   ]
  },
  {
   "cell_type": "code",
   "execution_count": 90,
   "metadata": {},
   "outputs": [
    {
     "data": {
      "text/html": [
       "<div>\n",
       "<style scoped>\n",
       "    .dataframe tbody tr th:only-of-type {\n",
       "        vertical-align: middle;\n",
       "    }\n",
       "\n",
       "    .dataframe tbody tr th {\n",
       "        vertical-align: top;\n",
       "    }\n",
       "\n",
       "    .dataframe thead th {\n",
       "        text-align: right;\n",
       "    }\n",
       "</style>\n",
       "<table border=\"1\" class=\"dataframe\">\n",
       "  <thead>\n",
       "    <tr style=\"text-align: right;\">\n",
       "      <th></th>\n",
       "      <th>AC</th>\n",
       "      <th>CALI</th>\n",
       "      <th>DEN</th>\n",
       "      <th>GR</th>\n",
       "      <th>NEU</th>\n",
       "      <th>RDEP</th>\n",
       "      <th>RMED</th>\n",
       "    </tr>\n",
       "    <tr>\n",
       "      <th>Depth</th>\n",
       "      <th></th>\n",
       "      <th></th>\n",
       "      <th></th>\n",
       "      <th></th>\n",
       "      <th></th>\n",
       "      <th></th>\n",
       "      <th></th>\n",
       "    </tr>\n",
       "  </thead>\n",
       "  <tbody>\n",
       "    <tr>\n",
       "      <th>102.1568</th>\n",
       "      <td>NaN</td>\n",
       "      <td>NaN</td>\n",
       "      <td>NaN</td>\n",
       "      <td>5.3274</td>\n",
       "      <td>NaN</td>\n",
       "      <td>NaN</td>\n",
       "      <td>NaN</td>\n",
       "    </tr>\n",
       "    <tr>\n",
       "      <th>102.3092</th>\n",
       "      <td>NaN</td>\n",
       "      <td>NaN</td>\n",
       "      <td>NaN</td>\n",
       "      <td>5.8235</td>\n",
       "      <td>NaN</td>\n",
       "      <td>NaN</td>\n",
       "      <td>NaN</td>\n",
       "    </tr>\n",
       "    <tr>\n",
       "      <th>102.4616</th>\n",
       "      <td>NaN</td>\n",
       "      <td>NaN</td>\n",
       "      <td>NaN</td>\n",
       "      <td>6.5228</td>\n",
       "      <td>NaN</td>\n",
       "      <td>NaN</td>\n",
       "      <td>NaN</td>\n",
       "    </tr>\n",
       "    <tr>\n",
       "      <th>102.6140</th>\n",
       "      <td>NaN</td>\n",
       "      <td>NaN</td>\n",
       "      <td>NaN</td>\n",
       "      <td>7.2285</td>\n",
       "      <td>NaN</td>\n",
       "      <td>NaN</td>\n",
       "      <td>NaN</td>\n",
       "    </tr>\n",
       "    <tr>\n",
       "      <th>102.7664</th>\n",
       "      <td>NaN</td>\n",
       "      <td>NaN</td>\n",
       "      <td>NaN</td>\n",
       "      <td>9.5020</td>\n",
       "      <td>NaN</td>\n",
       "      <td>NaN</td>\n",
       "      <td>NaN</td>\n",
       "    </tr>\n",
       "  </tbody>\n",
       "</table>\n",
       "</div>"
      ],
      "text/plain": [
       "          AC  CALI  DEN      GR  NEU  RDEP  RMED\n",
       "Depth                                           \n",
       "102.1568 NaN   NaN  NaN  5.3274  NaN   NaN   NaN\n",
       "102.3092 NaN   NaN  NaN  5.8235  NaN   NaN   NaN\n",
       "102.4616 NaN   NaN  NaN  6.5228  NaN   NaN   NaN\n",
       "102.6140 NaN   NaN  NaN  7.2285  NaN   NaN   NaN\n",
       "102.7664 NaN   NaN  NaN  9.5020  NaN   NaN   NaN"
      ]
     },
     "execution_count": 90,
     "metadata": {},
     "output_type": "execute_result"
    }
   ],
   "source": [
    "# Export curves to Pandas\n",
    "df = w_1.df()\n",
    "df.head()"
   ]
  },
  {
   "cell_type": "code",
   "execution_count": 97,
   "metadata": {},
   "outputs": [
    {
     "data": {
      "text/html": [
       "<div>\n",
       "<style scoped>\n",
       "    .dataframe tbody tr th:only-of-type {\n",
       "        vertical-align: middle;\n",
       "    }\n",
       "\n",
       "    .dataframe tbody tr th {\n",
       "        vertical-align: top;\n",
       "    }\n",
       "\n",
       "    .dataframe thead th {\n",
       "        text-align: right;\n",
       "    }\n",
       "</style>\n",
       "<table border=\"1\" class=\"dataframe\">\n",
       "  <thead>\n",
       "    <tr style=\"text-align: right;\">\n",
       "      <th></th>\n",
       "      <th></th>\n",
       "      <th>AC</th>\n",
       "      <th>CALI</th>\n",
       "      <th>DEN</th>\n",
       "      <th>GR</th>\n",
       "      <th>NEU</th>\n",
       "      <th>RDEP</th>\n",
       "      <th>RMED</th>\n",
       "    </tr>\n",
       "    <tr>\n",
       "      <th>UWI</th>\n",
       "      <th>Depth</th>\n",
       "      <th></th>\n",
       "      <th></th>\n",
       "      <th></th>\n",
       "      <th></th>\n",
       "      <th></th>\n",
       "      <th></th>\n",
       "      <th></th>\n",
       "    </tr>\n",
       "  </thead>\n",
       "  <tbody>\n",
       "    <tr>\n",
       "      <th rowspan=\"11\" valign=\"top\"></th>\n",
       "      <th>102.1568</th>\n",
       "      <td>NaN</td>\n",
       "      <td>NaN</td>\n",
       "      <td>NaN</td>\n",
       "      <td>5.3274</td>\n",
       "      <td>NaN</td>\n",
       "      <td>NaN</td>\n",
       "      <td>NaN</td>\n",
       "    </tr>\n",
       "    <tr>\n",
       "      <th>102.3092</th>\n",
       "      <td>NaN</td>\n",
       "      <td>NaN</td>\n",
       "      <td>NaN</td>\n",
       "      <td>5.8235</td>\n",
       "      <td>NaN</td>\n",
       "      <td>NaN</td>\n",
       "      <td>NaN</td>\n",
       "    </tr>\n",
       "    <tr>\n",
       "      <th>102.4616</th>\n",
       "      <td>NaN</td>\n",
       "      <td>NaN</td>\n",
       "      <td>NaN</td>\n",
       "      <td>6.5228</td>\n",
       "      <td>NaN</td>\n",
       "      <td>NaN</td>\n",
       "      <td>NaN</td>\n",
       "    </tr>\n",
       "    <tr>\n",
       "      <th>102.6140</th>\n",
       "      <td>NaN</td>\n",
       "      <td>NaN</td>\n",
       "      <td>NaN</td>\n",
       "      <td>7.2285</td>\n",
       "      <td>NaN</td>\n",
       "      <td>NaN</td>\n",
       "      <td>NaN</td>\n",
       "    </tr>\n",
       "    <tr>\n",
       "      <th>102.7664</th>\n",
       "      <td>NaN</td>\n",
       "      <td>NaN</td>\n",
       "      <td>NaN</td>\n",
       "      <td>9.5020</td>\n",
       "      <td>NaN</td>\n",
       "      <td>NaN</td>\n",
       "      <td>NaN</td>\n",
       "    </tr>\n",
       "    <tr>\n",
       "      <th>...</th>\n",
       "      <td>...</td>\n",
       "      <td>...</td>\n",
       "      <td>...</td>\n",
       "      <td>...</td>\n",
       "      <td>...</td>\n",
       "      <td>...</td>\n",
       "      <td>...</td>\n",
       "    </tr>\n",
       "    <tr>\n",
       "      <th>4635.9044</th>\n",
       "      <td>NaN</td>\n",
       "      <td>NaN</td>\n",
       "      <td>NaN</td>\n",
       "      <td>NaN</td>\n",
       "      <td>NaN</td>\n",
       "      <td>0.7729</td>\n",
       "      <td>0.5978</td>\n",
       "    </tr>\n",
       "    <tr>\n",
       "      <th>4636.0568</th>\n",
       "      <td>NaN</td>\n",
       "      <td>NaN</td>\n",
       "      <td>NaN</td>\n",
       "      <td>NaN</td>\n",
       "      <td>NaN</td>\n",
       "      <td>0.8369</td>\n",
       "      <td>0.6257</td>\n",
       "    </tr>\n",
       "    <tr>\n",
       "      <th>4636.2092</th>\n",
       "      <td>NaN</td>\n",
       "      <td>NaN</td>\n",
       "      <td>NaN</td>\n",
       "      <td>NaN</td>\n",
       "      <td>NaN</td>\n",
       "      <td>0.8741</td>\n",
       "      <td>0.6888</td>\n",
       "    </tr>\n",
       "    <tr>\n",
       "      <th>4636.3616</th>\n",
       "      <td>NaN</td>\n",
       "      <td>NaN</td>\n",
       "      <td>NaN</td>\n",
       "      <td>NaN</td>\n",
       "      <td>NaN</td>\n",
       "      <td>0.9002</td>\n",
       "      <td>0.8902</td>\n",
       "    </tr>\n",
       "    <tr>\n",
       "      <th>4636.5140</th>\n",
       "      <td>NaN</td>\n",
       "      <td>NaN</td>\n",
       "      <td>NaN</td>\n",
       "      <td>NaN</td>\n",
       "      <td>NaN</td>\n",
       "      <td>0.9133</td>\n",
       "      <td>1.0363</td>\n",
       "    </tr>\n",
       "  </tbody>\n",
       "</table>\n",
       "<p>29754 rows × 7 columns</p>\n",
       "</div>"
      ],
      "text/plain": [
       "               AC  CALI  DEN      GR  NEU    RDEP    RMED\n",
       "UWI Depth                                                \n",
       "    102.1568  NaN   NaN  NaN  5.3274  NaN     NaN     NaN\n",
       "    102.3092  NaN   NaN  NaN  5.8235  NaN     NaN     NaN\n",
       "    102.4616  NaN   NaN  NaN  6.5228  NaN     NaN     NaN\n",
       "    102.6140  NaN   NaN  NaN  7.2285  NaN     NaN     NaN\n",
       "    102.7664  NaN   NaN  NaN  9.5020  NaN     NaN     NaN\n",
       "...            ..   ...  ...     ...  ...     ...     ...\n",
       "    4635.9044 NaN   NaN  NaN     NaN  NaN  0.7729  0.5978\n",
       "    4636.0568 NaN   NaN  NaN     NaN  NaN  0.8369  0.6257\n",
       "    4636.2092 NaN   NaN  NaN     NaN  NaN  0.8741  0.6888\n",
       "    4636.3616 NaN   NaN  NaN     NaN  NaN  0.9002  0.8902\n",
       "    4636.5140 NaN   NaN  NaN     NaN  NaN  0.9133  1.0363\n",
       "\n",
       "[29754 rows x 7 columns]"
      ]
     },
     "execution_count": 97,
     "metadata": {},
     "output_type": "execute_result"
    }
   ],
   "source": [
    "# And to plot the df with UWI column (blank in this instance)\n",
    "df = w_1.df(uwi=True)\n",
    "df"
   ]
  },
  {
   "cell_type": "code",
   "execution_count": null,
   "metadata": {},
   "outputs": [],
   "source": []
  },
  {
   "cell_type": "code",
   "execution_count": null,
   "metadata": {},
   "outputs": [],
   "source": []
  },
  {
   "cell_type": "code",
   "execution_count": null,
   "metadata": {},
   "outputs": [],
   "source": []
  },
  {
   "cell_type": "markdown",
   "metadata": {},
   "source": [
    "## Volve - Petrophysical Interpretation logs"
   ]
  },
  {
   "cell_type": "code",
   "execution_count": 25,
   "metadata": {},
   "outputs": [
    {
     "name": "stdout",
     "output_type": "stream",
     "text": [
      "15_9-19_A_CPI.las\n",
      "15_9-19_BT2_CPI.las\n",
      "15_9-19_SR_CPI.las\n",
      "WLC_PETRO_COMPUTED_INPUT_1 - well 15_9-F-11.LAS\n",
      "WLC_PETRO_COMPUTED_OUTPUT_1 - well 15_9-F-1 A.LAS\n",
      "WLC_PETRO_COMPUTED_OUTPUT_1 - well 15_9-F-1 B.LAS\n",
      "WLC_PETRO_COMPUTED_OUTPUT_1 - well 15_9-F-1 C.LAS\n",
      "WLC_PETRO_COMPUTED_OUTPUT_1 - well 15_9-F-1.LAS\n",
      "WLC_PETRO_COMPUTED_OUTPUT_1 - well 15_9-F-11 A.LAS\n",
      "WLC_PETRO_COMPUTED_OUTPUT_1 - well 15_9-F-11 B.LAS\n",
      "WLC_PETRO_COMPUTED_OUTPUT_1 - well 15_9-F-11 T2.LAS\n",
      "WLC_PETRO_COMPUTED_OUTPUT_1 - well 15_9-F-12.LAS\n",
      "WLC_PETRO_COMPUTED_OUTPUT_1 - well 15_9-F-15 D.LAS\n"
     ]
    }
   ],
   "source": [
    "# List composite logs\n",
    "\n",
    "import os\n",
    "\n",
    "for root, dirs, files in os.walk(\"./input_data/ppinterp\"):\n",
    "    for filename in files:\n",
    "        print(filename)"
   ]
  },
  {
   "cell_type": "code",
   "execution_count": 26,
   "metadata": {},
   "outputs": [],
   "source": [
    "# Note that some wells only have ppinterp in DLIS:\n",
    "# 15_9-F-4\n",
    "# 15_9-F-5\n",
    "# 15_9-F-10\n",
    "# 15_9-F-14\n",
    "# 15_9-F-15\n",
    "# 15_9-F-15 A\n",
    "# 15_9-F-15 B\n",
    "# 15_9-F-15 C"
   ]
  },
  {
   "cell_type": "code",
   "execution_count": 27,
   "metadata": {},
   "outputs": [
    {
     "name": "stderr",
     "output_type": "stream",
     "text": [
      "2it [00:00,  3.21it/s]C:\\Users\\LBHAWZ\\AppData\\Local\\Continuum\\anaconda3\\lib\\site-packages\\welly\\curve.py:214: UserWarning: Irregular sampling in depth is not supported. Interpolating to regular basis.\n",
      "  warnings.warn(m)\n",
      "10it [00:02,  4.71it/s]Header section Parameter regexp=~P was not found.\n",
      "13it [00:02,  5.15it/s]\n"
     ]
    }
   ],
   "source": [
    "p_ppinterp = Project.from_las('input_data\\ppinterp\\*.las')\n",
    "\n",
    "# Bug? Warning \"regex=~P not found\" only occurs when files not in main directory"
   ]
  },
  {
   "cell_type": "code",
   "execution_count": 28,
   "metadata": {},
   "outputs": [
    {
     "data": {
      "text/html": [
       "<table><tr><th>Index</th><th>UWI</th><th>Data</th><th>Curves</th></tr><tr><td>0</td><td><strong></strong></td><td>23&nbsp;curves</td><td>BS, BVW, CARB_FLAG, COAL_FLAG, DELTA, GRMAX, GRMIN, J, KLHC_INT, KLOGH, M, N, PERF_FLAG, PHIF, PORD, RHOFL, RHOMA, RW, SAND_FLAG, SW, SWIRR, TEMP, VSH</td></tr><tr><td>1</td><td><strong></strong></td><td>13&nbsp;curves</td><td>BVW, CARB_FLAG, COAL_FLAG, KLOGH, KLOGV, PHIF, RHOFL, RHOMA, RW, SAND_FLAG, SW, TEMP, VSH</td></tr><tr><td>2</td><td><strong></strong></td><td>8&nbsp;curves</td><td>BWV, DT, KLOGH, KLOGV, PHIF, SAND_FLAG, SW, VSH</td></tr><tr><td>3</td><td><strong></strong></td><td>10&nbsp;curves</td><td>BS, GR, RACEHM, RACELM, RD, RM, ROP, RPCEHM, RPCELM, RT</td></tr><tr><td>4</td><td><strong></strong></td><td>8&nbsp;curves</td><td>BVW, COAL_FLAG, KLOGH, PHIF, SAND_FLAG, SW, VCARB, VSH</td></tr><tr><td>5</td><td><strong></strong></td><td>9&nbsp;curves</td><td>BVW, CARB_FLAG, COAL_FLAG, KLOGH, PHIF, SAND_FLAG, SW, VCARB, VSH</td></tr><tr><td>6</td><td><strong></strong></td><td>9&nbsp;curves</td><td>BADDATA_FLAG, BVW, COAL_FLAG, KLOGH, PHIF, SAND_FLAG, SW, VCARB, VSH</td></tr><tr><td>7</td><td><strong></strong></td><td>8&nbsp;curves</td><td>BVW, COAL_FLAG, KLOGH, PHIF, SAND_FLAG, SW, VCARB, VSH</td></tr><tr><td>8</td><td><strong></strong></td><td>8&nbsp;curves</td><td>BVW, CARB_FLAG, COAL_FLAG, KLOGH, PHIF, SAND_FLAG, SW, VSH</td></tr><tr><td>9</td><td><strong></strong></td><td>8&nbsp;curves</td><td>BVW, CARB_FLAG, COAL_FLAG, KLOGH, PHIF, SAND_FLAG, SW, VSH</td></tr><tr><td>10</td><td><strong></strong></td><td>8&nbsp;curves</td><td>BVW, CARB_FLAG, COAL_FLAG, KLOGH, PHIF, SAND_FLAG, SW, VSH</td></tr><tr><td>11</td><td><strong>NO 15/9-F-12</strong></td><td>5&nbsp;curves</td><td>BVW, KLOGH, PHIF, SW, VSH</td></tr><tr><td>12</td><td><strong></strong></td><td>8&nbsp;curves</td><td>BVW, COAL_FLAG, KLOGH, PHIF, SAND_FLAG, SW, VCARB, VSH</td></tr></table>"
      ],
      "text/plain": [
       "Project(13 wells: , , , , , , , , , , , NO 15/9-F-12, )"
      ]
     },
     "execution_count": 28,
     "metadata": {},
     "output_type": "execute_result"
    }
   ],
   "source": [
    "p_ppinterp\n",
    "\n",
    "# No UWIs? Checked .las files, no UWI in all but one. \n",
    "# Could add using Lasio (but would have to set one well at a time and re-import. No way to set values with Welly?)"
   ]
  },
  {
   "cell_type": "code",
   "execution_count": 29,
   "metadata": {},
   "outputs": [],
   "source": [
    "alias = {\n",
    "    'VSH': ['VSH'],\n",
    "    'SW': ['SW'],\n",
    "    'BVW': ['BVW'],\n",
    "    'SAND_FLAG': ['SAND_FLAG'],\n",
    "    'COAL_FLAG': ['COAL_FLAG'],\n",
    "    'CARB_FLAG': ['CARB_FLAG'],\n",
    "    'PHIF': ['PHIF'],\n",
    "    'KLOGH': ['KLOGH'],\n",
    "    'BAD DATA': ['BADDATA_FLAG']\n",
    "}"
   ]
  },
  {
   "cell_type": "code",
   "execution_count": 30,
   "metadata": {},
   "outputs": [],
   "source": [
    "keys = ['VSH', 'SW', 'BWV', 'PHIF', 'KLOGH', 'BAD DATA', 'SAND_FLAG', 'COAL_FLAG', 'CARB_FLAG']"
   ]
  },
  {
   "cell_type": "code",
   "execution_count": 40,
   "metadata": {},
   "outputs": [
    {
     "data": {
      "text/html": [
       "<table><tr><th>Idx</th><th>UWI</th><th>Data</th><th>Passing</th><th>VSH*</th><th>SW*</th><th>BWV</th><th>PHIF*</th><th>KLOGH*</th><th>BAD DATA*</th><th>SAND_FLAG*</th><th>COAL_FLAG*</th><th>CARB_FLAG*</th></tr><tr><td></td><td></td><td></td><td>%</td><td>12/13&nbsp;wells</td><td>12/13&nbsp;wells</td><td>1/13&nbsp;wells</td><td>12/13&nbsp;wells</td><td>12/13&nbsp;wells</td><td>1/13&nbsp;wells</td><td>11/13&nbsp;wells</td><td>10/13&nbsp;wells</td><td>6/13&nbsp;wells</td></tr><td>0</td><td><span style=\"font-weight:bold;\"></span></td><td>7/23&nbsp;curves</td><td>–</td><td style=\"background-color:#CCEECC; line-height:80%; padding:5px 4px 2px 4px;\">VSH<div title=\"0/0\" style=\"font-size:80%; float:right; cursor: default; padding:4px 0px 4px 6px; color:#AACCAA;\"></div><br /><span style=\"font-size:70%; color:#33AA33\">0.38 V/V</span></td><td style=\"background-color:#CCEECC; line-height:80%; padding:5px 4px 2px 4px;\">SW<div title=\"0/0\" style=\"font-size:80%; float:right; cursor: default; padding:4px 0px 4px 6px; color:#AACCAA;\"></div><br /><span style=\"font-size:70%; color:#33AA33\">0.63 V/V</span></td><td style=\"background-color:#CCCCCC; line-height:80%; padding:5px 4px 2px 4px;\"><div title=\"\" style=\"font-size:80%; float:right; cursor: default; padding:4px 0px 4px 6px; color:#CCCCCC;\"></div><br /><span style=\"font-size:70%; color:#33AA33\"> </span></td><td style=\"background-color:#CCEECC; line-height:80%; padding:5px 4px 2px 4px;\">PHIF<div title=\"0/0\" style=\"font-size:80%; float:right; cursor: default; padding:4px 0px 4px 6px; color:#AACCAA;\"></div><br /><span style=\"font-size:70%; color:#33AA33\">0.14 V/V</span></td><td style=\"background-color:#CCEECC; line-height:80%; padding:5px 4px 2px 4px;\">KLOGH<div title=\"0/0\" style=\"font-size:80%; float:right; cursor: default; padding:4px 0px 4px 6px; color:#AACCAA;\"></div><br /><span style=\"font-size:70%; color:#33AA33\">247.96 MD</span></td><td style=\"background-color:#CCCCCC; line-height:80%; padding:5px 4px 2px 4px;\"><div title=\"\" style=\"font-size:80%; float:right; cursor: default; padding:4px 0px 4px 6px; color:#CCCCCC;\"></div><br /><span style=\"font-size:70%; color:#33AA33\"> </span></td><td style=\"background-color:#CCEECC; line-height:80%; padding:5px 4px 2px 4px;\">SAND_FLAG<div title=\"0/0\" style=\"font-size:80%; float:right; cursor: default; padding:4px 0px 4px 6px; color:#AACCAA;\"></div><br /><span style=\"font-size:70%; color:#33AA33\">0.39 UNITLESS</span></td><td style=\"background-color:#CCEECC; line-height:80%; padding:5px 4px 2px 4px;\">COAL_FLAG<div title=\"0/0\" style=\"font-size:80%; float:right; cursor: default; padding:4px 0px 4px 6px; color:#AACCAA;\"></div><br /><span style=\"font-size:70%; color:#33AA33\">nan UNITLESS</span></td><td style=\"background-color:#CCEECC; line-height:80%; padding:5px 4px 2px 4px;\">CARB_FLAG<div title=\"0/0\" style=\"font-size:80%; float:right; cursor: default; padding:4px 0px 4px 6px; color:#AACCAA;\"></div><br /><span style=\"font-size:70%; color:#33AA33\">0.03 UNITLESS</span></td></tr><td>1</td><td><span style=\"font-weight:bold;\"></span></td><td>7/13&nbsp;curves</td><td>–</td><td style=\"background-color:#CCEECC; line-height:80%; padding:5px 4px 2px 4px;\">VSH<div title=\"0/0\" style=\"font-size:80%; float:right; cursor: default; padding:4px 0px 4px 6px; color:#AACCAA;\"></div><br /><span style=\"font-size:70%; color:#33AA33\">0.80 V/V</span></td><td style=\"background-color:#CCEECC; line-height:80%; padding:5px 4px 2px 4px;\">SW<div title=\"0/0\" style=\"font-size:80%; float:right; cursor: default; padding:4px 0px 4px 6px; color:#AACCAA;\"></div><br /><span style=\"font-size:70%; color:#33AA33\">0.85 V/V</span></td><td style=\"background-color:#CCCCCC; line-height:80%; padding:5px 4px 2px 4px;\"><div title=\"\" style=\"font-size:80%; float:right; cursor: default; padding:4px 0px 4px 6px; color:#CCCCCC;\"></div><br /><span style=\"font-size:70%; color:#33AA33\"> </span></td><td style=\"background-color:#CCEECC; line-height:80%; padding:5px 4px 2px 4px;\">PHIF<div title=\"0/0\" style=\"font-size:80%; float:right; cursor: default; padding:4px 0px 4px 6px; color:#AACCAA;\"></div><br /><span style=\"font-size:70%; color:#33AA33\">0.14 V/V</span></td><td style=\"background-color:#CCEECC; line-height:80%; padding:5px 4px 2px 4px;\">KLOGH<div title=\"0/0\" style=\"font-size:80%; float:right; cursor: default; padding:4px 0px 4px 6px; color:#AACCAA;\"></div><br /><span style=\"font-size:70%; color:#33AA33\">167.38 MD</span></td><td style=\"background-color:#CCCCCC; line-height:80%; padding:5px 4px 2px 4px;\"><div title=\"\" style=\"font-size:80%; float:right; cursor: default; padding:4px 0px 4px 6px; color:#CCCCCC;\"></div><br /><span style=\"font-size:70%; color:#33AA33\"> </span></td><td style=\"background-color:#CCEECC; line-height:80%; padding:5px 4px 2px 4px;\">SAND_FLAG<div title=\"0/0\" style=\"font-size:80%; float:right; cursor: default; padding:4px 0px 4px 6px; color:#AACCAA;\"></div><br /><span style=\"font-size:70%; color:#33AA33\">0.34 UNITLESS</span></td><td style=\"background-color:#CCEECC; line-height:80%; padding:5px 4px 2px 4px;\">COAL_FLAG<div title=\"0/0\" style=\"font-size:80%; float:right; cursor: default; padding:4px 0px 4px 6px; color:#AACCAA;\"></div><br /><span style=\"font-size:70%; color:#33AA33\">0.01 UNITLESS</span></td><td style=\"background-color:#CCEECC; line-height:80%; padding:5px 4px 2px 4px;\">CARB_FLAG<div title=\"0/0\" style=\"font-size:80%; float:right; cursor: default; padding:4px 0px 4px 6px; color:#AACCAA;\"></div><br /><span style=\"font-size:70%; color:#33AA33\">0.03 UNITLESS</span></td></tr><td>2</td><td><span style=\"font-weight:bold;\"></span></td><td>6/8&nbsp;curves</td><td>–</td><td style=\"background-color:#CCEECC; line-height:80%; padding:5px 4px 2px 4px;\">VSH<div title=\"0/0\" style=\"font-size:80%; float:right; cursor: default; padding:4px 0px 4px 6px; color:#AACCAA;\"></div><br /><span style=\"font-size:70%; color:#33AA33\">0.39 V/V</span></td><td style=\"background-color:#CCEECC; line-height:80%; padding:5px 4px 2px 4px;\">SW<div title=\"0/0\" style=\"font-size:80%; float:right; cursor: default; padding:4px 0px 4px 6px; color:#AACCAA;\"></div><br /><span style=\"font-size:70%; color:#33AA33\">0.96 V/V</span></td><td style=\"background-color:#CCEECC; line-height:80%; padding:5px 4px 2px 4px;\">BWV<div title=\"0/0\" style=\"font-size:80%; float:right; cursor: default; padding:4px 0px 4px 6px; color:#AACCAA;\"></div><br /><span style=\"font-size:70%; color:#33AA33\">0.10 </span></td><td style=\"background-color:#CCEECC; line-height:80%; padding:5px 4px 2px 4px;\">PHIF<div title=\"0/0\" style=\"font-size:80%; float:right; cursor: default; padding:4px 0px 4px 6px; color:#AACCAA;\"></div><br /><span style=\"font-size:70%; color:#33AA33\">0.11 V/V</span></td><td style=\"background-color:#CCEECC; line-height:80%; padding:5px 4px 2px 4px;\">KLOGH<div title=\"0/0\" style=\"font-size:80%; float:right; cursor: default; padding:4px 0px 4px 6px; color:#AACCAA;\"></div><br /><span style=\"font-size:70%; color:#33AA33\">1849.44 MD</span></td><td style=\"background-color:#CCCCCC; line-height:80%; padding:5px 4px 2px 4px;\"><div title=\"\" style=\"font-size:80%; float:right; cursor: default; padding:4px 0px 4px 6px; color:#CCCCCC;\"></div><br /><span style=\"font-size:70%; color:#33AA33\"> </span></td><td style=\"background-color:#CCEECC; line-height:80%; padding:5px 4px 2px 4px;\">SAND_FLAG<div title=\"0/0\" style=\"font-size:80%; float:right; cursor: default; padding:4px 0px 4px 6px; color:#AACCAA;\"></div><br /><span style=\"font-size:70%; color:#33AA33\">0.27 UNITLESS</span></td><td style=\"background-color:#CCCCCC; line-height:80%; padding:5px 4px 2px 4px;\"><div title=\"\" style=\"font-size:80%; float:right; cursor: default; padding:4px 0px 4px 6px; color:#CCCCCC;\"></div><br /><span style=\"font-size:70%; color:#33AA33\"> </span></td><td style=\"background-color:#CCCCCC; line-height:80%; padding:5px 4px 2px 4px;\"><div title=\"\" style=\"font-size:80%; float:right; cursor: default; padding:4px 0px 4px 6px; color:#CCCCCC;\"></div><br /><span style=\"font-size:70%; color:#33AA33\"> </span></td></tr><td>3</td><td><span style=\"font-weight:bold;\"></span></td><td>0/10&nbsp;curves</td><td>–</td><td style=\"background-color:#CCCCCC; line-height:80%; padding:5px 4px 2px 4px;\"><div title=\"\" style=\"font-size:80%; float:right; cursor: default; padding:4px 0px 4px 6px; color:#CCCCCC;\"></div><br /><span style=\"font-size:70%; color:#33AA33\"> </span></td><td style=\"background-color:#CCCCCC; line-height:80%; padding:5px 4px 2px 4px;\"><div title=\"\" style=\"font-size:80%; float:right; cursor: default; padding:4px 0px 4px 6px; color:#CCCCCC;\"></div><br /><span style=\"font-size:70%; color:#33AA33\"> </span></td><td style=\"background-color:#CCCCCC; line-height:80%; padding:5px 4px 2px 4px;\"><div title=\"\" style=\"font-size:80%; float:right; cursor: default; padding:4px 0px 4px 6px; color:#CCCCCC;\"></div><br /><span style=\"font-size:70%; color:#33AA33\"> </span></td><td style=\"background-color:#CCCCCC; line-height:80%; padding:5px 4px 2px 4px;\"><div title=\"\" style=\"font-size:80%; float:right; cursor: default; padding:4px 0px 4px 6px; color:#CCCCCC;\"></div><br /><span style=\"font-size:70%; color:#33AA33\"> </span></td><td style=\"background-color:#CCCCCC; line-height:80%; padding:5px 4px 2px 4px;\"><div title=\"\" style=\"font-size:80%; float:right; cursor: default; padding:4px 0px 4px 6px; color:#CCCCCC;\"></div><br /><span style=\"font-size:70%; color:#33AA33\"> </span></td><td style=\"background-color:#CCCCCC; line-height:80%; padding:5px 4px 2px 4px;\"><div title=\"\" style=\"font-size:80%; float:right; cursor: default; padding:4px 0px 4px 6px; color:#CCCCCC;\"></div><br /><span style=\"font-size:70%; color:#33AA33\"> </span></td><td style=\"background-color:#CCCCCC; line-height:80%; padding:5px 4px 2px 4px;\"><div title=\"\" style=\"font-size:80%; float:right; cursor: default; padding:4px 0px 4px 6px; color:#CCCCCC;\"></div><br /><span style=\"font-size:70%; color:#33AA33\"> </span></td><td style=\"background-color:#CCCCCC; line-height:80%; padding:5px 4px 2px 4px;\"><div title=\"\" style=\"font-size:80%; float:right; cursor: default; padding:4px 0px 4px 6px; color:#CCCCCC;\"></div><br /><span style=\"font-size:70%; color:#33AA33\"> </span></td><td style=\"background-color:#CCCCCC; line-height:80%; padding:5px 4px 2px 4px;\"><div title=\"\" style=\"font-size:80%; float:right; cursor: default; padding:4px 0px 4px 6px; color:#CCCCCC;\"></div><br /><span style=\"font-size:70%; color:#33AA33\"> </span></td></tr><td>4</td><td><span style=\"font-weight:bold;\"></span></td><td>6/8&nbsp;curves</td><td>–</td><td style=\"background-color:#CCEECC; line-height:80%; padding:5px 4px 2px 4px;\">VSH<div title=\"0/0\" style=\"font-size:80%; float:right; cursor: default; padding:4px 0px 4px 6px; color:#AACCAA;\"></div><br /><span style=\"font-size:70%; color:#33AA33\">0.52 V/V</span></td><td style=\"background-color:#CCEECC; line-height:80%; padding:5px 4px 2px 4px;\">SW<div title=\"0/0\" style=\"font-size:80%; float:right; cursor: default; padding:4px 0px 4px 6px; color:#AACCAA;\"></div><br /><span style=\"font-size:70%; color:#33AA33\">0.96 V/V</span></td><td style=\"background-color:#CCCCCC; line-height:80%; padding:5px 4px 2px 4px;\"><div title=\"\" style=\"font-size:80%; float:right; cursor: default; padding:4px 0px 4px 6px; color:#CCCCCC;\"></div><br /><span style=\"font-size:70%; color:#33AA33\"> </span></td><td style=\"background-color:#CCEECC; line-height:80%; padding:5px 4px 2px 4px;\">PHIF<div title=\"0/0\" style=\"font-size:80%; float:right; cursor: default; padding:4px 0px 4px 6px; color:#AACCAA;\"></div><br /><span style=\"font-size:70%; color:#33AA33\">0.09 V/V</span></td><td style=\"background-color:#CCEECC; line-height:80%; padding:5px 4px 2px 4px;\">KLOGH<div title=\"0/0\" style=\"font-size:80%; float:right; cursor: default; padding:4px 0px 4px 6px; color:#AACCAA;\"></div><br /><span style=\"font-size:70%; color:#33AA33\">52.71 mD</span></td><td style=\"background-color:#CCCCCC; line-height:80%; padding:5px 4px 2px 4px;\"><div title=\"\" style=\"font-size:80%; float:right; cursor: default; padding:4px 0px 4px 6px; color:#CCCCCC;\"></div><br /><span style=\"font-size:70%; color:#33AA33\"> </span></td><td style=\"background-color:#CCEECC; line-height:80%; padding:5px 4px 2px 4px;\">SAND_FLAG<div title=\"0/0\" style=\"font-size:80%; float:right; cursor: default; padding:4px 0px 4px 6px; color:#AACCAA;\"></div><br /><span style=\"font-size:70%; color:#33AA33\">0.44 unitless</span></td><td style=\"background-color:#CCEECC; line-height:80%; padding:5px 4px 2px 4px;\">COAL_FLAG<div title=\"0/0\" style=\"font-size:80%; float:right; cursor: default; padding:4px 0px 4px 6px; color:#AACCAA;\"></div><br /><span style=\"font-size:70%; color:#33AA33\">nan unitless</span></td><td style=\"background-color:#CCCCCC; line-height:80%; padding:5px 4px 2px 4px;\"><div title=\"\" style=\"font-size:80%; float:right; cursor: default; padding:4px 0px 4px 6px; color:#CCCCCC;\"></div><br /><span style=\"font-size:70%; color:#33AA33\"> </span></td></tr><td>5</td><td><span style=\"font-weight:bold;\"></span></td><td>7/9&nbsp;curves</td><td>–</td><td style=\"background-color:#CCEECC; line-height:80%; padding:5px 4px 2px 4px;\">VSH<div title=\"0/0\" style=\"font-size:80%; float:right; cursor: default; padding:4px 0px 4px 6px; color:#AACCAA;\"></div><br /><span style=\"font-size:70%; color:#33AA33\">0.36 V/V</span></td><td style=\"background-color:#CCEECC; line-height:80%; padding:5px 4px 2px 4px;\">SW<div title=\"0/0\" style=\"font-size:80%; float:right; cursor: default; padding:4px 0px 4px 6px; color:#AACCAA;\"></div><br /><span style=\"font-size:70%; color:#33AA33\">0.83 V/V</span></td><td style=\"background-color:#CCCCCC; line-height:80%; padding:5px 4px 2px 4px;\"><div title=\"\" style=\"font-size:80%; float:right; cursor: default; padding:4px 0px 4px 6px; color:#CCCCCC;\"></div><br /><span style=\"font-size:70%; color:#33AA33\"> </span></td><td style=\"background-color:#CCEECC; line-height:80%; padding:5px 4px 2px 4px;\">PHIF<div title=\"0/0\" style=\"font-size:80%; float:right; cursor: default; padding:4px 0px 4px 6px; color:#AACCAA;\"></div><br /><span style=\"font-size:70%; color:#33AA33\">0.12 V/V</span></td><td style=\"background-color:#CCEECC; line-height:80%; padding:5px 4px 2px 4px;\">KLOGH<div title=\"0/0\" style=\"font-size:80%; float:right; cursor: default; padding:4px 0px 4px 6px; color:#AACCAA;\"></div><br /><span style=\"font-size:70%; color:#33AA33\">234.62 mD</span></td><td style=\"background-color:#CCCCCC; line-height:80%; padding:5px 4px 2px 4px;\"><div title=\"\" style=\"font-size:80%; float:right; cursor: default; padding:4px 0px 4px 6px; color:#CCCCCC;\"></div><br /><span style=\"font-size:70%; color:#33AA33\"> </span></td><td style=\"background-color:#CCEECC; line-height:80%; padding:5px 4px 2px 4px;\">SAND_FLAG<div title=\"0/0\" style=\"font-size:80%; float:right; cursor: default; padding:4px 0px 4px 6px; color:#AACCAA;\"></div><br /><span style=\"font-size:70%; color:#33AA33\">0.50 UNITLESS</span></td><td style=\"background-color:#CCEECC; line-height:80%; padding:5px 4px 2px 4px;\">COAL_FLAG<div title=\"0/0\" style=\"font-size:80%; float:right; cursor: default; padding:4px 0px 4px 6px; color:#AACCAA;\"></div><br /><span style=\"font-size:70%; color:#33AA33\">nan UNITLESS</span></td><td style=\"background-color:#CCEECC; line-height:80%; padding:5px 4px 2px 4px;\">CARB_FLAG<div title=\"0/0\" style=\"font-size:80%; float:right; cursor: default; padding:4px 0px 4px 6px; color:#AACCAA;\"></div><br /><span style=\"font-size:70%; color:#33AA33\">0.04 V/V</span></td></tr><td>6</td><td><span style=\"font-weight:bold;\"></span></td><td>7/9&nbsp;curves</td><td>–</td><td style=\"background-color:#CCEECC; line-height:80%; padding:5px 4px 2px 4px;\">VSH<div title=\"0/0\" style=\"font-size:80%; float:right; cursor: default; padding:4px 0px 4px 6px; color:#AACCAA;\"></div><br /><span style=\"font-size:70%; color:#33AA33\">0.31 v/v</span></td><td style=\"background-color:#CCEECC; line-height:80%; padding:5px 4px 2px 4px;\">SW<div title=\"0/0\" style=\"font-size:80%; float:right; cursor: default; padding:4px 0px 4px 6px; color:#AACCAA;\"></div><br /><span style=\"font-size:70%; color:#33AA33\">0.49 v/v</span></td><td style=\"background-color:#CCCCCC; line-height:80%; padding:5px 4px 2px 4px;\"><div title=\"\" style=\"font-size:80%; float:right; cursor: default; padding:4px 0px 4px 6px; color:#CCCCCC;\"></div><br /><span style=\"font-size:70%; color:#33AA33\"> </span></td><td style=\"background-color:#CCEECC; line-height:80%; padding:5px 4px 2px 4px;\">PHIF<div title=\"0/0\" style=\"font-size:80%; float:right; cursor: default; padding:4px 0px 4px 6px; color:#AACCAA;\"></div><br /><span style=\"font-size:70%; color:#33AA33\">0.18 v/v</span></td><td style=\"background-color:#CCEECC; line-height:80%; padding:5px 4px 2px 4px;\">KLOGH<div title=\"0/0\" style=\"font-size:80%; float:right; cursor: default; padding:4px 0px 4px 6px; color:#AACCAA;\"></div><br /><span style=\"font-size:70%; color:#33AA33\">459.24 mD</span></td><td style=\"background-color:#CCEECC; line-height:80%; padding:5px 4px 2px 4px;\">BADDATA_FLAG<div title=\"0/0\" style=\"font-size:80%; float:right; cursor: default; padding:4px 0px 4px 6px; color:#AACCAA;\"></div><br /><span style=\"font-size:70%; color:#33AA33\">0.00 unitless</span></td><td style=\"background-color:#CCEECC; line-height:80%; padding:5px 4px 2px 4px;\">SAND_FLAG<div title=\"0/0\" style=\"font-size:80%; float:right; cursor: default; padding:4px 0px 4px 6px; color:#AACCAA;\"></div><br /><span style=\"font-size:70%; color:#33AA33\">0.73 unitless</span></td><td style=\"background-color:#CCEECC; line-height:80%; padding:5px 4px 2px 4px;\">COAL_FLAG<div title=\"0/0\" style=\"font-size:80%; float:right; cursor: default; padding:4px 0px 4px 6px; color:#AACCAA;\"></div><br /><span style=\"font-size:70%; color:#33AA33\">nan unitless</span></td><td style=\"background-color:#CCCCCC; line-height:80%; padding:5px 4px 2px 4px;\"><div title=\"\" style=\"font-size:80%; float:right; cursor: default; padding:4px 0px 4px 6px; color:#CCCCCC;\"></div><br /><span style=\"font-size:70%; color:#33AA33\"> </span></td></tr><td>7</td><td><span style=\"font-weight:bold;\"></span></td><td>6/8&nbsp;curves</td><td>–</td><td style=\"background-color:#CCEECC; line-height:80%; padding:5px 4px 2px 4px;\">VSH<div title=\"0/0\" style=\"font-size:80%; float:right; cursor: default; padding:4px 0px 4px 6px; color:#AACCAA;\"></div><br /><span style=\"font-size:70%; color:#33AA33\">0.53 V/V</span></td><td style=\"background-color:#CCEECC; line-height:80%; padding:5px 4px 2px 4px;\">SW<div title=\"0/0\" style=\"font-size:80%; float:right; cursor: default; padding:4px 0px 4px 6px; color:#AACCAA;\"></div><br /><span style=\"font-size:70%; color:#33AA33\">0.99 V/V</span></td><td style=\"background-color:#CCCCCC; line-height:80%; padding:5px 4px 2px 4px;\"><div title=\"\" style=\"font-size:80%; float:right; cursor: default; padding:4px 0px 4px 6px; color:#CCCCCC;\"></div><br /><span style=\"font-size:70%; color:#33AA33\"> </span></td><td style=\"background-color:#CCEECC; line-height:80%; padding:5px 4px 2px 4px;\">PHIF<div title=\"0/0\" style=\"font-size:80%; float:right; cursor: default; padding:4px 0px 4px 6px; color:#AACCAA;\"></div><br /><span style=\"font-size:70%; color:#33AA33\">0.08 V/V</span></td><td style=\"background-color:#CCEECC; line-height:80%; padding:5px 4px 2px 4px;\">KLOGH<div title=\"0/0\" style=\"font-size:80%; float:right; cursor: default; padding:4px 0px 4px 6px; color:#AACCAA;\"></div><br /><span style=\"font-size:70%; color:#33AA33\">4.97 MD</span></td><td style=\"background-color:#CCCCCC; line-height:80%; padding:5px 4px 2px 4px;\"><div title=\"\" style=\"font-size:80%; float:right; cursor: default; padding:4px 0px 4px 6px; color:#CCCCCC;\"></div><br /><span style=\"font-size:70%; color:#33AA33\"> </span></td><td style=\"background-color:#CCEECC; line-height:80%; padding:5px 4px 2px 4px;\">SAND_FLAG<div title=\"0/0\" style=\"font-size:80%; float:right; cursor: default; padding:4px 0px 4px 6px; color:#AACCAA;\"></div><br /><span style=\"font-size:70%; color:#33AA33\">0.31 unitless</span></td><td style=\"background-color:#CCEECC; line-height:80%; padding:5px 4px 2px 4px;\">COAL_FLAG<div title=\"0/0\" style=\"font-size:80%; float:right; cursor: default; padding:4px 0px 4px 6px; color:#AACCAA;\"></div><br /><span style=\"font-size:70%; color:#33AA33\">nan unitless</span></td><td style=\"background-color:#CCCCCC; line-height:80%; padding:5px 4px 2px 4px;\"><div title=\"\" style=\"font-size:80%; float:right; cursor: default; padding:4px 0px 4px 6px; color:#CCCCCC;\"></div><br /><span style=\"font-size:70%; color:#33AA33\"> </span></td></tr><td>8</td><td><span style=\"font-weight:bold;\"></span></td><td>7/8&nbsp;curves</td><td>–</td><td style=\"background-color:#CCEECC; line-height:80%; padding:5px 4px 2px 4px;\">VSH<div title=\"0/0\" style=\"font-size:80%; float:right; cursor: default; padding:4px 0px 4px 6px; color:#AACCAA;\"></div><br /><span style=\"font-size:70%; color:#33AA33\">0.33 v/v</span></td><td style=\"background-color:#CCEECC; line-height:80%; padding:5px 4px 2px 4px;\">SW<div title=\"0/0\" style=\"font-size:80%; float:right; cursor: default; padding:4px 0px 4px 6px; color:#AACCAA;\"></div><br /><span style=\"font-size:70%; color:#33AA33\">0.55 v/v</span></td><td style=\"background-color:#CCCCCC; line-height:80%; padding:5px 4px 2px 4px;\"><div title=\"\" style=\"font-size:80%; float:right; cursor: default; padding:4px 0px 4px 6px; color:#CCCCCC;\"></div><br /><span style=\"font-size:70%; color:#33AA33\"> </span></td><td style=\"background-color:#CCEECC; line-height:80%; padding:5px 4px 2px 4px;\">PHIF<div title=\"0/0\" style=\"font-size:80%; float:right; cursor: default; padding:4px 0px 4px 6px; color:#AACCAA;\"></div><br /><span style=\"font-size:70%; color:#33AA33\">0.16 v/v</span></td><td style=\"background-color:#CCEECC; line-height:80%; padding:5px 4px 2px 4px;\">KLOGH<div title=\"0/0\" style=\"font-size:80%; float:right; cursor: default; padding:4px 0px 4px 6px; color:#AACCAA;\"></div><br /><span style=\"font-size:70%; color:#33AA33\">316.89 mD</span></td><td style=\"background-color:#CCCCCC; line-height:80%; padding:5px 4px 2px 4px;\"><div title=\"\" style=\"font-size:80%; float:right; cursor: default; padding:4px 0px 4px 6px; color:#CCCCCC;\"></div><br /><span style=\"font-size:70%; color:#33AA33\"> </span></td><td style=\"background-color:#CCEECC; line-height:80%; padding:5px 4px 2px 4px;\">SAND_FLAG<div title=\"0/0\" style=\"font-size:80%; float:right; cursor: default; padding:4px 0px 4px 6px; color:#AACCAA;\"></div><br /><span style=\"font-size:70%; color:#33AA33\">0.63 UNKNOWN</span></td><td style=\"background-color:#CCEECC; line-height:80%; padding:5px 4px 2px 4px;\">COAL_FLAG<div title=\"0/0\" style=\"font-size:80%; float:right; cursor: default; padding:4px 0px 4px 6px; color:#AACCAA;\"></div><br /><span style=\"font-size:70%; color:#33AA33\">nan UNKNOWN</span></td><td style=\"background-color:#CCEECC; line-height:80%; padding:5px 4px 2px 4px;\">CARB_FLAG<div title=\"0/0\" style=\"font-size:80%; float:right; cursor: default; padding:4px 0px 4px 6px; color:#AACCAA;\"></div><br /><span style=\"font-size:70%; color:#33AA33\">0.10 UNKNOWN</span></td></tr><td>9</td><td><span style=\"font-weight:bold;\"></span></td><td>7/8&nbsp;curves</td><td>–</td><td style=\"background-color:#CCEECC; line-height:80%; padding:5px 4px 2px 4px;\">VSH<div title=\"0/0\" style=\"font-size:80%; float:right; cursor: default; padding:4px 0px 4px 6px; color:#AACCAA;\"></div><br /><span style=\"font-size:70%; color:#33AA33\">0.25 v/v</span></td><td style=\"background-color:#CCEECC; line-height:80%; padding:5px 4px 2px 4px;\">SW<div title=\"0/0\" style=\"font-size:80%; float:right; cursor: default; padding:4px 0px 4px 6px; color:#AACCAA;\"></div><br /><span style=\"font-size:70%; color:#33AA33\">0.45 v/v</span></td><td style=\"background-color:#CCCCCC; line-height:80%; padding:5px 4px 2px 4px;\"><div title=\"\" style=\"font-size:80%; float:right; cursor: default; padding:4px 0px 4px 6px; color:#CCCCCC;\"></div><br /><span style=\"font-size:70%; color:#33AA33\"> </span></td><td style=\"background-color:#CCEECC; line-height:80%; padding:5px 4px 2px 4px;\">PHIF<div title=\"0/0\" style=\"font-size:80%; float:right; cursor: default; padding:4px 0px 4px 6px; color:#AACCAA;\"></div><br /><span style=\"font-size:70%; color:#33AA33\">0.16 v/v</span></td><td style=\"background-color:#CCEECC; line-height:80%; padding:5px 4px 2px 4px;\">KLOGH<div title=\"0/0\" style=\"font-size:80%; float:right; cursor: default; padding:4px 0px 4px 6px; color:#AACCAA;\"></div><br /><span style=\"font-size:70%; color:#33AA33\">345.93 mD</span></td><td style=\"background-color:#CCCCCC; line-height:80%; padding:5px 4px 2px 4px;\"><div title=\"\" style=\"font-size:80%; float:right; cursor: default; padding:4px 0px 4px 6px; color:#CCCCCC;\"></div><br /><span style=\"font-size:70%; color:#33AA33\"> </span></td><td style=\"background-color:#CCEECC; line-height:80%; padding:5px 4px 2px 4px;\">SAND_FLAG<div title=\"0/0\" style=\"font-size:80%; float:right; cursor: default; padding:4px 0px 4px 6px; color:#AACCAA;\"></div><br /><span style=\"font-size:70%; color:#33AA33\">0.70 UNKNOWN</span></td><td style=\"background-color:#CCEECC; line-height:80%; padding:5px 4px 2px 4px;\">COAL_FLAG<div title=\"0/0\" style=\"font-size:80%; float:right; cursor: default; padding:4px 0px 4px 6px; color:#AACCAA;\"></div><br /><span style=\"font-size:70%; color:#33AA33\">0.00 unitless</span></td><td style=\"background-color:#CCEECC; line-height:80%; padding:5px 4px 2px 4px;\">CARB_FLAG<div title=\"0/0\" style=\"font-size:80%; float:right; cursor: default; padding:4px 0px 4px 6px; color:#AACCAA;\"></div><br /><span style=\"font-size:70%; color:#33AA33\">0.09 unitless</span></td></tr><td>10</td><td><span style=\"font-weight:bold;\"></span></td><td>7/8&nbsp;curves</td><td>–</td><td style=\"background-color:#CCEECC; line-height:80%; padding:5px 4px 2px 4px;\">VSH<div title=\"0/0\" style=\"font-size:80%; float:right; cursor: default; padding:4px 0px 4px 6px; color:#AACCAA;\"></div><br /><span style=\"font-size:70%; color:#33AA33\">0.38 v/v</span></td><td style=\"background-color:#CCEECC; line-height:80%; padding:5px 4px 2px 4px;\">SW<div title=\"0/0\" style=\"font-size:80%; float:right; cursor: default; padding:4px 0px 4px 6px; color:#AACCAA;\"></div><br /><span style=\"font-size:70%; color:#33AA33\">0.97 v/v</span></td><td style=\"background-color:#CCCCCC; line-height:80%; padding:5px 4px 2px 4px;\"><div title=\"\" style=\"font-size:80%; float:right; cursor: default; padding:4px 0px 4px 6px; color:#CCCCCC;\"></div><br /><span style=\"font-size:70%; color:#33AA33\"> </span></td><td style=\"background-color:#CCEECC; line-height:80%; padding:5px 4px 2px 4px;\">PHIF<div title=\"0/0\" style=\"font-size:80%; float:right; cursor: default; padding:4px 0px 4px 6px; color:#AACCAA;\"></div><br /><span style=\"font-size:70%; color:#33AA33\">0.11 v/v</span></td><td style=\"background-color:#CCEECC; line-height:80%; padding:5px 4px 2px 4px;\">KLOGH<div title=\"0/0\" style=\"font-size:80%; float:right; cursor: default; padding:4px 0px 4px 6px; color:#AACCAA;\"></div><br /><span style=\"font-size:70%; color:#33AA33\">104.45 mD</span></td><td style=\"background-color:#CCCCCC; line-height:80%; padding:5px 4px 2px 4px;\"><div title=\"\" style=\"font-size:80%; float:right; cursor: default; padding:4px 0px 4px 6px; color:#CCCCCC;\"></div><br /><span style=\"font-size:70%; color:#33AA33\"> </span></td><td style=\"background-color:#CCEECC; line-height:80%; padding:5px 4px 2px 4px;\">SAND_FLAG<div title=\"0/0\" style=\"font-size:80%; float:right; cursor: default; padding:4px 0px 4px 6px; color:#AACCAA;\"></div><br /><span style=\"font-size:70%; color:#33AA33\">0.42 unitless</span></td><td style=\"background-color:#CCEECC; line-height:80%; padding:5px 4px 2px 4px;\">COAL_FLAG<div title=\"0/0\" style=\"font-size:80%; float:right; cursor: default; padding:4px 0px 4px 6px; color:#AACCAA;\"></div><br /><span style=\"font-size:70%; color:#33AA33\">0.01 unitless</span></td><td style=\"background-color:#CCEECC; line-height:80%; padding:5px 4px 2px 4px;\">CARB_FLAG<div title=\"0/0\" style=\"font-size:80%; float:right; cursor: default; padding:4px 0px 4px 6px; color:#AACCAA;\"></div><br /><span style=\"font-size:70%; color:#33AA33\">0.16 unitless</span></td></tr><td>11</td><td><span style=\"font-weight:bold;\">NO 15/9-F-12</span></td><td>4/5&nbsp;curves</td><td>–</td><td style=\"background-color:#CCEECC; line-height:80%; padding:5px 4px 2px 4px;\">VSH<div title=\"0/0\" style=\"font-size:80%; float:right; cursor: default; padding:4px 0px 4px 6px; color:#AACCAA;\"></div><br /><span style=\"font-size:70%; color:#33AA33\">0.42 v/v_decimal</span></td><td style=\"background-color:#CCEECC; line-height:80%; padding:5px 4px 2px 4px;\">SW<div title=\"0/0\" style=\"font-size:80%; float:right; cursor: default; padding:4px 0px 4px 6px; color:#AACCAA;\"></div><br /><span style=\"font-size:70%; color:#33AA33\">0.60 v/v_decimal</span></td><td style=\"background-color:#CCCCCC; line-height:80%; padding:5px 4px 2px 4px;\"><div title=\"\" style=\"font-size:80%; float:right; cursor: default; padding:4px 0px 4px 6px; color:#CCCCCC;\"></div><br /><span style=\"font-size:70%; color:#33AA33\"> </span></td><td style=\"background-color:#CCEECC; line-height:80%; padding:5px 4px 2px 4px;\">PHIF<div title=\"0/0\" style=\"font-size:80%; float:right; cursor: default; padding:4px 0px 4px 6px; color:#AACCAA;\"></div><br /><span style=\"font-size:70%; color:#33AA33\">0.17 v/v_decimal</span></td><td style=\"background-color:#CCEECC; line-height:80%; padding:5px 4px 2px 4px;\">KLOGH<div title=\"0/0\" style=\"font-size:80%; float:right; cursor: default; padding:4px 0px 4px 6px; color:#AACCAA;\"></div><br /><span style=\"font-size:70%; color:#33AA33\">101.35 mD</span></td><td style=\"background-color:#CCCCCC; line-height:80%; padding:5px 4px 2px 4px;\"><div title=\"\" style=\"font-size:80%; float:right; cursor: default; padding:4px 0px 4px 6px; color:#CCCCCC;\"></div><br /><span style=\"font-size:70%; color:#33AA33\"> </span></td><td style=\"background-color:#CCCCCC; line-height:80%; padding:5px 4px 2px 4px;\"><div title=\"\" style=\"font-size:80%; float:right; cursor: default; padding:4px 0px 4px 6px; color:#CCCCCC;\"></div><br /><span style=\"font-size:70%; color:#33AA33\"> </span></td><td style=\"background-color:#CCCCCC; line-height:80%; padding:5px 4px 2px 4px;\"><div title=\"\" style=\"font-size:80%; float:right; cursor: default; padding:4px 0px 4px 6px; color:#CCCCCC;\"></div><br /><span style=\"font-size:70%; color:#33AA33\"> </span></td><td style=\"background-color:#CCCCCC; line-height:80%; padding:5px 4px 2px 4px;\"><div title=\"\" style=\"font-size:80%; float:right; cursor: default; padding:4px 0px 4px 6px; color:#CCCCCC;\"></div><br /><span style=\"font-size:70%; color:#33AA33\"> </span></td></tr><td>12</td><td><span style=\"font-weight:bold;\"></span></td><td>6/8&nbsp;curves</td><td>–</td><td style=\"background-color:#CCEECC; line-height:80%; padding:5px 4px 2px 4px;\">VSH<div title=\"0/0\" style=\"font-size:80%; float:right; cursor: default; padding:4px 0px 4px 6px; color:#AACCAA;\"></div><br /><span style=\"font-size:70%; color:#33AA33\">0.29 v/v</span></td><td style=\"background-color:#CCEECC; line-height:80%; padding:5px 4px 2px 4px;\">SW<div title=\"0/0\" style=\"font-size:80%; float:right; cursor: default; padding:4px 0px 4px 6px; color:#AACCAA;\"></div><br /><span style=\"font-size:70%; color:#33AA33\">0.44 v/v</span></td><td style=\"background-color:#CCCCCC; line-height:80%; padding:5px 4px 2px 4px;\"><div title=\"\" style=\"font-size:80%; float:right; cursor: default; padding:4px 0px 4px 6px; color:#CCCCCC;\"></div><br /><span style=\"font-size:70%; color:#33AA33\"> </span></td><td style=\"background-color:#CCEECC; line-height:80%; padding:5px 4px 2px 4px;\">PHIF<div title=\"0/0\" style=\"font-size:80%; float:right; cursor: default; padding:4px 0px 4px 6px; color:#AACCAA;\"></div><br /><span style=\"font-size:70%; color:#33AA33\">0.17 v/v</span></td><td style=\"background-color:#CCEECC; line-height:80%; padding:5px 4px 2px 4px;\">KLOGH<div title=\"0/0\" style=\"font-size:80%; float:right; cursor: default; padding:4px 0px 4px 6px; color:#AACCAA;\"></div><br /><span style=\"font-size:70%; color:#33AA33\">292.15 mD</span></td><td style=\"background-color:#CCCCCC; line-height:80%; padding:5px 4px 2px 4px;\"><div title=\"\" style=\"font-size:80%; float:right; cursor: default; padding:4px 0px 4px 6px; color:#CCCCCC;\"></div><br /><span style=\"font-size:70%; color:#33AA33\"> </span></td><td style=\"background-color:#CCEECC; line-height:80%; padding:5px 4px 2px 4px;\">SAND_FLAG<div title=\"0/0\" style=\"font-size:80%; float:right; cursor: default; padding:4px 0px 4px 6px; color:#AACCAA;\"></div><br /><span style=\"font-size:70%; color:#33AA33\">0.74 unitless</span></td><td style=\"background-color:#CCEECC; line-height:80%; padding:5px 4px 2px 4px;\">COAL_FLAG<div title=\"0/0\" style=\"font-size:80%; float:right; cursor: default; padding:4px 0px 4px 6px; color:#AACCAA;\"></div><br /><span style=\"font-size:70%; color:#33AA33\">nan unitless</span></td><td style=\"background-color:#CCCCCC; line-height:80%; padding:5px 4px 2px 4px;\"><div title=\"\" style=\"font-size:80%; float:right; cursor: default; padding:4px 0px 4px 6px; color:#CCCCCC;\"></div><br /><span style=\"font-size:70%; color:#33AA33\"> </span></td></tr></table>"
      ],
      "text/plain": [
       "<IPython.core.display.HTML object>"
      ]
     },
     "execution_count": 40,
     "metadata": {},
     "output_type": "execute_result"
    }
   ],
   "source": [
    "html = p_ppinterp.curve_table_html(keys=keys, alias=alias)\n",
    "\n",
    "from IPython.display import HTML\n",
    "HTML(html)"
   ]
  },
  {
   "cell_type": "code",
   "execution_count": 32,
   "metadata": {},
   "outputs": [
    {
     "data": {
      "text/html": [
       "<table><tr><th>Idx</th><th>UWI</th><th>Data</th><th>Passing</th><th>VSH*</th><th>SW*</th><th>BWV</th><th>PHIF*</th><th>KLOGH*</th><th>BAD DATA*</th><th>SAND_FLAG*</th><th>COAL_FLAG*</th><th>CARB_FLAG*</th></tr><tr><td></td><td></td><td></td><td>%</td><td>12/13&nbsp;wells</td><td>12/13&nbsp;wells</td><td>1/13&nbsp;wells</td><td>12/13&nbsp;wells</td><td>12/13&nbsp;wells</td><td>1/13&nbsp;wells</td><td>11/13&nbsp;wells</td><td>10/13&nbsp;wells</td><td>6/13&nbsp;wells</td></tr><td>0</td><td><span style=\"font-weight:bold;\"></span></td><td>7/23&nbsp;curves</td><td>21</td><td style=\"background-color:#CCEECC; line-height:80%; padding:5px 4px 2px 4px;\">VSH<div title=\"1/2\" style=\"font-size:80%; float:right; cursor: default; padding:4px 0px 4px 6px; color:#FFCC33;\">&#x2b24;</div><br /><span style=\"font-size:70%; color:#33AA33\">0.38 V/V</span></td><td style=\"background-color:#CCEECC; line-height:80%; padding:5px 4px 2px 4px;\">SW<div title=\"1/2\" style=\"font-size:80%; float:right; cursor: default; padding:4px 0px 4px 6px; color:#FFCC33;\">&#x2b24;</div><br /><span style=\"font-size:70%; color:#33AA33\">0.63 V/V</span></td><td style=\"background-color:#CCCCCC; line-height:80%; padding:5px 4px 2px 4px;\"><div title=\"\" style=\"font-size:80%; float:right; cursor: default; padding:4px 0px 4px 6px; color:#CCCCCC;\">&#x2b24;</div><br /><span style=\"font-size:70%; color:#33AA33\"> </span></td><td style=\"background-color:#CCEECC; line-height:80%; padding:5px 4px 2px 4px;\">PHIF<div title=\"1/2\" style=\"font-size:80%; float:right; cursor: default; padding:4px 0px 4px 6px; color:#FFCC33;\">&#x2b24;</div><br /><span style=\"font-size:70%; color:#33AA33\">0.14 V/V</span></td><td style=\"background-color:#CCEECC; line-height:80%; padding:5px 4px 2px 4px;\">KLOGH<div title=\"0/2\" style=\"font-size:80%; float:right; cursor: default; padding:4px 0px 4px 6px; color:#FF3333;\">&#x2b24;</div><br /><span style=\"font-size:70%; color:#33AA33\">247.96 MD</span></td><td style=\"background-color:#CCCCCC; line-height:80%; padding:5px 4px 2px 4px;\"><div title=\"\" style=\"font-size:80%; float:right; cursor: default; padding:4px 0px 4px 6px; color:#CCCCCC;\">&#x2b24;</div><br /><span style=\"font-size:70%; color:#33AA33\"> </span></td><td style=\"background-color:#CCEECC; line-height:80%; padding:5px 4px 2px 4px;\">SAND_FLAG<div title=\"0/2\" style=\"font-size:80%; float:right; cursor: default; padding:4px 0px 4px 6px; color:#FF3333;\">&#x2b24;</div><br /><span style=\"font-size:70%; color:#33AA33\">0.39 UNITLESS</span></td><td style=\"background-color:#CCEECC; line-height:80%; padding:5px 4px 2px 4px;\">COAL_FLAG<div title=\"0/2\" style=\"font-size:80%; float:right; cursor: default; padding:4px 0px 4px 6px; color:#FF3333;\">&#x2b24;</div><br /><span style=\"font-size:70%; color:#33AA33\">nan UNITLESS</span></td><td style=\"background-color:#CCEECC; line-height:80%; padding:5px 4px 2px 4px;\">CARB_FLAG<div title=\"0/2\" style=\"font-size:80%; float:right; cursor: default; padding:4px 0px 4px 6px; color:#FF3333;\">&#x2b24;</div><br /><span style=\"font-size:70%; color:#33AA33\">0.03 UNITLESS</span></td></tr><td>1</td><td><span style=\"font-weight:bold;\"></span></td><td>7/13&nbsp;curves</td><td>29</td><td style=\"background-color:#CCEECC; line-height:80%; padding:5px 4px 2px 4px;\">VSH<div title=\"2/2\" style=\"font-size:80%; float:right; cursor: default; padding:4px 0px 4px 6px; color:#33EE33;\">&#x2b24;</div><br /><span style=\"font-size:70%; color:#33AA33\">0.80 V/V</span></td><td style=\"background-color:#CCEECC; line-height:80%; padding:5px 4px 2px 4px;\">SW<div title=\"1/2\" style=\"font-size:80%; float:right; cursor: default; padding:4px 0px 4px 6px; color:#FFCC33;\">&#x2b24;</div><br /><span style=\"font-size:70%; color:#33AA33\">0.85 V/V</span></td><td style=\"background-color:#CCCCCC; line-height:80%; padding:5px 4px 2px 4px;\"><div title=\"\" style=\"font-size:80%; float:right; cursor: default; padding:4px 0px 4px 6px; color:#CCCCCC;\">&#x2b24;</div><br /><span style=\"font-size:70%; color:#33AA33\"> </span></td><td style=\"background-color:#CCEECC; line-height:80%; padding:5px 4px 2px 4px;\">PHIF<div title=\"1/2\" style=\"font-size:80%; float:right; cursor: default; padding:4px 0px 4px 6px; color:#FFCC33;\">&#x2b24;</div><br /><span style=\"font-size:70%; color:#33AA33\">0.14 V/V</span></td><td style=\"background-color:#CCEECC; line-height:80%; padding:5px 4px 2px 4px;\">KLOGH<div title=\"0/2\" style=\"font-size:80%; float:right; cursor: default; padding:4px 0px 4px 6px; color:#FF3333;\">&#x2b24;</div><br /><span style=\"font-size:70%; color:#33AA33\">167.38 MD</span></td><td style=\"background-color:#CCCCCC; line-height:80%; padding:5px 4px 2px 4px;\"><div title=\"\" style=\"font-size:80%; float:right; cursor: default; padding:4px 0px 4px 6px; color:#CCCCCC;\">&#x2b24;</div><br /><span style=\"font-size:70%; color:#33AA33\"> </span></td><td style=\"background-color:#CCEECC; line-height:80%; padding:5px 4px 2px 4px;\">SAND_FLAG<div title=\"0/2\" style=\"font-size:80%; float:right; cursor: default; padding:4px 0px 4px 6px; color:#FF3333;\">&#x2b24;</div><br /><span style=\"font-size:70%; color:#33AA33\">0.34 UNITLESS</span></td><td style=\"background-color:#CCEECC; line-height:80%; padding:5px 4px 2px 4px;\">COAL_FLAG<div title=\"0/2\" style=\"font-size:80%; float:right; cursor: default; padding:4px 0px 4px 6px; color:#FF3333;\">&#x2b24;</div><br /><span style=\"font-size:70%; color:#33AA33\">0.01 UNITLESS</span></td><td style=\"background-color:#CCEECC; line-height:80%; padding:5px 4px 2px 4px;\">CARB_FLAG<div title=\"0/2\" style=\"font-size:80%; float:right; cursor: default; padding:4px 0px 4px 6px; color:#FF3333;\">&#x2b24;</div><br /><span style=\"font-size:70%; color:#33AA33\">0.03 UNITLESS</span></td></tr><td>2</td><td><span style=\"font-weight:bold;\"></span></td><td>6/8&nbsp;curves</td><td>42</td><td style=\"background-color:#CCEECC; line-height:80%; padding:5px 4px 2px 4px;\">VSH<div title=\"2/2\" style=\"font-size:80%; float:right; cursor: default; padding:4px 0px 4px 6px; color:#33EE33;\">&#x2b24;</div><br /><span style=\"font-size:70%; color:#33AA33\">0.39 V/V</span></td><td style=\"background-color:#CCEECC; line-height:80%; padding:5px 4px 2px 4px;\">SW<div title=\"1/2\" style=\"font-size:80%; float:right; cursor: default; padding:4px 0px 4px 6px; color:#FFCC33;\">&#x2b24;</div><br /><span style=\"font-size:70%; color:#33AA33\">0.96 V/V</span></td><td style=\"background-color:#CCEECC; line-height:80%; padding:5px 4px 2px 4px;\">BWV<div title=\"1/2\" style=\"font-size:80%; float:right; cursor: default; padding:4px 0px 4px 6px; color:#FFCC33;\">&#x2b24;</div><br /><span style=\"font-size:70%; color:#33AA33\">0.10 </span></td><td style=\"background-color:#CCEECC; line-height:80%; padding:5px 4px 2px 4px;\">PHIF<div title=\"1/2\" style=\"font-size:80%; float:right; cursor: default; padding:4px 0px 4px 6px; color:#FFCC33;\">&#x2b24;</div><br /><span style=\"font-size:70%; color:#33AA33\">0.11 V/V</span></td><td style=\"background-color:#CCEECC; line-height:80%; padding:5px 4px 2px 4px;\">KLOGH<div title=\"0/2\" style=\"font-size:80%; float:right; cursor: default; padding:4px 0px 4px 6px; color:#FF3333;\">&#x2b24;</div><br /><span style=\"font-size:70%; color:#33AA33\">1849.44 MD</span></td><td style=\"background-color:#CCCCCC; line-height:80%; padding:5px 4px 2px 4px;\"><div title=\"\" style=\"font-size:80%; float:right; cursor: default; padding:4px 0px 4px 6px; color:#CCCCCC;\">&#x2b24;</div><br /><span style=\"font-size:70%; color:#33AA33\"> </span></td><td style=\"background-color:#CCEECC; line-height:80%; padding:5px 4px 2px 4px;\">SAND_FLAG<div title=\"0/2\" style=\"font-size:80%; float:right; cursor: default; padding:4px 0px 4px 6px; color:#FF3333;\">&#x2b24;</div><br /><span style=\"font-size:70%; color:#33AA33\">0.27 UNITLESS</span></td><td style=\"background-color:#CCCCCC; line-height:80%; padding:5px 4px 2px 4px;\"><div title=\"\" style=\"font-size:80%; float:right; cursor: default; padding:4px 0px 4px 6px; color:#CCCCCC;\">&#x2b24;</div><br /><span style=\"font-size:70%; color:#33AA33\"> </span></td><td style=\"background-color:#CCCCCC; line-height:80%; padding:5px 4px 2px 4px;\"><div title=\"\" style=\"font-size:80%; float:right; cursor: default; padding:4px 0px 4px 6px; color:#CCCCCC;\">&#x2b24;</div><br /><span style=\"font-size:70%; color:#33AA33\"> </span></td></tr><td>3</td><td><span style=\"font-weight:bold;\"></span></td><td>0/10&nbsp;curves</td><td>–</td><td style=\"background-color:#CCCCCC; line-height:80%; padding:5px 4px 2px 4px;\"><div title=\"\" style=\"font-size:80%; float:right; cursor: default; padding:4px 0px 4px 6px; color:#CCCCCC;\">&#x2b24;</div><br /><span style=\"font-size:70%; color:#33AA33\"> </span></td><td style=\"background-color:#CCCCCC; line-height:80%; padding:5px 4px 2px 4px;\"><div title=\"\" style=\"font-size:80%; float:right; cursor: default; padding:4px 0px 4px 6px; color:#CCCCCC;\">&#x2b24;</div><br /><span style=\"font-size:70%; color:#33AA33\"> </span></td><td style=\"background-color:#CCCCCC; line-height:80%; padding:5px 4px 2px 4px;\"><div title=\"\" style=\"font-size:80%; float:right; cursor: default; padding:4px 0px 4px 6px; color:#CCCCCC;\">&#x2b24;</div><br /><span style=\"font-size:70%; color:#33AA33\"> </span></td><td style=\"background-color:#CCCCCC; line-height:80%; padding:5px 4px 2px 4px;\"><div title=\"\" style=\"font-size:80%; float:right; cursor: default; padding:4px 0px 4px 6px; color:#CCCCCC;\">&#x2b24;</div><br /><span style=\"font-size:70%; color:#33AA33\"> </span></td><td style=\"background-color:#CCCCCC; line-height:80%; padding:5px 4px 2px 4px;\"><div title=\"\" style=\"font-size:80%; float:right; cursor: default; padding:4px 0px 4px 6px; color:#CCCCCC;\">&#x2b24;</div><br /><span style=\"font-size:70%; color:#33AA33\"> </span></td><td style=\"background-color:#CCCCCC; line-height:80%; padding:5px 4px 2px 4px;\"><div title=\"\" style=\"font-size:80%; float:right; cursor: default; padding:4px 0px 4px 6px; color:#CCCCCC;\">&#x2b24;</div><br /><span style=\"font-size:70%; color:#33AA33\"> </span></td><td style=\"background-color:#CCCCCC; line-height:80%; padding:5px 4px 2px 4px;\"><div title=\"\" style=\"font-size:80%; float:right; cursor: default; padding:4px 0px 4px 6px; color:#CCCCCC;\">&#x2b24;</div><br /><span style=\"font-size:70%; color:#33AA33\"> </span></td><td style=\"background-color:#CCCCCC; line-height:80%; padding:5px 4px 2px 4px;\"><div title=\"\" style=\"font-size:80%; float:right; cursor: default; padding:4px 0px 4px 6px; color:#CCCCCC;\">&#x2b24;</div><br /><span style=\"font-size:70%; color:#33AA33\"> </span></td><td style=\"background-color:#CCCCCC; line-height:80%; padding:5px 4px 2px 4px;\"><div title=\"\" style=\"font-size:80%; float:right; cursor: default; padding:4px 0px 4px 6px; color:#CCCCCC;\">&#x2b24;</div><br /><span style=\"font-size:70%; color:#33AA33\"> </span></td></tr><td>4</td><td><span style=\"font-weight:bold;\"></span></td><td>6/8&nbsp;curves</td><td>25</td><td style=\"background-color:#CCEECC; line-height:80%; padding:5px 4px 2px 4px;\">VSH<div title=\"1/2\" style=\"font-size:80%; float:right; cursor: default; padding:4px 0px 4px 6px; color:#FFCC33;\">&#x2b24;</div><br /><span style=\"font-size:70%; color:#33AA33\">0.52 V/V</span></td><td style=\"background-color:#CCEECC; line-height:80%; padding:5px 4px 2px 4px;\">SW<div title=\"1/2\" style=\"font-size:80%; float:right; cursor: default; padding:4px 0px 4px 6px; color:#FFCC33;\">&#x2b24;</div><br /><span style=\"font-size:70%; color:#33AA33\">0.96 V/V</span></td><td style=\"background-color:#CCCCCC; line-height:80%; padding:5px 4px 2px 4px;\"><div title=\"\" style=\"font-size:80%; float:right; cursor: default; padding:4px 0px 4px 6px; color:#CCCCCC;\">&#x2b24;</div><br /><span style=\"font-size:70%; color:#33AA33\"> </span></td><td style=\"background-color:#CCEECC; line-height:80%; padding:5px 4px 2px 4px;\">PHIF<div title=\"0/2\" style=\"font-size:80%; float:right; cursor: default; padding:4px 0px 4px 6px; color:#FF3333;\">&#x2b24;</div><br /><span style=\"font-size:70%; color:#33AA33\">0.09 V/V</span></td><td style=\"background-color:#CCEECC; line-height:80%; padding:5px 4px 2px 4px;\">KLOGH<div title=\"1/2\" style=\"font-size:80%; float:right; cursor: default; padding:4px 0px 4px 6px; color:#FFCC33;\">&#x2b24;</div><br /><span style=\"font-size:70%; color:#33AA33\">52.71 mD</span></td><td style=\"background-color:#CCCCCC; line-height:80%; padding:5px 4px 2px 4px;\"><div title=\"\" style=\"font-size:80%; float:right; cursor: default; padding:4px 0px 4px 6px; color:#CCCCCC;\">&#x2b24;</div><br /><span style=\"font-size:70%; color:#33AA33\"> </span></td><td style=\"background-color:#CCEECC; line-height:80%; padding:5px 4px 2px 4px;\">SAND_FLAG<div title=\"0/2\" style=\"font-size:80%; float:right; cursor: default; padding:4px 0px 4px 6px; color:#FF3333;\">&#x2b24;</div><br /><span style=\"font-size:70%; color:#33AA33\">0.44 unitless</span></td><td style=\"background-color:#CCEECC; line-height:80%; padding:5px 4px 2px 4px;\">COAL_FLAG<div title=\"0/2\" style=\"font-size:80%; float:right; cursor: default; padding:4px 0px 4px 6px; color:#FF3333;\">&#x2b24;</div><br /><span style=\"font-size:70%; color:#33AA33\">nan unitless</span></td><td style=\"background-color:#CCCCCC; line-height:80%; padding:5px 4px 2px 4px;\"><div title=\"\" style=\"font-size:80%; float:right; cursor: default; padding:4px 0px 4px 6px; color:#CCCCCC;\">&#x2b24;</div><br /><span style=\"font-size:70%; color:#33AA33\"> </span></td></tr><td>5</td><td><span style=\"font-weight:bold;\"></span></td><td>7/9&nbsp;curves</td><td>29</td><td style=\"background-color:#CCEECC; line-height:80%; padding:5px 4px 2px 4px;\">VSH<div title=\"1/2\" style=\"font-size:80%; float:right; cursor: default; padding:4px 0px 4px 6px; color:#FFCC33;\">&#x2b24;</div><br /><span style=\"font-size:70%; color:#33AA33\">0.36 V/V</span></td><td style=\"background-color:#CCEECC; line-height:80%; padding:5px 4px 2px 4px;\">SW<div title=\"1/2\" style=\"font-size:80%; float:right; cursor: default; padding:4px 0px 4px 6px; color:#FFCC33;\">&#x2b24;</div><br /><span style=\"font-size:70%; color:#33AA33\">0.83 V/V</span></td><td style=\"background-color:#CCCCCC; line-height:80%; padding:5px 4px 2px 4px;\"><div title=\"\" style=\"font-size:80%; float:right; cursor: default; padding:4px 0px 4px 6px; color:#CCCCCC;\">&#x2b24;</div><br /><span style=\"font-size:70%; color:#33AA33\"> </span></td><td style=\"background-color:#CCEECC; line-height:80%; padding:5px 4px 2px 4px;\">PHIF<div title=\"1/2\" style=\"font-size:80%; float:right; cursor: default; padding:4px 0px 4px 6px; color:#FFCC33;\">&#x2b24;</div><br /><span style=\"font-size:70%; color:#33AA33\">0.12 V/V</span></td><td style=\"background-color:#CCEECC; line-height:80%; padding:5px 4px 2px 4px;\">KLOGH<div title=\"1/2\" style=\"font-size:80%; float:right; cursor: default; padding:4px 0px 4px 6px; color:#FFCC33;\">&#x2b24;</div><br /><span style=\"font-size:70%; color:#33AA33\">234.62 mD</span></td><td style=\"background-color:#CCCCCC; line-height:80%; padding:5px 4px 2px 4px;\"><div title=\"\" style=\"font-size:80%; float:right; cursor: default; padding:4px 0px 4px 6px; color:#CCCCCC;\">&#x2b24;</div><br /><span style=\"font-size:70%; color:#33AA33\"> </span></td><td style=\"background-color:#CCEECC; line-height:80%; padding:5px 4px 2px 4px;\">SAND_FLAG<div title=\"0/2\" style=\"font-size:80%; float:right; cursor: default; padding:4px 0px 4px 6px; color:#FF3333;\">&#x2b24;</div><br /><span style=\"font-size:70%; color:#33AA33\">0.50 UNITLESS</span></td><td style=\"background-color:#CCEECC; line-height:80%; padding:5px 4px 2px 4px;\">COAL_FLAG<div title=\"0/2\" style=\"font-size:80%; float:right; cursor: default; padding:4px 0px 4px 6px; color:#FF3333;\">&#x2b24;</div><br /><span style=\"font-size:70%; color:#33AA33\">nan UNITLESS</span></td><td style=\"background-color:#CCEECC; line-height:80%; padding:5px 4px 2px 4px;\">CARB_FLAG<div title=\"0/2\" style=\"font-size:80%; float:right; cursor: default; padding:4px 0px 4px 6px; color:#FF3333;\">&#x2b24;</div><br /><span style=\"font-size:70%; color:#33AA33\">0.04 V/V</span></td></tr><td>6</td><td><span style=\"font-weight:bold;\"></span></td><td>7/9&nbsp;curves</td><td>43</td><td style=\"background-color:#CCEECC; line-height:80%; padding:5px 4px 2px 4px;\">VSH<div title=\"2/2\" style=\"font-size:80%; float:right; cursor: default; padding:4px 0px 4px 6px; color:#33EE33;\">&#x2b24;</div><br /><span style=\"font-size:70%; color:#33AA33\">0.31 v/v</span></td><td style=\"background-color:#CCEECC; line-height:80%; padding:5px 4px 2px 4px;\">SW<div title=\"1/2\" style=\"font-size:80%; float:right; cursor: default; padding:4px 0px 4px 6px; color:#FFCC33;\">&#x2b24;</div><br /><span style=\"font-size:70%; color:#33AA33\">0.49 v/v</span></td><td style=\"background-color:#CCCCCC; line-height:80%; padding:5px 4px 2px 4px;\"><div title=\"\" style=\"font-size:80%; float:right; cursor: default; padding:4px 0px 4px 6px; color:#CCCCCC;\">&#x2b24;</div><br /><span style=\"font-size:70%; color:#33AA33\"> </span></td><td style=\"background-color:#CCEECC; line-height:80%; padding:5px 4px 2px 4px;\">PHIF<div title=\"2/2\" style=\"font-size:80%; float:right; cursor: default; padding:4px 0px 4px 6px; color:#33EE33;\">&#x2b24;</div><br /><span style=\"font-size:70%; color:#33AA33\">0.18 v/v</span></td><td style=\"background-color:#CCEECC; line-height:80%; padding:5px 4px 2px 4px;\">KLOGH<div title=\"1/2\" style=\"font-size:80%; float:right; cursor: default; padding:4px 0px 4px 6px; color:#FFCC33;\">&#x2b24;</div><br /><span style=\"font-size:70%; color:#33AA33\">459.24 mD</span></td><td style=\"background-color:#CCEECC; line-height:80%; padding:5px 4px 2px 4px;\">BADDATA_FLAG<div title=\"0/2\" style=\"font-size:80%; float:right; cursor: default; padding:4px 0px 4px 6px; color:#FF3333;\">&#x2b24;</div><br /><span style=\"font-size:70%; color:#33AA33\">0.00 unitless</span></td><td style=\"background-color:#CCEECC; line-height:80%; padding:5px 4px 2px 4px;\">SAND_FLAG<div title=\"0/2\" style=\"font-size:80%; float:right; cursor: default; padding:4px 0px 4px 6px; color:#FF3333;\">&#x2b24;</div><br /><span style=\"font-size:70%; color:#33AA33\">0.73 unitless</span></td><td style=\"background-color:#CCEECC; line-height:80%; padding:5px 4px 2px 4px;\">COAL_FLAG<div title=\"0/2\" style=\"font-size:80%; float:right; cursor: default; padding:4px 0px 4px 6px; color:#FF3333;\">&#x2b24;</div><br /><span style=\"font-size:70%; color:#33AA33\">nan unitless</span></td><td style=\"background-color:#CCCCCC; line-height:80%; padding:5px 4px 2px 4px;\"><div title=\"\" style=\"font-size:80%; float:right; cursor: default; padding:4px 0px 4px 6px; color:#CCCCCC;\">&#x2b24;</div><br /><span style=\"font-size:70%; color:#33AA33\"> </span></td></tr><td>7</td><td><span style=\"font-weight:bold;\"></span></td><td>6/8&nbsp;curves</td><td>42</td><td style=\"background-color:#CCEECC; line-height:80%; padding:5px 4px 2px 4px;\">VSH<div title=\"2/2\" style=\"font-size:80%; float:right; cursor: default; padding:4px 0px 4px 6px; color:#33EE33;\">&#x2b24;</div><br /><span style=\"font-size:70%; color:#33AA33\">0.53 V/V</span></td><td style=\"background-color:#CCEECC; line-height:80%; padding:5px 4px 2px 4px;\">SW<div title=\"1/2\" style=\"font-size:80%; float:right; cursor: default; padding:4px 0px 4px 6px; color:#FFCC33;\">&#x2b24;</div><br /><span style=\"font-size:70%; color:#33AA33\">0.99 V/V</span></td><td style=\"background-color:#CCCCCC; line-height:80%; padding:5px 4px 2px 4px;\"><div title=\"\" style=\"font-size:80%; float:right; cursor: default; padding:4px 0px 4px 6px; color:#CCCCCC;\">&#x2b24;</div><br /><span style=\"font-size:70%; color:#33AA33\"> </span></td><td style=\"background-color:#CCEECC; line-height:80%; padding:5px 4px 2px 4px;\">PHIF<div title=\"1/2\" style=\"font-size:80%; float:right; cursor: default; padding:4px 0px 4px 6px; color:#FFCC33;\">&#x2b24;</div><br /><span style=\"font-size:70%; color:#33AA33\">0.08 V/V</span></td><td style=\"background-color:#CCEECC; line-height:80%; padding:5px 4px 2px 4px;\">KLOGH<div title=\"1/2\" style=\"font-size:80%; float:right; cursor: default; padding:4px 0px 4px 6px; color:#FFCC33;\">&#x2b24;</div><br /><span style=\"font-size:70%; color:#33AA33\">4.97 MD</span></td><td style=\"background-color:#CCCCCC; line-height:80%; padding:5px 4px 2px 4px;\"><div title=\"\" style=\"font-size:80%; float:right; cursor: default; padding:4px 0px 4px 6px; color:#CCCCCC;\">&#x2b24;</div><br /><span style=\"font-size:70%; color:#33AA33\"> </span></td><td style=\"background-color:#CCEECC; line-height:80%; padding:5px 4px 2px 4px;\">SAND_FLAG<div title=\"0/2\" style=\"font-size:80%; float:right; cursor: default; padding:4px 0px 4px 6px; color:#FF3333;\">&#x2b24;</div><br /><span style=\"font-size:70%; color:#33AA33\">0.31 unitless</span></td><td style=\"background-color:#CCEECC; line-height:80%; padding:5px 4px 2px 4px;\">COAL_FLAG<div title=\"0/2\" style=\"font-size:80%; float:right; cursor: default; padding:4px 0px 4px 6px; color:#FF3333;\">&#x2b24;</div><br /><span style=\"font-size:70%; color:#33AA33\">nan unitless</span></td><td style=\"background-color:#CCCCCC; line-height:80%; padding:5px 4px 2px 4px;\"><div title=\"\" style=\"font-size:80%; float:right; cursor: default; padding:4px 0px 4px 6px; color:#CCCCCC;\">&#x2b24;</div><br /><span style=\"font-size:70%; color:#33AA33\"> </span></td></tr><td>8</td><td><span style=\"font-weight:bold;\"></span></td><td>7/8&nbsp;curves</td><td>43</td><td style=\"background-color:#CCEECC; line-height:80%; padding:5px 4px 2px 4px;\">VSH<div title=\"2/2\" style=\"font-size:80%; float:right; cursor: default; padding:4px 0px 4px 6px; color:#33EE33;\">&#x2b24;</div><br /><span style=\"font-size:70%; color:#33AA33\">0.33 v/v</span></td><td style=\"background-color:#CCEECC; line-height:80%; padding:5px 4px 2px 4px;\">SW<div title=\"1/2\" style=\"font-size:80%; float:right; cursor: default; padding:4px 0px 4px 6px; color:#FFCC33;\">&#x2b24;</div><br /><span style=\"font-size:70%; color:#33AA33\">0.55 v/v</span></td><td style=\"background-color:#CCCCCC; line-height:80%; padding:5px 4px 2px 4px;\"><div title=\"\" style=\"font-size:80%; float:right; cursor: default; padding:4px 0px 4px 6px; color:#CCCCCC;\">&#x2b24;</div><br /><span style=\"font-size:70%; color:#33AA33\"> </span></td><td style=\"background-color:#CCEECC; line-height:80%; padding:5px 4px 2px 4px;\">PHIF<div title=\"2/2\" style=\"font-size:80%; float:right; cursor: default; padding:4px 0px 4px 6px; color:#33EE33;\">&#x2b24;</div><br /><span style=\"font-size:70%; color:#33AA33\">0.16 v/v</span></td><td style=\"background-color:#CCEECC; line-height:80%; padding:5px 4px 2px 4px;\">KLOGH<div title=\"1/2\" style=\"font-size:80%; float:right; cursor: default; padding:4px 0px 4px 6px; color:#FFCC33;\">&#x2b24;</div><br /><span style=\"font-size:70%; color:#33AA33\">316.89 mD</span></td><td style=\"background-color:#CCCCCC; line-height:80%; padding:5px 4px 2px 4px;\"><div title=\"\" style=\"font-size:80%; float:right; cursor: default; padding:4px 0px 4px 6px; color:#CCCCCC;\">&#x2b24;</div><br /><span style=\"font-size:70%; color:#33AA33\"> </span></td><td style=\"background-color:#CCEECC; line-height:80%; padding:5px 4px 2px 4px;\">SAND_FLAG<div title=\"0/2\" style=\"font-size:80%; float:right; cursor: default; padding:4px 0px 4px 6px; color:#FF3333;\">&#x2b24;</div><br /><span style=\"font-size:70%; color:#33AA33\">0.63 UNKNOWN</span></td><td style=\"background-color:#CCEECC; line-height:80%; padding:5px 4px 2px 4px;\">COAL_FLAG<div title=\"0/2\" style=\"font-size:80%; float:right; cursor: default; padding:4px 0px 4px 6px; color:#FF3333;\">&#x2b24;</div><br /><span style=\"font-size:70%; color:#33AA33\">nan UNKNOWN</span></td><td style=\"background-color:#CCEECC; line-height:80%; padding:5px 4px 2px 4px;\">CARB_FLAG<div title=\"0/2\" style=\"font-size:80%; float:right; cursor: default; padding:4px 0px 4px 6px; color:#FF3333;\">&#x2b24;</div><br /><span style=\"font-size:70%; color:#33AA33\">0.10 UNKNOWN</span></td></tr><td>9</td><td><span style=\"font-weight:bold;\"></span></td><td>7/8&nbsp;curves</td><td>36</td><td style=\"background-color:#CCEECC; line-height:80%; padding:5px 4px 2px 4px;\">VSH<div title=\"2/2\" style=\"font-size:80%; float:right; cursor: default; padding:4px 0px 4px 6px; color:#33EE33;\">&#x2b24;</div><br /><span style=\"font-size:70%; color:#33AA33\">0.25 v/v</span></td><td style=\"background-color:#CCEECC; line-height:80%; padding:5px 4px 2px 4px;\">SW<div title=\"1/2\" style=\"font-size:80%; float:right; cursor: default; padding:4px 0px 4px 6px; color:#FFCC33;\">&#x2b24;</div><br /><span style=\"font-size:70%; color:#33AA33\">0.45 v/v</span></td><td style=\"background-color:#CCCCCC; line-height:80%; padding:5px 4px 2px 4px;\"><div title=\"\" style=\"font-size:80%; float:right; cursor: default; padding:4px 0px 4px 6px; color:#CCCCCC;\">&#x2b24;</div><br /><span style=\"font-size:70%; color:#33AA33\"> </span></td><td style=\"background-color:#CCEECC; line-height:80%; padding:5px 4px 2px 4px;\">PHIF<div title=\"1/2\" style=\"font-size:80%; float:right; cursor: default; padding:4px 0px 4px 6px; color:#FFCC33;\">&#x2b24;</div><br /><span style=\"font-size:70%; color:#33AA33\">0.16 v/v</span></td><td style=\"background-color:#CCEECC; line-height:80%; padding:5px 4px 2px 4px;\">KLOGH<div title=\"1/2\" style=\"font-size:80%; float:right; cursor: default; padding:4px 0px 4px 6px; color:#FFCC33;\">&#x2b24;</div><br /><span style=\"font-size:70%; color:#33AA33\">345.93 mD</span></td><td style=\"background-color:#CCCCCC; line-height:80%; padding:5px 4px 2px 4px;\"><div title=\"\" style=\"font-size:80%; float:right; cursor: default; padding:4px 0px 4px 6px; color:#CCCCCC;\">&#x2b24;</div><br /><span style=\"font-size:70%; color:#33AA33\"> </span></td><td style=\"background-color:#CCEECC; line-height:80%; padding:5px 4px 2px 4px;\">SAND_FLAG<div title=\"0/2\" style=\"font-size:80%; float:right; cursor: default; padding:4px 0px 4px 6px; color:#FF3333;\">&#x2b24;</div><br /><span style=\"font-size:70%; color:#33AA33\">0.70 UNKNOWN</span></td><td style=\"background-color:#CCEECC; line-height:80%; padding:5px 4px 2px 4px;\">COAL_FLAG<div title=\"0/2\" style=\"font-size:80%; float:right; cursor: default; padding:4px 0px 4px 6px; color:#FF3333;\">&#x2b24;</div><br /><span style=\"font-size:70%; color:#33AA33\">0.00 unitless</span></td><td style=\"background-color:#CCEECC; line-height:80%; padding:5px 4px 2px 4px;\">CARB_FLAG<div title=\"0/2\" style=\"font-size:80%; float:right; cursor: default; padding:4px 0px 4px 6px; color:#FF3333;\">&#x2b24;</div><br /><span style=\"font-size:70%; color:#33AA33\">0.09 unitless</span></td></tr><td>10</td><td><span style=\"font-weight:bold;\"></span></td><td>7/8&nbsp;curves</td><td>29</td><td style=\"background-color:#CCEECC; line-height:80%; padding:5px 4px 2px 4px;\">VSH<div title=\"2/2\" style=\"font-size:80%; float:right; cursor: default; padding:4px 0px 4px 6px; color:#33EE33;\">&#x2b24;</div><br /><span style=\"font-size:70%; color:#33AA33\">0.38 v/v</span></td><td style=\"background-color:#CCEECC; line-height:80%; padding:5px 4px 2px 4px;\">SW<div title=\"1/2\" style=\"font-size:80%; float:right; cursor: default; padding:4px 0px 4px 6px; color:#FFCC33;\">&#x2b24;</div><br /><span style=\"font-size:70%; color:#33AA33\">0.97 v/v</span></td><td style=\"background-color:#CCCCCC; line-height:80%; padding:5px 4px 2px 4px;\"><div title=\"\" style=\"font-size:80%; float:right; cursor: default; padding:4px 0px 4px 6px; color:#CCCCCC;\">&#x2b24;</div><br /><span style=\"font-size:70%; color:#33AA33\"> </span></td><td style=\"background-color:#CCEECC; line-height:80%; padding:5px 4px 2px 4px;\">PHIF<div title=\"0/2\" style=\"font-size:80%; float:right; cursor: default; padding:4px 0px 4px 6px; color:#FF3333;\">&#x2b24;</div><br /><span style=\"font-size:70%; color:#33AA33\">0.11 v/v</span></td><td style=\"background-color:#CCEECC; line-height:80%; padding:5px 4px 2px 4px;\">KLOGH<div title=\"1/2\" style=\"font-size:80%; float:right; cursor: default; padding:4px 0px 4px 6px; color:#FFCC33;\">&#x2b24;</div><br /><span style=\"font-size:70%; color:#33AA33\">104.45 mD</span></td><td style=\"background-color:#CCCCCC; line-height:80%; padding:5px 4px 2px 4px;\"><div title=\"\" style=\"font-size:80%; float:right; cursor: default; padding:4px 0px 4px 6px; color:#CCCCCC;\">&#x2b24;</div><br /><span style=\"font-size:70%; color:#33AA33\"> </span></td><td style=\"background-color:#CCEECC; line-height:80%; padding:5px 4px 2px 4px;\">SAND_FLAG<div title=\"0/2\" style=\"font-size:80%; float:right; cursor: default; padding:4px 0px 4px 6px; color:#FF3333;\">&#x2b24;</div><br /><span style=\"font-size:70%; color:#33AA33\">0.42 unitless</span></td><td style=\"background-color:#CCEECC; line-height:80%; padding:5px 4px 2px 4px;\">COAL_FLAG<div title=\"0/2\" style=\"font-size:80%; float:right; cursor: default; padding:4px 0px 4px 6px; color:#FF3333;\">&#x2b24;</div><br /><span style=\"font-size:70%; color:#33AA33\">0.01 unitless</span></td><td style=\"background-color:#CCEECC; line-height:80%; padding:5px 4px 2px 4px;\">CARB_FLAG<div title=\"0/2\" style=\"font-size:80%; float:right; cursor: default; padding:4px 0px 4px 6px; color:#FF3333;\">&#x2b24;</div><br /><span style=\"font-size:70%; color:#33AA33\">0.16 unitless</span></td></tr><td>11</td><td><span style=\"font-weight:bold;\">NO 15/9-F-12</span></td><td>4/5&nbsp;curves</td><td>75</td><td style=\"background-color:#CCEECC; line-height:80%; padding:5px 4px 2px 4px;\">VSH<div title=\"2/2\" style=\"font-size:80%; float:right; cursor: default; padding:4px 0px 4px 6px; color:#33EE33;\">&#x2b24;</div><br /><span style=\"font-size:70%; color:#33AA33\">0.42 v/v_decimal</span></td><td style=\"background-color:#CCEECC; line-height:80%; padding:5px 4px 2px 4px;\">SW<div title=\"1/2\" style=\"font-size:80%; float:right; cursor: default; padding:4px 0px 4px 6px; color:#FFCC33;\">&#x2b24;</div><br /><span style=\"font-size:70%; color:#33AA33\">0.60 v/v_decimal</span></td><td style=\"background-color:#CCCCCC; line-height:80%; padding:5px 4px 2px 4px;\"><div title=\"\" style=\"font-size:80%; float:right; cursor: default; padding:4px 0px 4px 6px; color:#CCCCCC;\">&#x2b24;</div><br /><span style=\"font-size:70%; color:#33AA33\"> </span></td><td style=\"background-color:#CCEECC; line-height:80%; padding:5px 4px 2px 4px;\">PHIF<div title=\"2/2\" style=\"font-size:80%; float:right; cursor: default; padding:4px 0px 4px 6px; color:#33EE33;\">&#x2b24;</div><br /><span style=\"font-size:70%; color:#33AA33\">0.17 v/v_decimal</span></td><td style=\"background-color:#CCEECC; line-height:80%; padding:5px 4px 2px 4px;\">KLOGH<div title=\"1/2\" style=\"font-size:80%; float:right; cursor: default; padding:4px 0px 4px 6px; color:#FFCC33;\">&#x2b24;</div><br /><span style=\"font-size:70%; color:#33AA33\">101.35 mD</span></td><td style=\"background-color:#CCCCCC; line-height:80%; padding:5px 4px 2px 4px;\"><div title=\"\" style=\"font-size:80%; float:right; cursor: default; padding:4px 0px 4px 6px; color:#CCCCCC;\">&#x2b24;</div><br /><span style=\"font-size:70%; color:#33AA33\"> </span></td><td style=\"background-color:#CCCCCC; line-height:80%; padding:5px 4px 2px 4px;\"><div title=\"\" style=\"font-size:80%; float:right; cursor: default; padding:4px 0px 4px 6px; color:#CCCCCC;\">&#x2b24;</div><br /><span style=\"font-size:70%; color:#33AA33\"> </span></td><td style=\"background-color:#CCCCCC; line-height:80%; padding:5px 4px 2px 4px;\"><div title=\"\" style=\"font-size:80%; float:right; cursor: default; padding:4px 0px 4px 6px; color:#CCCCCC;\">&#x2b24;</div><br /><span style=\"font-size:70%; color:#33AA33\"> </span></td><td style=\"background-color:#CCCCCC; line-height:80%; padding:5px 4px 2px 4px;\"><div title=\"\" style=\"font-size:80%; float:right; cursor: default; padding:4px 0px 4px 6px; color:#CCCCCC;\">&#x2b24;</div><br /><span style=\"font-size:70%; color:#33AA33\"> </span></td></tr><td>12</td><td><span style=\"font-weight:bold;\"></span></td><td>6/8&nbsp;curves</td><td>50</td><td style=\"background-color:#CCEECC; line-height:80%; padding:5px 4px 2px 4px;\">VSH<div title=\"2/2\" style=\"font-size:80%; float:right; cursor: default; padding:4px 0px 4px 6px; color:#33EE33;\">&#x2b24;</div><br /><span style=\"font-size:70%; color:#33AA33\">0.29 v/v</span></td><td style=\"background-color:#CCEECC; line-height:80%; padding:5px 4px 2px 4px;\">SW<div title=\"1/2\" style=\"font-size:80%; float:right; cursor: default; padding:4px 0px 4px 6px; color:#FFCC33;\">&#x2b24;</div><br /><span style=\"font-size:70%; color:#33AA33\">0.44 v/v</span></td><td style=\"background-color:#CCCCCC; line-height:80%; padding:5px 4px 2px 4px;\"><div title=\"\" style=\"font-size:80%; float:right; cursor: default; padding:4px 0px 4px 6px; color:#CCCCCC;\">&#x2b24;</div><br /><span style=\"font-size:70%; color:#33AA33\"> </span></td><td style=\"background-color:#CCEECC; line-height:80%; padding:5px 4px 2px 4px;\">PHIF<div title=\"1/2\" style=\"font-size:80%; float:right; cursor: default; padding:4px 0px 4px 6px; color:#FFCC33;\">&#x2b24;</div><br /><span style=\"font-size:70%; color:#33AA33\">0.17 v/v</span></td><td style=\"background-color:#CCEECC; line-height:80%; padding:5px 4px 2px 4px;\">KLOGH<div title=\"1/2\" style=\"font-size:80%; float:right; cursor: default; padding:4px 0px 4px 6px; color:#FFCC33;\">&#x2b24;</div><br /><span style=\"font-size:70%; color:#33AA33\">292.15 mD</span></td><td style=\"background-color:#CCCCCC; line-height:80%; padding:5px 4px 2px 4px;\"><div title=\"\" style=\"font-size:80%; float:right; cursor: default; padding:4px 0px 4px 6px; color:#CCCCCC;\">&#x2b24;</div><br /><span style=\"font-size:70%; color:#33AA33\"> </span></td><td style=\"background-color:#CCEECC; line-height:80%; padding:5px 4px 2px 4px;\">SAND_FLAG<div title=\"1/2\" style=\"font-size:80%; float:right; cursor: default; padding:4px 0px 4px 6px; color:#FFCC33;\">&#x2b24;</div><br /><span style=\"font-size:70%; color:#33AA33\">0.74 unitless</span></td><td style=\"background-color:#CCEECC; line-height:80%; padding:5px 4px 2px 4px;\">COAL_FLAG<div title=\"0/2\" style=\"font-size:80%; float:right; cursor: default; padding:4px 0px 4px 6px; color:#FF3333;\">&#x2b24;</div><br /><span style=\"font-size:70%; color:#33AA33\">nan unitless</span></td><td style=\"background-color:#CCCCCC; line-height:80%; padding:5px 4px 2px 4px;\"><div title=\"\" style=\"font-size:80%; float:right; cursor: default; padding:4px 0px 4px 6px; color:#CCCCCC;\">&#x2b24;</div><br /><span style=\"font-size:70%; color:#33AA33\"> </span></td></tr></table>"
      ],
      "text/plain": [
       "<IPython.core.display.HTML object>"
      ]
     },
     "execution_count": 32,
     "metadata": {},
     "output_type": "execute_result"
    }
   ],
   "source": [
    "# Check curve quality by passing a test suite to the project, and making a quality table.\n",
    "# Example: 'Gamma': [qty.all_positive, qty.mean_between(10, 100),],\n",
    "\n",
    "tests = {\n",
    "    'All': [qty.no_similarities],\n",
    "    'Each': [qty.no_monotonic]\n",
    "    }\n",
    "\n",
    "html = p_ppinterp.curve_table_html(keys=keys, alias=alias, tests=tests)\n",
    "HTML(html)"
   ]
  },
  {
   "cell_type": "code",
   "execution_count": 33,
   "metadata": {},
   "outputs": [
    {
     "name": "stdout",
     "output_type": "stream",
     "text": [
      " 4583\n",
      " 4818\n",
      " 10687\n",
      " "
     ]
    },
    {
     "ename": "AttributeError",
     "evalue": "'NoneType' object has no attribute 'shape'",
     "output_type": "error",
     "traceback": [
      "\u001b[1;31m---------------------------------------------------------------------------\u001b[0m",
      "\u001b[1;31mAttributeError\u001b[0m                            Traceback (most recent call last)",
      "\u001b[1;32m<ipython-input-33-0776d36eb5db>\u001b[0m in \u001b[0;36m<module>\u001b[1;34m\u001b[0m\n\u001b[1;32m----> 1\u001b[1;33m \u001b[0mX\u001b[0m\u001b[1;33m,\u001b[0m \u001b[0m_\u001b[0m \u001b[1;33m=\u001b[0m \u001b[0mp_ppinterp\u001b[0m\u001b[1;33m.\u001b[0m\u001b[0mdata_as_matrix\u001b[0m\u001b[1;33m(\u001b[0m\u001b[0mX_keys\u001b[0m\u001b[1;33m=\u001b[0m\u001b[0mkeys\u001b[0m\u001b[1;33m,\u001b[0m \u001b[0mstep\u001b[0m\u001b[1;33m=\u001b[0m\u001b[1;36m0.1\u001b[0m\u001b[1;33m,\u001b[0m \u001b[0malias\u001b[0m\u001b[1;33m=\u001b[0m\u001b[0malias\u001b[0m\u001b[1;33m)\u001b[0m\u001b[1;33m\u001b[0m\u001b[1;33m\u001b[0m\u001b[0m\n\u001b[0m",
      "\u001b[1;32m~\\AppData\\Local\\Continuum\\anaconda3\\lib\\site-packages\\welly\\project.py\u001b[0m in \u001b[0;36mdata_as_matrix\u001b[1;34m(self, X_keys, y_key, alias, legend, match_only, field, field_function, table, legend_field, basis, step, window_length, window_step, test, remove_zeros, include_basis, include_index, include, complete_only)\u001b[0m\n\u001b[0;32m    552\u001b[0m                                                 \u001b[0minclude_index\u001b[0m\u001b[1;33m=\u001b[0m\u001b[0minclude_index\u001b[0m\u001b[1;33m,\u001b[0m\u001b[1;33m\u001b[0m\u001b[1;33m\u001b[0m\u001b[0m\n\u001b[0;32m    553\u001b[0m                                                 \u001b[0minclude\u001b[0m\u001b[1;33m=\u001b[0m\u001b[0minclude\u001b[0m\u001b[1;33m,\u001b[0m\u001b[1;33m\u001b[0m\u001b[1;33m\u001b[0m\u001b[0m\n\u001b[1;32m--> 554\u001b[1;33m                                                 \u001b[0mcomplete_only\u001b[0m\u001b[1;33m=\u001b[0m\u001b[1;32mFalse\u001b[0m\u001b[1;33m,\u001b[0m\u001b[1;33m\u001b[0m\u001b[1;33m\u001b[0m\u001b[0m\n\u001b[0m\u001b[0;32m    555\u001b[0m                                                 )\n\u001b[0;32m    556\u001b[0m \u001b[1;33m\u001b[0m\u001b[0m\n",
      "\u001b[1;32m~\\AppData\\Local\\Continuum\\anaconda3\\lib\\site-packages\\welly\\project.py\u001b[0m in \u001b[0;36m_data_as_matrix\u001b[1;34m(self, X_keys, y_key, alias, legend, match_only, field, field_function, legend_field, table, basis, step, window_length, window_step, uwis, include_basis, include_index, include, complete_only)\u001b[0m\n\u001b[0;32m    650\u001b[0m                                      \u001b[0mwindow_step\u001b[0m\u001b[1;33m=\u001b[0m\u001b[0mwindow_step\u001b[0m\u001b[1;33m,\u001b[0m\u001b[1;33m\u001b[0m\u001b[1;33m\u001b[0m\u001b[0m\n\u001b[0;32m    651\u001b[0m                                      \u001b[0mreturn_basis\u001b[0m\u001b[1;33m=\u001b[0m\u001b[1;32mTrue\u001b[0m\u001b[1;33m,\u001b[0m\u001b[1;33m\u001b[0m\u001b[1;33m\u001b[0m\u001b[0m\n\u001b[1;32m--> 652\u001b[1;33m                                      alias=alias)\n\u001b[0m\u001b[0;32m    653\u001b[0m             \u001b[1;32mif\u001b[0m \u001b[0minclude\u001b[0m \u001b[1;32mis\u001b[0m \u001b[1;32mnot\u001b[0m \u001b[1;32mNone\u001b[0m\u001b[1;33m:\u001b[0m\u001b[1;33m\u001b[0m\u001b[1;33m\u001b[0m\u001b[0m\n\u001b[0;32m    654\u001b[0m                 \u001b[1;32mtry\u001b[0m\u001b[1;33m:\u001b[0m\u001b[1;33m\u001b[0m\u001b[1;33m\u001b[0m\u001b[0m\n",
      "\u001b[1;32m~\\AppData\\Local\\Continuum\\anaconda3\\lib\\site-packages\\welly\\well.py\u001b[0m in \u001b[0;36mdata_as_matrix\u001b[1;34m(self, keys, return_basis, basis, alias, start, stop, step, window_length, window_step)\u001b[0m\n\u001b[0;32m   1117\u001b[0m             \u001b[1;32melse\u001b[0m\u001b[1;33m:\u001b[0m\u001b[1;33m\u001b[0m\u001b[1;33m\u001b[0m\u001b[0m\n\u001b[0;32m   1118\u001b[0m                 \u001b[1;31m# Empty_like gives unpredictable results\u001b[0m\u001b[1;33m\u001b[0m\u001b[1;33m\u001b[0m\u001b[1;33m\u001b[0m\u001b[0m\n\u001b[1;32m-> 1119\u001b[1;33m                 \u001b[0mdata\u001b[0m\u001b[1;33m[\u001b[0m\u001b[0mi\u001b[0m\u001b[1;33m]\u001b[0m \u001b[1;33m=\u001b[0m \u001b[0mCurve\u001b[0m\u001b[1;33m(\u001b[0m\u001b[0mnp\u001b[0m\u001b[1;33m.\u001b[0m\u001b[0mfull\u001b[0m\u001b[1;33m(\u001b[0m\u001b[0mbasis\u001b[0m\u001b[1;33m.\u001b[0m\u001b[0mshape\u001b[0m\u001b[1;33m,\u001b[0m \u001b[0mnp\u001b[0m\u001b[1;33m.\u001b[0m\u001b[0mnan\u001b[0m\u001b[1;33m)\u001b[0m\u001b[1;33m,\u001b[0m \u001b[0mbasis\u001b[0m\u001b[1;33m=\u001b[0m\u001b[0mbasis\u001b[0m\u001b[1;33m)\u001b[0m\u001b[1;33m\u001b[0m\u001b[1;33m\u001b[0m\u001b[0m\n\u001b[0m\u001b[0;32m   1120\u001b[0m \u001b[1;33m\u001b[0m\u001b[0m\n\u001b[0;32m   1121\u001b[0m         \u001b[1;32mif\u001b[0m \u001b[0mwindow_length\u001b[0m \u001b[1;32mis\u001b[0m \u001b[1;32mnot\u001b[0m \u001b[1;32mNone\u001b[0m\u001b[1;33m:\u001b[0m\u001b[1;33m\u001b[0m\u001b[1;33m\u001b[0m\u001b[0m\n",
      "\u001b[1;31mAttributeError\u001b[0m: 'NoneType' object has no attribute 'shape'"
     ]
    }
   ],
   "source": [
    "X, _ = p_ppinterp.data_as_matrix(X_keys=keys, step=0.1, alias=alias)"
   ]
  },
  {
   "cell_type": "code",
   "execution_count": null,
   "metadata": {},
   "outputs": [],
   "source": []
  },
  {
   "cell_type": "markdown",
   "metadata": {},
   "source": [
    "### PP Interp - Individual well (15/9-19 A)"
   ]
  },
  {
   "cell_type": "code",
   "execution_count": 34,
   "metadata": {},
   "outputs": [
    {
     "data": {
      "text/html": [
       "<table><tr><th style=\"text-align:center;\" colspan=\"2\">NO_15/9-19_A<br><small></small></th></tr><tr><td><strong>td</strong></td><td>None</td></tr><tr><td><strong>crs</strong></td><td>CRS({})</td></tr><tr><td><strong>location</strong></td><td></td></tr><tr><td><strong>country</strong></td><td></td></tr><tr><td><strong>state</strong></td><td></td></tr><tr><td><strong>county</strong></td><td></td></tr><tr><td><strong>api</strong></td><td></td></tr><tr><td><strong>data</strong></td><td>BS, BVW, CARB_FLAG, COAL_FLAG, DELTA, GRMAX, GRMIN, J, KLHC_INT, KLOGH, M, N, PERF_FLAG, PHIF, PORD, RHOFL, RHOMA, RW, SAND_FLAG, SW, SWIRR, TEMP, VSH</td></tr></table>"
      ],
      "text/plain": [
       "Well(uwi: '', 23 curves: ['BS', 'BVW', 'CARB_FLAG', 'COAL_FLAG', 'DELTA', 'GRMAX', 'GRMIN', 'J', 'KLHC_INT', 'KLOGH', 'M', 'N', 'PERF_FLAG', 'PHIF', 'PORD', 'RHOFL', 'RHOMA', 'RW', 'SAND_FLAG', 'SW', 'SWIRR', 'TEMP', 'VSH'])"
      ]
     },
     "execution_count": 34,
     "metadata": {},
     "output_type": "execute_result"
    }
   ],
   "source": [
    "w15_9_19_A = Well.from_las('input_data/ppinterp/15_9-19_A_CPI.las')\n",
    "w15_9_19_A"
   ]
  },
  {
   "cell_type": "code",
   "execution_count": 35,
   "metadata": {
    "scrolled": true
   },
   "outputs": [
    {
     "data": {
      "text/html": [
       "<div>\n",
       "<style scoped>\n",
       "    .dataframe tbody tr th:only-of-type {\n",
       "        vertical-align: middle;\n",
       "    }\n",
       "\n",
       "    .dataframe tbody tr th {\n",
       "        vertical-align: top;\n",
       "    }\n",
       "\n",
       "    .dataframe thead th {\n",
       "        text-align: right;\n",
       "    }\n",
       "</style>\n",
       "<table border=\"1\" class=\"dataframe\">\n",
       "  <thead>\n",
       "    <tr style=\"text-align: right;\">\n",
       "      <th></th>\n",
       "      <th>BS</th>\n",
       "      <th>BVW</th>\n",
       "      <th>CARB_FLAG</th>\n",
       "      <th>COAL_FLAG</th>\n",
       "      <th>DELTA</th>\n",
       "      <th>GRMAX</th>\n",
       "      <th>GRMIN</th>\n",
       "      <th>J</th>\n",
       "      <th>KLHC_INT</th>\n",
       "      <th>KLOGH</th>\n",
       "      <th>...</th>\n",
       "      <th>PHIF</th>\n",
       "      <th>PORD</th>\n",
       "      <th>RHOFL</th>\n",
       "      <th>RHOMA</th>\n",
       "      <th>RW</th>\n",
       "      <th>SAND_FLAG</th>\n",
       "      <th>SW</th>\n",
       "      <th>SWIRR</th>\n",
       "      <th>TEMP</th>\n",
       "      <th>VSH</th>\n",
       "    </tr>\n",
       "    <tr>\n",
       "      <th>Depth</th>\n",
       "      <th></th>\n",
       "      <th></th>\n",
       "      <th></th>\n",
       "      <th></th>\n",
       "      <th></th>\n",
       "      <th></th>\n",
       "      <th></th>\n",
       "      <th></th>\n",
       "      <th></th>\n",
       "      <th></th>\n",
       "      <th></th>\n",
       "      <th></th>\n",
       "      <th></th>\n",
       "      <th></th>\n",
       "      <th></th>\n",
       "      <th></th>\n",
       "      <th></th>\n",
       "      <th></th>\n",
       "      <th></th>\n",
       "      <th></th>\n",
       "      <th></th>\n",
       "    </tr>\n",
       "  </thead>\n",
       "  <tbody>\n",
       "    <tr>\n",
       "      <th>3666.5916</th>\n",
       "      <td>8.5</td>\n",
       "      <td>0.111705</td>\n",
       "      <td>0.0</td>\n",
       "      <td>0.0</td>\n",
       "      <td>0.1475</td>\n",
       "      <td>115.0</td>\n",
       "      <td>14.0</td>\n",
       "      <td>0.000163</td>\n",
       "      <td>0.0003</td>\n",
       "      <td>0.0003</td>\n",
       "      <td>...</td>\n",
       "      <td>0.199843</td>\n",
       "      <td>0.199843</td>\n",
       "      <td>0.8</td>\n",
       "      <td>2.66</td>\n",
       "      <td>0.021643</td>\n",
       "      <td>0.0</td>\n",
       "      <td>0.5590</td>\n",
       "      <td>1.8023</td>\n",
       "      <td>112.7249</td>\n",
       "      <td>0.598800</td>\n",
       "    </tr>\n",
       "    <tr>\n",
       "      <th>3666.7440</th>\n",
       "      <td>8.5</td>\n",
       "      <td>0.112236</td>\n",
       "      <td>0.0</td>\n",
       "      <td>0.0</td>\n",
       "      <td>0.3583</td>\n",
       "      <td>115.0</td>\n",
       "      <td>14.0</td>\n",
       "      <td>0.000003</td>\n",
       "      <td>0.0000</td>\n",
       "      <td>0.0000</td>\n",
       "      <td>...</td>\n",
       "      <td>0.218743</td>\n",
       "      <td>0.218743</td>\n",
       "      <td>0.8</td>\n",
       "      <td>2.66</td>\n",
       "      <td>0.021642</td>\n",
       "      <td>0.0</td>\n",
       "      <td>0.5131</td>\n",
       "      <td>7.9467</td>\n",
       "      <td>112.7285</td>\n",
       "      <td>0.599555</td>\n",
       "    </tr>\n",
       "    <tr>\n",
       "      <th>3666.8964</th>\n",
       "      <td>8.5</td>\n",
       "      <td>0.114825</td>\n",
       "      <td>0.0</td>\n",
       "      <td>0.0</td>\n",
       "      <td>0.1298</td>\n",
       "      <td>115.0</td>\n",
       "      <td>14.0</td>\n",
       "      <td>0.000004</td>\n",
       "      <td>0.0000</td>\n",
       "      <td>0.0000</td>\n",
       "      <td>...</td>\n",
       "      <td>0.242380</td>\n",
       "      <td>0.242380</td>\n",
       "      <td>0.8</td>\n",
       "      <td>2.66</td>\n",
       "      <td>0.021642</td>\n",
       "      <td>0.0</td>\n",
       "      <td>0.4737</td>\n",
       "      <td>6.5907</td>\n",
       "      <td>112.7321</td>\n",
       "      <td>0.600310</td>\n",
       "    </tr>\n",
       "    <tr>\n",
       "      <th>3667.0488</th>\n",
       "      <td>8.5</td>\n",
       "      <td>0.114419</td>\n",
       "      <td>0.0</td>\n",
       "      <td>0.0</td>\n",
       "      <td>0.2489</td>\n",
       "      <td>115.0</td>\n",
       "      <td>14.0</td>\n",
       "      <td>0.000002</td>\n",
       "      <td>0.0000</td>\n",
       "      <td>0.0000</td>\n",
       "      <td>...</td>\n",
       "      <td>0.226408</td>\n",
       "      <td>0.226408</td>\n",
       "      <td>0.8</td>\n",
       "      <td>2.66</td>\n",
       "      <td>0.021641</td>\n",
       "      <td>0.0</td>\n",
       "      <td>0.5054</td>\n",
       "      <td>8.6274</td>\n",
       "      <td>112.7358</td>\n",
       "      <td>0.601065</td>\n",
       "    </tr>\n",
       "    <tr>\n",
       "      <th>3667.2012</th>\n",
       "      <td>8.5</td>\n",
       "      <td>0.115867</td>\n",
       "      <td>0.0</td>\n",
       "      <td>0.0</td>\n",
       "      <td>0.2072</td>\n",
       "      <td>115.0</td>\n",
       "      <td>14.0</td>\n",
       "      <td>0.000004</td>\n",
       "      <td>0.0000</td>\n",
       "      <td>0.0000</td>\n",
       "      <td>...</td>\n",
       "      <td>0.216169</td>\n",
       "      <td>0.216169</td>\n",
       "      <td>0.8</td>\n",
       "      <td>2.66</td>\n",
       "      <td>0.021640</td>\n",
       "      <td>0.0</td>\n",
       "      <td>0.5360</td>\n",
       "      <td>6.8473</td>\n",
       "      <td>112.7394</td>\n",
       "      <td>0.601820</td>\n",
       "    </tr>\n",
       "    <tr>\n",
       "      <th>...</th>\n",
       "      <td>...</td>\n",
       "      <td>...</td>\n",
       "      <td>...</td>\n",
       "      <td>...</td>\n",
       "      <td>...</td>\n",
       "      <td>...</td>\n",
       "      <td>...</td>\n",
       "      <td>...</td>\n",
       "      <td>...</td>\n",
       "      <td>...</td>\n",
       "      <td>...</td>\n",
       "      <td>...</td>\n",
       "      <td>...</td>\n",
       "      <td>...</td>\n",
       "      <td>...</td>\n",
       "      <td>...</td>\n",
       "      <td>...</td>\n",
       "      <td>...</td>\n",
       "      <td>...</td>\n",
       "      <td>...</td>\n",
       "      <td>...</td>\n",
       "    </tr>\n",
       "    <tr>\n",
       "      <th>4124.2488</th>\n",
       "      <td>8.5</td>\n",
       "      <td>NaN</td>\n",
       "      <td>0.0</td>\n",
       "      <td>0.0</td>\n",
       "      <td>NaN</td>\n",
       "      <td>NaN</td>\n",
       "      <td>NaN</td>\n",
       "      <td>NaN</td>\n",
       "      <td>NaN</td>\n",
       "      <td>NaN</td>\n",
       "      <td>...</td>\n",
       "      <td>NaN</td>\n",
       "      <td>NaN</td>\n",
       "      <td>0.9</td>\n",
       "      <td>NaN</td>\n",
       "      <td>NaN</td>\n",
       "      <td>NaN</td>\n",
       "      <td>NaN</td>\n",
       "      <td>NaN</td>\n",
       "      <td>NaN</td>\n",
       "      <td>0.422817</td>\n",
       "    </tr>\n",
       "    <tr>\n",
       "      <th>4124.4012</th>\n",
       "      <td>8.5</td>\n",
       "      <td>NaN</td>\n",
       "      <td>0.0</td>\n",
       "      <td>0.0</td>\n",
       "      <td>NaN</td>\n",
       "      <td>NaN</td>\n",
       "      <td>NaN</td>\n",
       "      <td>NaN</td>\n",
       "      <td>NaN</td>\n",
       "      <td>NaN</td>\n",
       "      <td>...</td>\n",
       "      <td>NaN</td>\n",
       "      <td>NaN</td>\n",
       "      <td>0.9</td>\n",
       "      <td>NaN</td>\n",
       "      <td>NaN</td>\n",
       "      <td>NaN</td>\n",
       "      <td>NaN</td>\n",
       "      <td>NaN</td>\n",
       "      <td>NaN</td>\n",
       "      <td>0.422817</td>\n",
       "    </tr>\n",
       "    <tr>\n",
       "      <th>4124.5536</th>\n",
       "      <td>8.5</td>\n",
       "      <td>NaN</td>\n",
       "      <td>0.0</td>\n",
       "      <td>0.0</td>\n",
       "      <td>NaN</td>\n",
       "      <td>NaN</td>\n",
       "      <td>NaN</td>\n",
       "      <td>NaN</td>\n",
       "      <td>NaN</td>\n",
       "      <td>NaN</td>\n",
       "      <td>...</td>\n",
       "      <td>NaN</td>\n",
       "      <td>NaN</td>\n",
       "      <td>0.9</td>\n",
       "      <td>NaN</td>\n",
       "      <td>NaN</td>\n",
       "      <td>NaN</td>\n",
       "      <td>NaN</td>\n",
       "      <td>NaN</td>\n",
       "      <td>NaN</td>\n",
       "      <td>0.422817</td>\n",
       "    </tr>\n",
       "    <tr>\n",
       "      <th>4124.7060</th>\n",
       "      <td>8.5</td>\n",
       "      <td>NaN</td>\n",
       "      <td>0.0</td>\n",
       "      <td>0.0</td>\n",
       "      <td>NaN</td>\n",
       "      <td>NaN</td>\n",
       "      <td>NaN</td>\n",
       "      <td>NaN</td>\n",
       "      <td>NaN</td>\n",
       "      <td>NaN</td>\n",
       "      <td>...</td>\n",
       "      <td>NaN</td>\n",
       "      <td>NaN</td>\n",
       "      <td>0.9</td>\n",
       "      <td>NaN</td>\n",
       "      <td>NaN</td>\n",
       "      <td>NaN</td>\n",
       "      <td>NaN</td>\n",
       "      <td>NaN</td>\n",
       "      <td>NaN</td>\n",
       "      <td>0.422817</td>\n",
       "    </tr>\n",
       "    <tr>\n",
       "      <th>4124.8584</th>\n",
       "      <td>8.5</td>\n",
       "      <td>NaN</td>\n",
       "      <td>0.0</td>\n",
       "      <td>0.0</td>\n",
       "      <td>NaN</td>\n",
       "      <td>NaN</td>\n",
       "      <td>NaN</td>\n",
       "      <td>NaN</td>\n",
       "      <td>NaN</td>\n",
       "      <td>NaN</td>\n",
       "      <td>...</td>\n",
       "      <td>NaN</td>\n",
       "      <td>NaN</td>\n",
       "      <td>0.9</td>\n",
       "      <td>NaN</td>\n",
       "      <td>NaN</td>\n",
       "      <td>NaN</td>\n",
       "      <td>NaN</td>\n",
       "      <td>NaN</td>\n",
       "      <td>NaN</td>\n",
       "      <td>0.422817</td>\n",
       "    </tr>\n",
       "  </tbody>\n",
       "</table>\n",
       "<p>3008 rows × 23 columns</p>\n",
       "</div>"
      ],
      "text/plain": [
       "            BS       BVW  CARB_FLAG  COAL_FLAG   DELTA  GRMAX  GRMIN  \\\n",
       "Depth                                                                  \n",
       "3666.5916  8.5  0.111705        0.0        0.0  0.1475  115.0   14.0   \n",
       "3666.7440  8.5  0.112236        0.0        0.0  0.3583  115.0   14.0   \n",
       "3666.8964  8.5  0.114825        0.0        0.0  0.1298  115.0   14.0   \n",
       "3667.0488  8.5  0.114419        0.0        0.0  0.2489  115.0   14.0   \n",
       "3667.2012  8.5  0.115867        0.0        0.0  0.2072  115.0   14.0   \n",
       "...        ...       ...        ...        ...     ...    ...    ...   \n",
       "4124.2488  8.5       NaN        0.0        0.0     NaN    NaN    NaN   \n",
       "4124.4012  8.5       NaN        0.0        0.0     NaN    NaN    NaN   \n",
       "4124.5536  8.5       NaN        0.0        0.0     NaN    NaN    NaN   \n",
       "4124.7060  8.5       NaN        0.0        0.0     NaN    NaN    NaN   \n",
       "4124.8584  8.5       NaN        0.0        0.0     NaN    NaN    NaN   \n",
       "\n",
       "                  J  KLHC_INT   KLOGH  ...      PHIF      PORD  RHOFL  RHOMA  \\\n",
       "Depth                                  ...                                     \n",
       "3666.5916  0.000163    0.0003  0.0003  ...  0.199843  0.199843    0.8   2.66   \n",
       "3666.7440  0.000003    0.0000  0.0000  ...  0.218743  0.218743    0.8   2.66   \n",
       "3666.8964  0.000004    0.0000  0.0000  ...  0.242380  0.242380    0.8   2.66   \n",
       "3667.0488  0.000002    0.0000  0.0000  ...  0.226408  0.226408    0.8   2.66   \n",
       "3667.2012  0.000004    0.0000  0.0000  ...  0.216169  0.216169    0.8   2.66   \n",
       "...             ...       ...     ...  ...       ...       ...    ...    ...   \n",
       "4124.2488       NaN       NaN     NaN  ...       NaN       NaN    0.9    NaN   \n",
       "4124.4012       NaN       NaN     NaN  ...       NaN       NaN    0.9    NaN   \n",
       "4124.5536       NaN       NaN     NaN  ...       NaN       NaN    0.9    NaN   \n",
       "4124.7060       NaN       NaN     NaN  ...       NaN       NaN    0.9    NaN   \n",
       "4124.8584       NaN       NaN     NaN  ...       NaN       NaN    0.9    NaN   \n",
       "\n",
       "                 RW  SAND_FLAG      SW   SWIRR      TEMP       VSH  \n",
       "Depth                                                               \n",
       "3666.5916  0.021643        0.0  0.5590  1.8023  112.7249  0.598800  \n",
       "3666.7440  0.021642        0.0  0.5131  7.9467  112.7285  0.599555  \n",
       "3666.8964  0.021642        0.0  0.4737  6.5907  112.7321  0.600310  \n",
       "3667.0488  0.021641        0.0  0.5054  8.6274  112.7358  0.601065  \n",
       "3667.2012  0.021640        0.0  0.5360  6.8473  112.7394  0.601820  \n",
       "...             ...        ...     ...     ...       ...       ...  \n",
       "4124.2488       NaN        NaN     NaN     NaN       NaN  0.422817  \n",
       "4124.4012       NaN        NaN     NaN     NaN       NaN  0.422817  \n",
       "4124.5536       NaN        NaN     NaN     NaN       NaN  0.422817  \n",
       "4124.7060       NaN        NaN     NaN     NaN       NaN  0.422817  \n",
       "4124.8584       NaN        NaN     NaN     NaN       NaN  0.422817  \n",
       "\n",
       "[3008 rows x 23 columns]"
      ]
     },
     "execution_count": 35,
     "metadata": {},
     "output_type": "execute_result"
    }
   ],
   "source": [
    "w15_9_19_A.df()"
   ]
  },
  {
   "cell_type": "code",
   "execution_count": 65,
   "metadata": {},
   "outputs": [
    {
     "name": "stdout",
     "output_type": "stream",
     "text": [
      "15/9-19 A\n",
      "Norway\n",
      "NOR North Sea\n",
      "Volve Field\n"
     ]
    }
   ],
   "source": [
    "# Make corrections\n",
    "# Set values and output LAS\n",
    "\n",
    "las = lasio.read('input_data/ppinterp/15_9-19_A_CPI.las')\n",
    "\n",
    "# Note that you can't do this with Welly's .Well object, needs to use Lasio \n",
    "\n",
    "las.well.UWI = '15/9-19 A'\n",
    "las.well.CTRY = 'Norway'\n",
    "las.well.LOC = 'NOR North Sea'\n",
    "las.well.FLD = 'Volve Field'\n",
    "\n",
    "print(las.well.UWI.value)\n",
    "print(las.well.CTRY.value)\n",
    "print(las.well.LOC.value)\n",
    "print(las.well.FLD.value)"
   ]
  },
  {
   "cell_type": "code",
   "execution_count": 66,
   "metadata": {},
   "outputs": [
    {
     "data": {
      "text/plain": [
       "[HeaderItem(mnemonic=STRT, unit=M, value=3666.5916, descr=START DEPTH),\n",
       " HeaderItem(mnemonic=STOP, unit=M, value=4124.8584, descr=STOP DEPTH),\n",
       " HeaderItem(mnemonic=STEP, unit=M, value=0.1524, descr=STEP),\n",
       " HeaderItem(mnemonic=NULL, unit=, value=-999.25, descr=NULL VALUE),\n",
       " HeaderItem(mnemonic=COMP, unit=, value=, descr=COMPANY),\n",
       " HeaderItem(mnemonic=WELL, unit=, value=NO_15/9-19_A, descr=WELL),\n",
       " HeaderItem(mnemonic=FLD, unit=, value=Volve Field, descr=FIELD),\n",
       " HeaderItem(mnemonic=LOC, unit=, value=NOR North Sea, descr=LOCATION),\n",
       " HeaderItem(mnemonic=CTRY, unit=, value=Norway, descr=COUNTRY),\n",
       " HeaderItem(mnemonic=STAT, unit=, value=, descr=STATE),\n",
       " HeaderItem(mnemonic=CNTY, unit=, value=, descr=COUNTY),\n",
       " HeaderItem(mnemonic=SRVC, unit=, value=, descr=SERVICE COMPANY),\n",
       " HeaderItem(mnemonic=DATE, unit=, value=, descr=DATE),\n",
       " HeaderItem(mnemonic=API, unit=, value=, descr=API NUMBER),\n",
       " HeaderItem(mnemonic=UWI, unit=, value=15/9-19 A, descr=UNIQUE WELL ID)]"
      ]
     },
     "execution_count": 66,
     "metadata": {},
     "output_type": "execute_result"
    }
   ],
   "source": [
    "las.well"
   ]
  },
  {
   "cell_type": "code",
   "execution_count": 68,
   "metadata": {},
   "outputs": [],
   "source": [
    "las.write('output_data/w15_9_19_A_corrected.las')"
   ]
  },
  {
   "cell_type": "code",
   "execution_count": 69,
   "metadata": {},
   "outputs": [
    {
     "data": {
      "text/html": [
       "<table><tr><th style=\"text-align:center;\" colspan=\"2\">NO_15/9-19_A<br><small>15/9-19 A</small></th></tr><tr><td><strong>td</strong></td><td>None</td></tr><tr><td><strong>crs</strong></td><td>CRS({})</td></tr><tr><td><strong>location</strong></td><td>NOR North Sea</td></tr><tr><td><strong>country</strong></td><td>Norway</td></tr><tr><td><strong>state</strong></td><td></td></tr><tr><td><strong>county</strong></td><td></td></tr><tr><td><strong>api</strong></td><td></td></tr><tr><td><strong>data</strong></td><td>BS, BVW, CARB_FLAG, COAL_FLAG, DELTA, GRMAX, GRMIN, J, KLHC_INT, KLOGH, M, N, PERF_FLAG, PHIF, PORD, RHOFL, RHOMA, RW, SAND_FLAG, SW, SWIRR, TEMP, VSH</td></tr></table>"
      ],
      "text/plain": [
       "Well(uwi: '15/9-19 A', 23 curves: ['BS', 'BVW', 'CARB_FLAG', 'COAL_FLAG', 'DELTA', 'GRMAX', 'GRMIN', 'J', 'KLHC_INT', 'KLOGH', 'M', 'N', 'PERF_FLAG', 'PHIF', 'PORD', 'RHOFL', 'RHOMA', 'RW', 'SAND_FLAG', 'SW', 'SWIRR', 'TEMP', 'VSH'])"
      ]
     },
     "execution_count": 69,
     "metadata": {},
     "output_type": "execute_result"
    }
   ],
   "source": [
    "# And now re-import above file with Welly\n",
    "\n",
    "w15_9_19_A_reimport = Well.from_las('output_data/w15_9_19_A_corrected.las')\n",
    "w15_9_19_A_reimport\n",
    "\n",
    "# Not sure where Welly is looking for td and crs (not listed under ~W for any of these LAS files)"
   ]
  },
  {
   "cell_type": "raw",
   "metadata": {},
   "source": [
    "# For another day\n",
    "\n",
    "from welly import CRS\n",
    "w.location.crs = CRS.from_epsg(2038)\n",
    "from welly import CR\n",
    "w.location.crs"
   ]
  },
  {
   "cell_type": "code",
   "execution_count": null,
   "metadata": {},
   "outputs": [],
   "source": []
  },
  {
   "cell_type": "code",
   "execution_count": null,
   "metadata": {},
   "outputs": [],
   "source": []
  },
  {
   "cell_type": "code",
   "execution_count": null,
   "metadata": {},
   "outputs": [],
   "source": []
  },
  {
   "cell_type": "code",
   "execution_count": null,
   "metadata": {},
   "outputs": [],
   "source": []
  }
 ],
 "metadata": {
  "kernelspec": {
   "display_name": "Python (geoenv1)",
   "language": "python",
   "name": "geoenv1"
  },
  "language_info": {
   "codemirror_mode": {
    "name": "ipython",
    "version": 3
   },
   "file_extension": ".py",
   "mimetype": "text/x-python",
   "name": "python",
   "nbconvert_exporter": "python",
   "pygments_lexer": "ipython3",
   "version": "3.7.4"
  },
  "toc": {
   "base_numbering": 1,
   "nav_menu": {},
   "number_sections": true,
   "sideBar": true,
   "skip_h1_title": false,
   "title_cell": "Table of Contents",
   "title_sidebar": "Contents",
   "toc_cell": false,
   "toc_position": {},
   "toc_section_display": true,
   "toc_window_display": false
  },
  "varInspector": {
   "cols": {
    "lenName": 16,
    "lenType": 16,
    "lenVar": 40
   },
   "kernels_config": {
    "python": {
     "delete_cmd_postfix": "",
     "delete_cmd_prefix": "del ",
     "library": "var_list.py",
     "varRefreshCmd": "print(var_dic_list())"
    },
    "r": {
     "delete_cmd_postfix": ") ",
     "delete_cmd_prefix": "rm(",
     "library": "var_list.r",
     "varRefreshCmd": "cat(var_dic_list()) "
    }
   },
   "types_to_exclude": [
    "module",
    "function",
    "builtin_function_or_method",
    "instance",
    "_Feature"
   ],
   "window_display": false
  }
 },
 "nbformat": 4,
 "nbformat_minor": 2
}
