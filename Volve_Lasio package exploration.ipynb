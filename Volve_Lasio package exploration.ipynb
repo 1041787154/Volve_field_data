{
 "cells": [
  {
   "cell_type": "markdown",
   "metadata": {},
   "source": [
    "# Exploring a composite well log (Well 15/9-19 SR) from Volve Field using Lasio package"
   ]
  },
  {
   "cell_type": "markdown",
   "metadata": {},
   "source": [
    "STAT1990__30-1__15-9-19_SR__COMPOSITE__1.LAS<br>\n",
    "lasio - Log ASCII Standard (LAS) files in Python (reading & writing LAS files)\n",
    "\n",
    "Follow along using:<br>\n",
    "https://lasio.readthedocs.io/en/latest/basic-example.html<br>\n",
    "https://github.com/kinverarity1/lasio\n",
    "\n",
    "The lasio project provides a very nice way to read and write CWLS Log ASCII Standard files. The result is an object, based on OrderedDict, that contains all the LAS data — it's more or less analogous to the LAS file."
   ]
  },
  {
   "cell_type": "code",
   "execution_count": 1,
   "metadata": {},
   "outputs": [],
   "source": [
    "import lasio\n",
    "import numpy as np\n",
    "import pandas as pd\n",
    "import matplotlib.pyplot as plt\n",
    "\n",
    "%matplotlib inline"
   ]
  },
  {
   "cell_type": "markdown",
   "metadata": {},
   "source": [
    "### Basic example"
   ]
  },
  {
   "cell_type": "code",
   "execution_count": 2,
   "metadata": {},
   "outputs": [],
   "source": [
    "# Read LAS file in\n",
    "las = lasio.read('STAT1990__30-1__15-9-19_SR__COMPOSITE__1.las')"
   ]
  },
  {
   "cell_type": "code",
   "execution_count": 3,
   "metadata": {},
   "outputs": [],
   "source": [
    "#Can retrieve and load data as a pandas DataFrame, \n",
    "#build LAS files from scratch, write them back to disc, \n",
    "#and export to Excel, amongst other things."
   ]
  },
  {
   "cell_type": "code",
   "execution_count": 4,
   "metadata": {},
   "outputs": [
    {
     "data": {
      "text/plain": [
       "{'Version': [HeaderItem(mnemonic=VERS, unit=, value=2.0, descr=CWLS Log ASCII Standard-VE...),\n",
       "  HeaderItem(mnemonic=WRAP, unit=, value=NO, descr=One line per depth step)],\n",
       " 'Well': [HeaderItem(mnemonic=STRT, unit=M, value=102.1568, descr=Top Depth),\n",
       "  HeaderItem(mnemonic=STOP, unit=M, value=4636.514, descr=Bottom Depth),\n",
       "  HeaderItem(mnemonic=STEP, unit=M, value=0.1524, descr=Depth Increment),\n",
       "  HeaderItem(mnemonic=NULL, unit=, value=-999.25, descr=Null Value),\n",
       "  HeaderItem(mnemonic=FLD, unit=, value=Q15, descr=Field Name),\n",
       "  HeaderItem(mnemonic=WELL, unit=, value=15/9-19, descr=NAME),\n",
       "  HeaderItem(mnemonic=WBN, unit=, value=15/9-19 SR, descr=WELLBORE),\n",
       "  HeaderItem(mnemonic=NATI, unit=, value=NOR, descr=COUNTRY),\n",
       "  HeaderItem(mnemonic=CTRY, unit=, value=NOR, descr=COUNTRY),\n",
       "  HeaderItem(mnemonic=COMP, unit=, value=STATOIL, descr=OPERATOR),\n",
       "  HeaderItem(mnemonic=PDAT, unit=, value=MSL, descr=PERM DATUM),\n",
       "  HeaderItem(mnemonic=COUN, unit=, value=NORTH SEA, descr=RIG NAME),\n",
       "  HeaderItem(mnemonic=STAT, unit=, value=NORWAY, descr=STATE),\n",
       "  HeaderItem(mnemonic=PBWE, unit=, value=15/9-19, descr=PB WELL ID),\n",
       "  HeaderItem(mnemonic=APIN, unit=, value=15/9-19 SR, descr=PB WELLBORE ID),\n",
       "  HeaderItem(mnemonic=PBWS, unit=, value=ALL, descr=PB WELL NAME SET)],\n",
       " 'Curves': [CurveItem(mnemonic=DEPT, unit=M, value=00 001 00 00, descr=1  DEPTH, original_mnemonic=DEPT, data.shape=(29754,)),\n",
       "  CurveItem(mnemonic=AC, unit=US/F, value=, descr=2  Sonic Transit Time (Slowness), original_mnemonic=AC, data.shape=(29754,)),\n",
       "  CurveItem(mnemonic=CALI, unit=IN, value=, descr=3  Caliper, original_mnemonic=CALI, data.shape=(29754,)),\n",
       "  CurveItem(mnemonic=DEN, unit=G/CC, value=, descr=4  Bulk Density, original_mnemonic=DEN, data.shape=(29754,)),\n",
       "  CurveItem(mnemonic=GR, unit=GAPI, value=, descr=5  Gamma Ray, original_mnemonic=GR, data.shape=(29754,)),\n",
       "  CurveItem(mnemonic=NEU, unit=%, value=, descr=6  Neutron Porosity, original_mnemonic=NEU, data.shape=(29754,)),\n",
       "  CurveItem(mnemonic=RDEP, unit=OHMM, value=, descr=7  Deep Resistivity, original_mnemonic=RDEP, data.shape=(29754,)),\n",
       "  CurveItem(mnemonic=RMED, unit=OHMM, value=, descr=8  Medium Resistivity, original_mnemonic=RMED, data.shape=(29754,))],\n",
       " 'Parameter': [HeaderItem(mnemonic=LNAM, unit=, value=COMPOSITE, descr=NAME),\n",
       "  HeaderItem(mnemonic=LTYP, unit=, value=PAP.CMP, descr=LOG TYPE),\n",
       "  HeaderItem(mnemonic=LSRV, unit=, value=WL.LOG, descr=LOG SERVICE),\n",
       "  HeaderItem(mnemonic=LSOU, unit=, value=STATOIL, descr=LOG SOURCE),\n",
       "  HeaderItem(mnemonic=LVSN, unit=, value=1, descr=LOG VERSION),\n",
       "  HeaderItem(mnemonic=BHIS, unit=, value=R, descr=BRIEF HISTORY),\n",
       "  HeaderItem(mnemonic=R1, unit=, value=LIS DECODE EDITED AND SPLICED DATA., de...),\n",
       "  HeaderItem(mnemonic=R2, unit=, value=LIS DECODE INCLUDING HYBRID CURVES., de...),\n",
       "  HeaderItem(mnemonic=ELZ, unit=, value=0.0, descr=ELEVATION LOG ZERO),\n",
       "  HeaderItem(mnemonic=FHIS, unit=, value=RAW-LIS, descr=FULL HISTORY),\n",
       "  HeaderItem(mnemonic=QCRM, unit=, value=Waiting for Statoil confirmation, des...),\n",
       "  HeaderItem(mnemonic=QCCD, unit=, value=unknown, descr=QC LEVEL),\n",
       "  HeaderItem(mnemonic=QCCO, unit=, value=UNKNOWN, descr=QC COMPANY),\n",
       "  HeaderItem(mnemonic=QCST, unit=, value=NOT CHECKED, descr=QC STATUS)],\n",
       " 'Other': ''}"
      ]
     },
     "execution_count": 4,
     "metadata": {},
     "output_type": "execute_result"
    }
   ],
   "source": [
    "las.header # Shows all header information\n",
    "# Can access version, well, params independently"
   ]
  },
  {
   "cell_type": "code",
   "execution_count": 108,
   "metadata": {},
   "outputs": [
    {
     "name": "stdout",
     "output_type": "stream",
     "text": [
      "('Version', <class 'lasio.las_items.SectionItems'>)\n",
      "('Well', <class 'lasio.las_items.SectionItems'>)\n",
      "('Curves', <class 'lasio.las_items.SectionItems'>)\n",
      "('Parameter', <class 'lasio.las_items.SectionItems'>)\n",
      "('Other', <class 'str'>)\n"
     ]
    }
   ],
   "source": [
    "# all sections are in the dictionary las.sections\n",
    "\n",
    "for name, section in las.sections.items():\n",
    "    print((name, type(section)))"
   ]
  },
  {
   "cell_type": "code",
   "execution_count": 5,
   "metadata": {},
   "outputs": [
    {
     "data": {
      "text/plain": [
       "[HeaderItem(mnemonic=VERS, unit=, value=2.0, descr=CWLS Log ASCII Standard-VE...),\n",
       " HeaderItem(mnemonic=WRAP, unit=, value=NO, descr=One line per depth step)]"
      ]
     },
     "execution_count": 5,
     "metadata": {},
     "output_type": "execute_result"
    }
   ],
   "source": [
    "# ~VERSION INFORMATION\n",
    "# Header information is parsed into simple HeaderItem objects, \n",
    "# and stored in a dictionary for each section of the header\n",
    "\n",
    "las.version"
   ]
  },
  {
   "cell_type": "code",
   "execution_count": 6,
   "metadata": {},
   "outputs": [
    {
     "data": {
      "text/plain": [
       "[HeaderItem(mnemonic=STRT, unit=M, value=102.1568, descr=Top Depth),\n",
       " HeaderItem(mnemonic=STOP, unit=M, value=4636.514, descr=Bottom Depth),\n",
       " HeaderItem(mnemonic=STEP, unit=M, value=0.1524, descr=Depth Increment),\n",
       " HeaderItem(mnemonic=NULL, unit=, value=-999.25, descr=Null Value),\n",
       " HeaderItem(mnemonic=FLD, unit=, value=Q15, descr=Field Name),\n",
       " HeaderItem(mnemonic=WELL, unit=, value=15/9-19, descr=NAME),\n",
       " HeaderItem(mnemonic=WBN, unit=, value=15/9-19 SR, descr=WELLBORE),\n",
       " HeaderItem(mnemonic=NATI, unit=, value=NOR, descr=COUNTRY),\n",
       " HeaderItem(mnemonic=CTRY, unit=, value=NOR, descr=COUNTRY),\n",
       " HeaderItem(mnemonic=COMP, unit=, value=STATOIL, descr=OPERATOR),\n",
       " HeaderItem(mnemonic=PDAT, unit=, value=MSL, descr=PERM DATUM),\n",
       " HeaderItem(mnemonic=COUN, unit=, value=NORTH SEA, descr=RIG NAME),\n",
       " HeaderItem(mnemonic=STAT, unit=, value=NORWAY, descr=STATE),\n",
       " HeaderItem(mnemonic=PBWE, unit=, value=15/9-19, descr=PB WELL ID),\n",
       " HeaderItem(mnemonic=APIN, unit=, value=15/9-19 SR, descr=PB WELLBORE ID),\n",
       " HeaderItem(mnemonic=PBWS, unit=, value=ALL, descr=PB WELL NAME SET)]"
      ]
     },
     "execution_count": 6,
     "metadata": {},
     "output_type": "execute_result"
    }
   ],
   "source": [
    "# ~Well Information Block\n",
    "\n",
    "las.well"
   ]
  },
  {
   "cell_type": "code",
   "execution_count": 7,
   "metadata": {},
   "outputs": [
    {
     "data": {
      "text/plain": [
       "[HeaderItem(mnemonic=LNAM, unit=, value=COMPOSITE, descr=NAME),\n",
       " HeaderItem(mnemonic=LTYP, unit=, value=PAP.CMP, descr=LOG TYPE),\n",
       " HeaderItem(mnemonic=LSRV, unit=, value=WL.LOG, descr=LOG SERVICE),\n",
       " HeaderItem(mnemonic=LSOU, unit=, value=STATOIL, descr=LOG SOURCE),\n",
       " HeaderItem(mnemonic=LVSN, unit=, value=1, descr=LOG VERSION),\n",
       " HeaderItem(mnemonic=BHIS, unit=, value=R, descr=BRIEF HISTORY),\n",
       " HeaderItem(mnemonic=R1, unit=, value=LIS DECODE EDITED AND SPLICED DATA., de...),\n",
       " HeaderItem(mnemonic=R2, unit=, value=LIS DECODE INCLUDING HYBRID CURVES., de...),\n",
       " HeaderItem(mnemonic=ELZ, unit=, value=0.0, descr=ELEVATION LOG ZERO),\n",
       " HeaderItem(mnemonic=FHIS, unit=, value=RAW-LIS, descr=FULL HISTORY),\n",
       " HeaderItem(mnemonic=QCRM, unit=, value=Waiting for Statoil confirmation, des...),\n",
       " HeaderItem(mnemonic=QCCD, unit=, value=unknown, descr=QC LEVEL),\n",
       " HeaderItem(mnemonic=QCCO, unit=, value=UNKNOWN, descr=QC COMPANY),\n",
       " HeaderItem(mnemonic=QCST, unit=, value=NOT CHECKED, descr=QC STATUS)]"
      ]
     },
     "execution_count": 7,
     "metadata": {},
     "output_type": "execute_result"
    }
   ],
   "source": [
    "# ~PARAMETER INFORMATION (log)\n",
    "\n",
    "las.params"
   ]
  },
  {
   "cell_type": "code",
   "execution_count": 9,
   "metadata": {},
   "outputs": [
    {
     "data": {
      "text/plain": [
       "numpy.ndarray"
      ]
     },
     "execution_count": 9,
     "metadata": {},
     "output_type": "execute_result"
    }
   ],
   "source": [
    "type(las.data)"
   ]
  },
  {
   "cell_type": "code",
   "execution_count": 10,
   "metadata": {},
   "outputs": [
    {
     "data": {
      "text/plain": [
       "(29754, 8)"
      ]
     },
     "execution_count": 10,
     "metadata": {},
     "output_type": "execute_result"
    }
   ],
   "source": [
    "las.data.shape"
   ]
  },
  {
   "cell_type": "code",
   "execution_count": 11,
   "metadata": {},
   "outputs": [
    {
     "data": {
      "text/plain": [
       "array([[1.0215680e+02,           nan,           nan, ...,           nan,\n",
       "                  nan,           nan],\n",
       "       [1.0230920e+02,           nan,           nan, ...,           nan,\n",
       "                  nan,           nan],\n",
       "       [1.0246160e+02,           nan,           nan, ...,           nan,\n",
       "                  nan,           nan],\n",
       "       ...,\n",
       "       [4.6362092e+03,           nan,           nan, ...,           nan,\n",
       "        8.7410000e-01, 6.8880000e-01],\n",
       "       [4.6363616e+03,           nan,           nan, ...,           nan,\n",
       "        9.0020000e-01, 8.9020000e-01],\n",
       "       [4.6365140e+03,           nan,           nan, ...,           nan,\n",
       "        9.1330000e-01, 1.0363000e+00]])"
      ]
     },
     "execution_count": 11,
     "metadata": {},
     "output_type": "execute_result"
    }
   ],
   "source": [
    "# data is stored as a 2D numpy array\n",
    "\n",
    "las.data"
   ]
  },
  {
   "cell_type": "code",
   "execution_count": 12,
   "metadata": {},
   "outputs": [
    {
     "data": {
      "text/plain": [
       "['DEPT', 'AC', 'CALI', 'DEN', 'GR', 'NEU', 'RDEP', 'RMED']"
      ]
     },
     "execution_count": 12,
     "metadata": {},
     "output_type": "execute_result"
    }
   ],
   "source": [
    "las.keys()"
   ]
  },
  {
   "cell_type": "code",
   "execution_count": 13,
   "metadata": {},
   "outputs": [
    {
     "data": {
      "text/plain": [
       "[array([ 102.1568,  102.3092,  102.4616, ..., 4636.2092, 4636.3616,\n",
       "        4636.514 ]),\n",
       " array([nan, nan, nan, ..., nan, nan, nan]),\n",
       " array([nan, nan, nan, ..., nan, nan, nan]),\n",
       " array([nan, nan, nan, ..., nan, nan, nan]),\n",
       " array([5.3274, 5.8235, 6.5228, ...,    nan,    nan,    nan]),\n",
       " array([nan, nan, nan, ..., nan, nan, nan]),\n",
       " array([   nan,    nan,    nan, ..., 0.8741, 0.9002, 0.9133]),\n",
       " array([   nan,    nan,    nan, ..., 0.6888, 0.8902, 1.0363])]"
      ]
     },
     "execution_count": 13,
     "metadata": {},
     "output_type": "execute_result"
    }
   ],
   "source": [
    "las.values()"
   ]
  },
  {
   "cell_type": "code",
   "execution_count": 14,
   "metadata": {},
   "outputs": [
    {
     "data": {
      "text/plain": [
       "array([ 102.1568,  102.3092,  102.4616, ..., 4636.2092, 4636.3616,\n",
       "       4636.514 ])"
      ]
     },
     "execution_count": 14,
     "metadata": {},
     "output_type": "execute_result"
    }
   ],
   "source": [
    "# Data accessible directly as numpy 1D arrays\n",
    "\n",
    "las['DEPT']"
   ]
  },
  {
   "cell_type": "code",
   "execution_count": 102,
   "metadata": {},
   "outputs": [
    {
     "data": {
      "text/plain": [
       "numpy.ndarray"
      ]
     },
     "execution_count": 102,
     "metadata": {},
     "output_type": "execute_result"
    }
   ],
   "source": [
    "type(las.data)"
   ]
  },
  {
   "cell_type": "code",
   "execution_count": 15,
   "metadata": {},
   "outputs": [
    {
     "data": {
      "text/plain": [
       "array([5.3274, 5.8235, 6.5228, ...,    nan,    nan,    nan])"
      ]
     },
     "execution_count": 15,
     "metadata": {},
     "output_type": "execute_result"
    }
   ],
   "source": [
    "las['GR']"
   ]
  },
  {
   "cell_type": "code",
   "execution_count": 101,
   "metadata": {},
   "outputs": [
    {
     "data": {
      "text/plain": [
       "array([       nan,        nan,        nan,        nan,        nan,\n",
       "              nan,        nan,        nan, 5.97757749, 5.96273162,\n",
       "       6.0383373 , 6.89575904, 6.48659503, 6.64087797, 6.75263615,\n",
       "       6.26336529, 7.05251529, 6.87153296, 6.65314563, 6.79710236,\n",
       "       6.88253647, 7.37455076, 7.3696246 , 7.02327679, 7.23274013,\n",
       "       7.43706873, 7.51427471, 7.09930258, 7.74310459, 7.53759286,\n",
       "       7.78818935, 7.6481583 , 7.34166152, 8.07729336, 7.54307581,\n",
       "       7.82972994, 7.35604233, 7.79416484, 8.0693743 , 8.19112249,\n",
       "       7.75021422, 7.74900853, 7.50174253, 8.49143824, 7.7888496 ,\n",
       "       8.3307818 , 7.91305643, 8.00125907, 7.81756408, 7.86493443,\n",
       "       8.72022665, 8.51681806, 8.46399343, 8.09878892, 8.35435422,\n",
       "       8.85741593, 8.41650589, 8.27553804, 8.2085931 , 8.46904057,\n",
       "       8.76378699, 8.41074211, 8.71837912, 8.56804223, 9.06224428,\n",
       "       8.9518902 , 8.47693857, 8.59308935, 8.85147451, 8.8673034 ,\n",
       "       9.11225354, 9.10789365, 8.5896439 , 8.55690877, 9.32177367,\n",
       "       9.35040059, 8.5943398 , 8.46413444, 8.68201655, 8.95293151])"
      ]
     },
     "execution_count": 101,
     "metadata": {},
     "output_type": "execute_result"
    }
   ],
   "source": [
    "las[1]"
   ]
  },
  {
   "cell_type": "code",
   "execution_count": 16,
   "metadata": {},
   "outputs": [
    {
     "name": "stdout",
     "output_type": "stream",
     "text": [
      "CurveItem(mnemonic=DEPT, unit=M, value=00 001 00 00, descr=1  DEPTH, original_mnemonic=DEPT, data.shape=(29754,))\n",
      "CurveItem(mnemonic=AC, unit=US/F, value=, descr=2  Sonic Transit Time (Slowness), original_mnemonic=AC, data.shape=(29754,))\n"
     ]
    }
   ],
   "source": [
    "# CurveItem objects with associated metadata\n",
    "\n",
    "print(las.curves[0])\n",
    "print(las.curves[1])"
   ]
  },
  {
   "cell_type": "code",
   "execution_count": 17,
   "metadata": {},
   "outputs": [
    {
     "name": "stdout",
     "output_type": "stream",
     "text": [
      "DEPT\n",
      "M\n",
      "[ 102.1568  102.3092  102.4616 ... 4636.2092 4636.3616 4636.514 ]\n",
      "\n",
      "\n",
      "AC\n",
      "US/F\n",
      "[nan nan nan ... nan nan nan]\n",
      "\n",
      "\n",
      "CALI\n",
      "IN\n",
      "[nan nan nan ... nan nan nan]\n",
      "\n",
      "\n",
      "DEN\n",
      "G/CC\n",
      "[nan nan nan ... nan nan nan]\n",
      "\n",
      "\n",
      "GR\n",
      "GAPI\n",
      "[5.3274 5.8235 6.5228 ...    nan    nan    nan]\n",
      "\n",
      "\n",
      "NEU\n",
      "%\n",
      "[nan nan nan ... nan nan nan]\n",
      "\n",
      "\n",
      "RDEP\n",
      "OHMM\n",
      "[   nan    nan    nan ... 0.8741 0.9002 0.9133]\n",
      "\n",
      "\n",
      "RMED\n",
      "OHMM\n",
      "[   nan    nan    nan ... 0.6888 0.8902 1.0363]\n",
      "\n",
      "\n"
     ]
    }
   ],
   "source": [
    "for curve in las.curves:\n",
    "    print(curve.mnemonic)\n",
    "    print(curve.unit)\n",
    "    print(curve.data)\n",
    "    print(\"\\n\")"
   ]
  },
  {
   "cell_type": "code",
   "execution_count": 18,
   "metadata": {},
   "outputs": [
    {
     "data": {
      "text/plain": [
       "[<matplotlib.lines.Line2D at 0x1a9fbde1948>]"
      ]
     },
     "execution_count": 18,
     "metadata": {},
     "output_type": "execute_result"
    },
    {
     "data": {
      "image/png": "[encoded data removed]",
      "text/plain": [
       "<Figure size 432x288 with 1 Axes>"
      ]
     },
     "metadata": {
      "needs_background": "light"
     },
     "output_type": "display_data"
    }
   ],
   "source": [
    "plt.plot(las.index, las['GR'])"
   ]
  },
  {
   "cell_type": "code",
   "execution_count": null,
   "metadata": {},
   "outputs": [],
   "source": []
  },
  {
   "cell_type": "markdown",
   "metadata": {},
   "source": [
    "### Integration with pandas.DataFrame\n",
    "\n",
    "`lasio.LASFile.df()` method converts LAS data to pandas.DataFrame\n",
    "\n",
    "Changes made to the DataFrame can be brought back into the LASFile object with\n",
    "`lasio.LASFile.set_data()`"
   ]
  },
  {
   "cell_type": "code",
   "execution_count": 19,
   "metadata": {},
   "outputs": [],
   "source": [
    "df = las.df()"
   ]
  },
  {
   "cell_type": "code",
   "execution_count": 20,
   "metadata": {},
   "outputs": [
    {
     "data": {
      "text/html": [
       "<div>\n",
       "<style scoped>\n",
       "    .dataframe tbody tr th:only-of-type {\n",
       "        vertical-align: middle;\n",
       "    }\n",
       "\n",
       "    .dataframe tbody tr th {\n",
       "        vertical-align: top;\n",
       "    }\n",
       "\n",
       "    .dataframe thead th {\n",
       "        text-align: right;\n",
       "    }\n",
       "</style>\n",
       "<table border=\"1\" class=\"dataframe\">\n",
       "  <thead>\n",
       "    <tr style=\"text-align: right;\">\n",
       "      <th></th>\n",
       "      <th>AC</th>\n",
       "      <th>CALI</th>\n",
       "      <th>DEN</th>\n",
       "      <th>GR</th>\n",
       "      <th>NEU</th>\n",
       "      <th>RDEP</th>\n",
       "      <th>RMED</th>\n",
       "    </tr>\n",
       "    <tr>\n",
       "      <th>DEPT</th>\n",
       "      <th></th>\n",
       "      <th></th>\n",
       "      <th></th>\n",
       "      <th></th>\n",
       "      <th></th>\n",
       "      <th></th>\n",
       "      <th></th>\n",
       "    </tr>\n",
       "  </thead>\n",
       "  <tbody>\n",
       "    <tr>\n",
       "      <th>102.1568</th>\n",
       "      <td>NaN</td>\n",
       "      <td>NaN</td>\n",
       "      <td>NaN</td>\n",
       "      <td>5.3274</td>\n",
       "      <td>NaN</td>\n",
       "      <td>NaN</td>\n",
       "      <td>NaN</td>\n",
       "    </tr>\n",
       "    <tr>\n",
       "      <th>102.3092</th>\n",
       "      <td>NaN</td>\n",
       "      <td>NaN</td>\n",
       "      <td>NaN</td>\n",
       "      <td>5.8235</td>\n",
       "      <td>NaN</td>\n",
       "      <td>NaN</td>\n",
       "      <td>NaN</td>\n",
       "    </tr>\n",
       "    <tr>\n",
       "      <th>102.4616</th>\n",
       "      <td>NaN</td>\n",
       "      <td>NaN</td>\n",
       "      <td>NaN</td>\n",
       "      <td>6.5228</td>\n",
       "      <td>NaN</td>\n",
       "      <td>NaN</td>\n",
       "      <td>NaN</td>\n",
       "    </tr>\n",
       "    <tr>\n",
       "      <th>102.6140</th>\n",
       "      <td>NaN</td>\n",
       "      <td>NaN</td>\n",
       "      <td>NaN</td>\n",
       "      <td>7.2285</td>\n",
       "      <td>NaN</td>\n",
       "      <td>NaN</td>\n",
       "      <td>NaN</td>\n",
       "    </tr>\n",
       "    <tr>\n",
       "      <th>102.7664</th>\n",
       "      <td>NaN</td>\n",
       "      <td>NaN</td>\n",
       "      <td>NaN</td>\n",
       "      <td>9.5020</td>\n",
       "      <td>NaN</td>\n",
       "      <td>NaN</td>\n",
       "      <td>NaN</td>\n",
       "    </tr>\n",
       "  </tbody>\n",
       "</table>\n",
       "</div>"
      ],
      "text/plain": [
       "          AC  CALI  DEN      GR  NEU  RDEP  RMED\n",
       "DEPT                                            \n",
       "102.1568 NaN   NaN  NaN  5.3274  NaN   NaN   NaN\n",
       "102.3092 NaN   NaN  NaN  5.8235  NaN   NaN   NaN\n",
       "102.4616 NaN   NaN  NaN  6.5228  NaN   NaN   NaN\n",
       "102.6140 NaN   NaN  NaN  7.2285  NaN   NaN   NaN\n",
       "102.7664 NaN   NaN  NaN  9.5020  NaN   NaN   NaN"
      ]
     },
     "execution_count": 20,
     "metadata": {},
     "output_type": "execute_result"
    }
   ],
   "source": [
    "df.head()"
   ]
  },
  {
   "cell_type": "code",
   "execution_count": 21,
   "metadata": {},
   "outputs": [
    {
     "data": {
      "text/html": [
       "<div>\n",
       "<style scoped>\n",
       "    .dataframe tbody tr th:only-of-type {\n",
       "        vertical-align: middle;\n",
       "    }\n",
       "\n",
       "    .dataframe tbody tr th {\n",
       "        vertical-align: top;\n",
       "    }\n",
       "\n",
       "    .dataframe thead th {\n",
       "        text-align: right;\n",
       "    }\n",
       "</style>\n",
       "<table border=\"1\" class=\"dataframe\">\n",
       "  <thead>\n",
       "    <tr style=\"text-align: right;\">\n",
       "      <th></th>\n",
       "      <th>AC</th>\n",
       "      <th>CALI</th>\n",
       "      <th>DEN</th>\n",
       "      <th>GR</th>\n",
       "      <th>NEU</th>\n",
       "      <th>RDEP</th>\n",
       "      <th>RMED</th>\n",
       "    </tr>\n",
       "    <tr>\n",
       "      <th>DEPT</th>\n",
       "      <th></th>\n",
       "      <th></th>\n",
       "      <th></th>\n",
       "      <th></th>\n",
       "      <th></th>\n",
       "      <th></th>\n",
       "      <th></th>\n",
       "    </tr>\n",
       "  </thead>\n",
       "  <tbody>\n",
       "    <tr>\n",
       "      <th>4635.9044</th>\n",
       "      <td>NaN</td>\n",
       "      <td>NaN</td>\n",
       "      <td>NaN</td>\n",
       "      <td>NaN</td>\n",
       "      <td>NaN</td>\n",
       "      <td>0.7729</td>\n",
       "      <td>0.5978</td>\n",
       "    </tr>\n",
       "    <tr>\n",
       "      <th>4636.0568</th>\n",
       "      <td>NaN</td>\n",
       "      <td>NaN</td>\n",
       "      <td>NaN</td>\n",
       "      <td>NaN</td>\n",
       "      <td>NaN</td>\n",
       "      <td>0.8369</td>\n",
       "      <td>0.6257</td>\n",
       "    </tr>\n",
       "    <tr>\n",
       "      <th>4636.2092</th>\n",
       "      <td>NaN</td>\n",
       "      <td>NaN</td>\n",
       "      <td>NaN</td>\n",
       "      <td>NaN</td>\n",
       "      <td>NaN</td>\n",
       "      <td>0.8741</td>\n",
       "      <td>0.6888</td>\n",
       "    </tr>\n",
       "    <tr>\n",
       "      <th>4636.3616</th>\n",
       "      <td>NaN</td>\n",
       "      <td>NaN</td>\n",
       "      <td>NaN</td>\n",
       "      <td>NaN</td>\n",
       "      <td>NaN</td>\n",
       "      <td>0.9002</td>\n",
       "      <td>0.8902</td>\n",
       "    </tr>\n",
       "    <tr>\n",
       "      <th>4636.5140</th>\n",
       "      <td>NaN</td>\n",
       "      <td>NaN</td>\n",
       "      <td>NaN</td>\n",
       "      <td>NaN</td>\n",
       "      <td>NaN</td>\n",
       "      <td>0.9133</td>\n",
       "      <td>1.0363</td>\n",
       "    </tr>\n",
       "  </tbody>\n",
       "</table>\n",
       "</div>"
      ],
      "text/plain": [
       "           AC  CALI  DEN  GR  NEU    RDEP    RMED\n",
       "DEPT                                             \n",
       "4635.9044 NaN   NaN  NaN NaN  NaN  0.7729  0.5978\n",
       "4636.0568 NaN   NaN  NaN NaN  NaN  0.8369  0.6257\n",
       "4636.2092 NaN   NaN  NaN NaN  NaN  0.8741  0.6888\n",
       "4636.3616 NaN   NaN  NaN NaN  NaN  0.9002  0.8902\n",
       "4636.5140 NaN   NaN  NaN NaN  NaN  0.9133  1.0363"
      ]
     },
     "execution_count": 21,
     "metadata": {},
     "output_type": "execute_result"
    }
   ],
   "source": [
    "df.tail()"
   ]
  },
  {
   "cell_type": "code",
   "execution_count": 22,
   "metadata": {},
   "outputs": [
    {
     "data": {
      "text/plain": [
       "['AC', 'CALI', 'DEN', 'GR', 'NEU', 'RDEP', 'RMED']"
      ]
     },
     "execution_count": 22,
     "metadata": {},
     "output_type": "execute_result"
    }
   ],
   "source": [
    "df.columns.to_list()"
   ]
  },
  {
   "cell_type": "code",
   "execution_count": 23,
   "metadata": {},
   "outputs": [
    {
     "data": {
      "text/html": [
       "<div>\n",
       "<style scoped>\n",
       "    .dataframe tbody tr th:only-of-type {\n",
       "        vertical-align: middle;\n",
       "    }\n",
       "\n",
       "    .dataframe tbody tr th {\n",
       "        vertical-align: top;\n",
       "    }\n",
       "\n",
       "    .dataframe thead th {\n",
       "        text-align: right;\n",
       "    }\n",
       "</style>\n",
       "<table border=\"1\" class=\"dataframe\">\n",
       "  <thead>\n",
       "    <tr style=\"text-align: right;\">\n",
       "      <th></th>\n",
       "      <th>AC</th>\n",
       "      <th>CALI</th>\n",
       "      <th>DEN</th>\n",
       "      <th>GR</th>\n",
       "      <th>NEU</th>\n",
       "      <th>RDEP</th>\n",
       "      <th>RMED</th>\n",
       "    </tr>\n",
       "  </thead>\n",
       "  <tbody>\n",
       "    <tr>\n",
       "      <th>count</th>\n",
       "      <td>7007.000000</td>\n",
       "      <td>7007.000000</td>\n",
       "      <td>7084.000000</td>\n",
       "      <td>28117.000000</td>\n",
       "      <td>7096.000000</td>\n",
       "      <td>12223.000000</td>\n",
       "      <td>12223.000000</td>\n",
       "    </tr>\n",
       "    <tr>\n",
       "      <th>mean</th>\n",
       "      <td>79.498714</td>\n",
       "      <td>9.611068</td>\n",
       "      <td>2.449055</td>\n",
       "      <td>71.986798</td>\n",
       "      <td>20.117166</td>\n",
       "      <td>2.438382</td>\n",
       "      <td>2.386781</td>\n",
       "    </tr>\n",
       "    <tr>\n",
       "      <th>std</th>\n",
       "      <td>18.390705</td>\n",
       "      <td>1.019751</td>\n",
       "      <td>0.165122</td>\n",
       "      <td>32.922780</td>\n",
       "      <td>14.729530</td>\n",
       "      <td>6.631202</td>\n",
       "      <td>5.735731</td>\n",
       "    </tr>\n",
       "    <tr>\n",
       "      <th>min</th>\n",
       "      <td>1.025100</td>\n",
       "      <td>6.000000</td>\n",
       "      <td>1.943000</td>\n",
       "      <td>2.766100</td>\n",
       "      <td>2.178300</td>\n",
       "      <td>0.250300</td>\n",
       "      <td>0.179000</td>\n",
       "    </tr>\n",
       "    <tr>\n",
       "      <th>25%</th>\n",
       "      <td>66.154350</td>\n",
       "      <td>9.142900</td>\n",
       "      <td>2.319975</td>\n",
       "      <td>50.255200</td>\n",
       "      <td>10.631350</td>\n",
       "      <td>0.988000</td>\n",
       "      <td>0.847850</td>\n",
       "    </tr>\n",
       "    <tr>\n",
       "      <th>50%</th>\n",
       "      <td>74.661900</td>\n",
       "      <td>9.589400</td>\n",
       "      <td>2.505600</td>\n",
       "      <td>74.998500</td>\n",
       "      <td>15.718550</td>\n",
       "      <td>1.536100</td>\n",
       "      <td>1.490800</td>\n",
       "    </tr>\n",
       "    <tr>\n",
       "      <th>75%</th>\n",
       "      <td>93.304550</td>\n",
       "      <td>9.904800</td>\n",
       "      <td>2.585125</td>\n",
       "      <td>92.343800</td>\n",
       "      <td>25.067375</td>\n",
       "      <td>2.434050</td>\n",
       "      <td>2.415400</td>\n",
       "    </tr>\n",
       "    <tr>\n",
       "      <th>max</th>\n",
       "      <td>181.813900</td>\n",
       "      <td>20.330400</td>\n",
       "      <td>3.001300</td>\n",
       "      <td>304.333700</td>\n",
       "      <td>146.347400</td>\n",
       "      <td>198.537100</td>\n",
       "      <td>168.604400</td>\n",
       "    </tr>\n",
       "  </tbody>\n",
       "</table>\n",
       "</div>"
      ],
      "text/plain": [
       "                AC         CALI          DEN            GR          NEU  \\\n",
       "count  7007.000000  7007.000000  7084.000000  28117.000000  7096.000000   \n",
       "mean     79.498714     9.611068     2.449055     71.986798    20.117166   \n",
       "std      18.390705     1.019751     0.165122     32.922780    14.729530   \n",
       "min       1.025100     6.000000     1.943000      2.766100     2.178300   \n",
       "25%      66.154350     9.142900     2.319975     50.255200    10.631350   \n",
       "50%      74.661900     9.589400     2.505600     74.998500    15.718550   \n",
       "75%      93.304550     9.904800     2.585125     92.343800    25.067375   \n",
       "max     181.813900    20.330400     3.001300    304.333700   146.347400   \n",
       "\n",
       "               RDEP          RMED  \n",
       "count  12223.000000  12223.000000  \n",
       "mean       2.438382      2.386781  \n",
       "std        6.631202      5.735731  \n",
       "min        0.250300      0.179000  \n",
       "25%        0.988000      0.847850  \n",
       "50%        1.536100      1.490800  \n",
       "75%        2.434050      2.415400  \n",
       "max      198.537100    168.604400  "
      ]
     },
     "execution_count": 23,
     "metadata": {},
     "output_type": "execute_result"
    }
   ],
   "source": [
    "df.describe()"
   ]
  },
  {
   "cell_type": "code",
   "execution_count": 24,
   "metadata": {},
   "outputs": [],
   "source": [
    "# Example of changing a value (max value on DEN log)\n",
    "df['DEN'][df['DEN'] == 3.001300] = 3.000000"
   ]
  },
  {
   "cell_type": "code",
   "execution_count": 25,
   "metadata": {},
   "outputs": [
    {
     "data": {
      "text/plain": [
       "count    7084.000000\n",
       "mean        2.449055\n",
       "std         0.165121\n",
       "min         1.943000\n",
       "25%         2.319975\n",
       "50%         2.505600\n",
       "75%         2.585125\n",
       "max         3.000000\n",
       "Name: DEN, dtype: float64"
      ]
     },
     "execution_count": 25,
     "metadata": {},
     "output_type": "execute_result"
    }
   ],
   "source": [
    "df.describe()['DEN']"
   ]
  },
  {
   "cell_type": "code",
   "execution_count": 26,
   "metadata": {},
   "outputs": [],
   "source": [
    "# Create new log with moving average of GR log over 1m\n",
    "# Use pandas.Series.rolling() and LAS file's STEP value\n",
    "\n",
    "df['GR_avg'] = df['GR'].rolling(int(1 / las.well.STEP.value), center=True).mean()"
   ]
  },
  {
   "cell_type": "code",
   "execution_count": 27,
   "metadata": {},
   "outputs": [
    {
     "data": {
      "text/plain": [
       "HeaderItem(mnemonic=STEP, unit=M, value=0.1524, descr=Depth Increment)"
      ]
     },
     "execution_count": 27,
     "metadata": {},
     "output_type": "execute_result"
    }
   ],
   "source": [
    "# Access STEP value in LAS with \n",
    "las.well['STEP']"
   ]
  },
  {
   "cell_type": "code",
   "execution_count": 103,
   "metadata": {},
   "outputs": [],
   "source": [
    "df['MD_ft'] = df.index / 0.3048\n",
    "\n",
    "# Or to convert depth index to ft\n",
    "# df.index = df.index / 0.3048"
   ]
  },
  {
   "cell_type": "code",
   "execution_count": 104,
   "metadata": {},
   "outputs": [
    {
     "data": {
      "text/html": [
       "<div>\n",
       "<style scoped>\n",
       "    .dataframe tbody tr th:only-of-type {\n",
       "        vertical-align: middle;\n",
       "    }\n",
       "\n",
       "    .dataframe tbody tr th {\n",
       "        vertical-align: top;\n",
       "    }\n",
       "\n",
       "    .dataframe thead th {\n",
       "        text-align: right;\n",
       "    }\n",
       "</style>\n",
       "<table border=\"1\" class=\"dataframe\">\n",
       "  <thead>\n",
       "    <tr style=\"text-align: right;\">\n",
       "      <th></th>\n",
       "      <th>AC</th>\n",
       "      <th>CALI</th>\n",
       "      <th>DEN</th>\n",
       "      <th>GR</th>\n",
       "      <th>NEU</th>\n",
       "      <th>RDEP</th>\n",
       "      <th>RMED</th>\n",
       "      <th>GR_avg</th>\n",
       "      <th>MD</th>\n",
       "      <th>MD_ft</th>\n",
       "    </tr>\n",
       "    <tr>\n",
       "      <th>DEPT</th>\n",
       "      <th></th>\n",
       "      <th></th>\n",
       "      <th></th>\n",
       "      <th></th>\n",
       "      <th></th>\n",
       "      <th></th>\n",
       "      <th></th>\n",
       "      <th></th>\n",
       "      <th></th>\n",
       "      <th></th>\n",
       "    </tr>\n",
       "  </thead>\n",
       "  <tbody>\n",
       "    <tr>\n",
       "      <th>102.1568</th>\n",
       "      <td>NaN</td>\n",
       "      <td>NaN</td>\n",
       "      <td>NaN</td>\n",
       "      <td>5.3274</td>\n",
       "      <td>NaN</td>\n",
       "      <td>NaN</td>\n",
       "      <td>NaN</td>\n",
       "      <td>NaN</td>\n",
       "      <td>102.1568</td>\n",
       "      <td>335.160105</td>\n",
       "    </tr>\n",
       "    <tr>\n",
       "      <th>102.3092</th>\n",
       "      <td>NaN</td>\n",
       "      <td>NaN</td>\n",
       "      <td>NaN</td>\n",
       "      <td>5.8235</td>\n",
       "      <td>NaN</td>\n",
       "      <td>NaN</td>\n",
       "      <td>NaN</td>\n",
       "      <td>NaN</td>\n",
       "      <td>102.3092</td>\n",
       "      <td>335.660105</td>\n",
       "    </tr>\n",
       "    <tr>\n",
       "      <th>102.4616</th>\n",
       "      <td>NaN</td>\n",
       "      <td>NaN</td>\n",
       "      <td>NaN</td>\n",
       "      <td>6.5228</td>\n",
       "      <td>NaN</td>\n",
       "      <td>NaN</td>\n",
       "      <td>NaN</td>\n",
       "      <td>NaN</td>\n",
       "      <td>102.4616</td>\n",
       "      <td>336.160105</td>\n",
       "    </tr>\n",
       "    <tr>\n",
       "      <th>102.6140</th>\n",
       "      <td>NaN</td>\n",
       "      <td>NaN</td>\n",
       "      <td>NaN</td>\n",
       "      <td>7.2285</td>\n",
       "      <td>NaN</td>\n",
       "      <td>NaN</td>\n",
       "      <td>NaN</td>\n",
       "      <td>8.345633</td>\n",
       "      <td>102.6140</td>\n",
       "      <td>336.660105</td>\n",
       "    </tr>\n",
       "    <tr>\n",
       "      <th>102.7664</th>\n",
       "      <td>NaN</td>\n",
       "      <td>NaN</td>\n",
       "      <td>NaN</td>\n",
       "      <td>9.5020</td>\n",
       "      <td>NaN</td>\n",
       "      <td>NaN</td>\n",
       "      <td>NaN</td>\n",
       "      <td>10.448450</td>\n",
       "      <td>102.7664</td>\n",
       "      <td>337.160105</td>\n",
       "    </tr>\n",
       "    <tr>\n",
       "      <th>102.9188</th>\n",
       "      <td>NaN</td>\n",
       "      <td>NaN</td>\n",
       "      <td>NaN</td>\n",
       "      <td>15.6696</td>\n",
       "      <td>NaN</td>\n",
       "      <td>NaN</td>\n",
       "      <td>NaN</td>\n",
       "      <td>12.490200</td>\n",
       "      <td>102.9188</td>\n",
       "      <td>337.660105</td>\n",
       "    </tr>\n",
       "    <tr>\n",
       "      <th>103.0712</th>\n",
       "      <td>NaN</td>\n",
       "      <td>NaN</td>\n",
       "      <td>NaN</td>\n",
       "      <td>17.9443</td>\n",
       "      <td>NaN</td>\n",
       "      <td>NaN</td>\n",
       "      <td>NaN</td>\n",
       "      <td>14.437017</td>\n",
       "      <td>103.0712</td>\n",
       "      <td>338.160105</td>\n",
       "    </tr>\n",
       "    <tr>\n",
       "      <th>103.2236</th>\n",
       "      <td>NaN</td>\n",
       "      <td>NaN</td>\n",
       "      <td>NaN</td>\n",
       "      <td>18.0740</td>\n",
       "      <td>NaN</td>\n",
       "      <td>NaN</td>\n",
       "      <td>NaN</td>\n",
       "      <td>16.287833</td>\n",
       "      <td>103.2236</td>\n",
       "      <td>338.660105</td>\n",
       "    </tr>\n",
       "    <tr>\n",
       "      <th>103.3760</th>\n",
       "      <td>NaN</td>\n",
       "      <td>NaN</td>\n",
       "      <td>NaN</td>\n",
       "      <td>18.2037</td>\n",
       "      <td>NaN</td>\n",
       "      <td>NaN</td>\n",
       "      <td>NaN</td>\n",
       "      <td>17.781350</td>\n",
       "      <td>103.3760</td>\n",
       "      <td>339.160105</td>\n",
       "    </tr>\n",
       "    <tr>\n",
       "      <th>103.5284</th>\n",
       "      <td>NaN</td>\n",
       "      <td>NaN</td>\n",
       "      <td>NaN</td>\n",
       "      <td>18.3334</td>\n",
       "      <td>NaN</td>\n",
       "      <td>NaN</td>\n",
       "      <td>NaN</td>\n",
       "      <td>18.268550</td>\n",
       "      <td>103.5284</td>\n",
       "      <td>339.660105</td>\n",
       "    </tr>\n",
       "  </tbody>\n",
       "</table>\n",
       "</div>"
      ],
      "text/plain": [
       "          AC  CALI  DEN       GR  NEU  RDEP  RMED     GR_avg        MD  \\\n",
       "DEPT                                                                     \n",
       "102.1568 NaN   NaN  NaN   5.3274  NaN   NaN   NaN        NaN  102.1568   \n",
       "102.3092 NaN   NaN  NaN   5.8235  NaN   NaN   NaN        NaN  102.3092   \n",
       "102.4616 NaN   NaN  NaN   6.5228  NaN   NaN   NaN        NaN  102.4616   \n",
       "102.6140 NaN   NaN  NaN   7.2285  NaN   NaN   NaN   8.345633  102.6140   \n",
       "102.7664 NaN   NaN  NaN   9.5020  NaN   NaN   NaN  10.448450  102.7664   \n",
       "102.9188 NaN   NaN  NaN  15.6696  NaN   NaN   NaN  12.490200  102.9188   \n",
       "103.0712 NaN   NaN  NaN  17.9443  NaN   NaN   NaN  14.437017  103.0712   \n",
       "103.2236 NaN   NaN  NaN  18.0740  NaN   NaN   NaN  16.287833  103.2236   \n",
       "103.3760 NaN   NaN  NaN  18.2037  NaN   NaN   NaN  17.781350  103.3760   \n",
       "103.5284 NaN   NaN  NaN  18.3334  NaN   NaN   NaN  18.268550  103.5284   \n",
       "\n",
       "               MD_ft  \n",
       "DEPT                  \n",
       "102.1568  335.160105  \n",
       "102.3092  335.660105  \n",
       "102.4616  336.160105  \n",
       "102.6140  336.660105  \n",
       "102.7664  337.160105  \n",
       "102.9188  337.660105  \n",
       "103.0712  338.160105  \n",
       "103.2236  338.660105  \n",
       "103.3760  339.160105  \n",
       "103.5284  339.660105  "
      ]
     },
     "execution_count": 104,
     "metadata": {},
     "output_type": "execute_result"
    }
   ],
   "source": [
    "df.head(10)"
   ]
  },
  {
   "cell_type": "code",
   "execution_count": 106,
   "metadata": {},
   "outputs": [
    {
     "data": {
      "text/html": [
       "<div>\n",
       "<style scoped>\n",
       "    .dataframe tbody tr th:only-of-type {\n",
       "        vertical-align: middle;\n",
       "    }\n",
       "\n",
       "    .dataframe tbody tr th {\n",
       "        vertical-align: top;\n",
       "    }\n",
       "\n",
       "    .dataframe thead th {\n",
       "        text-align: right;\n",
       "    }\n",
       "</style>\n",
       "<table border=\"1\" class=\"dataframe\">\n",
       "  <thead>\n",
       "    <tr style=\"text-align: right;\">\n",
       "      <th></th>\n",
       "      <th>AC</th>\n",
       "      <th>CALI</th>\n",
       "      <th>DEN</th>\n",
       "      <th>GR</th>\n",
       "      <th>NEU</th>\n",
       "      <th>RDEP</th>\n",
       "      <th>RMED</th>\n",
       "      <th>GR_avg</th>\n",
       "      <th>MD</th>\n",
       "      <th>MD_ft</th>\n",
       "    </tr>\n",
       "    <tr>\n",
       "      <th>DEPT</th>\n",
       "      <th></th>\n",
       "      <th></th>\n",
       "      <th></th>\n",
       "      <th></th>\n",
       "      <th></th>\n",
       "      <th></th>\n",
       "      <th></th>\n",
       "      <th></th>\n",
       "      <th></th>\n",
       "      <th></th>\n",
       "    </tr>\n",
       "  </thead>\n",
       "  <tbody>\n",
       "    <tr>\n",
       "      <th>441.0944</th>\n",
       "      <td>NaN</td>\n",
       "      <td>NaN</td>\n",
       "      <td>NaN</td>\n",
       "      <td>73.3038</td>\n",
       "      <td>NaN</td>\n",
       "      <td>2.2401</td>\n",
       "      <td>2.0952</td>\n",
       "      <td>73.170450</td>\n",
       "      <td>441.0944</td>\n",
       "      <td>1447.160105</td>\n",
       "    </tr>\n",
       "    <tr>\n",
       "      <th>441.2468</th>\n",
       "      <td>NaN</td>\n",
       "      <td>NaN</td>\n",
       "      <td>NaN</td>\n",
       "      <td>74.4068</td>\n",
       "      <td>NaN</td>\n",
       "      <td>2.2389</td>\n",
       "      <td>2.0972</td>\n",
       "      <td>73.073300</td>\n",
       "      <td>441.2468</td>\n",
       "      <td>1447.660105</td>\n",
       "    </tr>\n",
       "    <tr>\n",
       "      <th>441.3992</th>\n",
       "      <td>NaN</td>\n",
       "      <td>NaN</td>\n",
       "      <td>NaN</td>\n",
       "      <td>73.9733</td>\n",
       "      <td>NaN</td>\n",
       "      <td>2.2496</td>\n",
       "      <td>2.1236</td>\n",
       "      <td>73.333600</td>\n",
       "      <td>441.3992</td>\n",
       "      <td>1448.160105</td>\n",
       "    </tr>\n",
       "    <tr>\n",
       "      <th>441.5516</th>\n",
       "      <td>NaN</td>\n",
       "      <td>NaN</td>\n",
       "      <td>NaN</td>\n",
       "      <td>73.0594</td>\n",
       "      <td>NaN</td>\n",
       "      <td>2.2724</td>\n",
       "      <td>2.1369</td>\n",
       "      <td>73.715367</td>\n",
       "      <td>441.5516</td>\n",
       "      <td>1448.660105</td>\n",
       "    </tr>\n",
       "    <tr>\n",
       "      <th>441.7040</th>\n",
       "      <td>NaN</td>\n",
       "      <td>NaN</td>\n",
       "      <td>NaN</td>\n",
       "      <td>73.3129</td>\n",
       "      <td>NaN</td>\n",
       "      <td>2.2563</td>\n",
       "      <td>2.1235</td>\n",
       "      <td>74.107483</td>\n",
       "      <td>441.7040</td>\n",
       "      <td>1449.160105</td>\n",
       "    </tr>\n",
       "    <tr>\n",
       "      <th>441.8564</th>\n",
       "      <td>NaN</td>\n",
       "      <td>NaN</td>\n",
       "      <td>NaN</td>\n",
       "      <td>74.2360</td>\n",
       "      <td>NaN</td>\n",
       "      <td>2.2387</td>\n",
       "      <td>2.1076</td>\n",
       "      <td>74.735867</td>\n",
       "      <td>441.8564</td>\n",
       "      <td>1449.660105</td>\n",
       "    </tr>\n",
       "  </tbody>\n",
       "</table>\n",
       "</div>"
      ],
      "text/plain": [
       "          AC  CALI  DEN       GR  NEU    RDEP    RMED     GR_avg        MD  \\\n",
       "DEPT                                                                         \n",
       "441.0944 NaN   NaN  NaN  73.3038  NaN  2.2401  2.0952  73.170450  441.0944   \n",
       "441.2468 NaN   NaN  NaN  74.4068  NaN  2.2389  2.0972  73.073300  441.2468   \n",
       "441.3992 NaN   NaN  NaN  73.9733  NaN  2.2496  2.1236  73.333600  441.3992   \n",
       "441.5516 NaN   NaN  NaN  73.0594  NaN  2.2724  2.1369  73.715367  441.5516   \n",
       "441.7040 NaN   NaN  NaN  73.3129  NaN  2.2563  2.1235  74.107483  441.7040   \n",
       "441.8564 NaN   NaN  NaN  74.2360  NaN  2.2387  2.1076  74.735867  441.8564   \n",
       "\n",
       "                MD_ft  \n",
       "DEPT                   \n",
       "441.0944  1447.160105  \n",
       "441.2468  1447.660105  \n",
       "441.3992  1448.160105  \n",
       "441.5516  1448.660105  \n",
       "441.7040  1449.160105  \n",
       "441.8564  1449.660105  "
      ]
     },
     "execution_count": 106,
     "metadata": {},
     "output_type": "execute_result"
    }
   ],
   "source": [
    "# Slice df on depth range\n",
    "\n",
    "df[441:442]"
   ]
  },
  {
   "cell_type": "code",
   "execution_count": 107,
   "metadata": {},
   "outputs": [
    {
     "data": {
      "text/html": [
       "<div>\n",
       "<style scoped>\n",
       "    .dataframe tbody tr th:only-of-type {\n",
       "        vertical-align: middle;\n",
       "    }\n",
       "\n",
       "    .dataframe tbody tr th {\n",
       "        vertical-align: top;\n",
       "    }\n",
       "\n",
       "    .dataframe thead th {\n",
       "        text-align: right;\n",
       "    }\n",
       "</style>\n",
       "<table border=\"1\" class=\"dataframe\">\n",
       "  <thead>\n",
       "    <tr style=\"text-align: right;\">\n",
       "      <th></th>\n",
       "      <th>AC</th>\n",
       "      <th>CALI</th>\n",
       "      <th>DEN</th>\n",
       "      <th>GR</th>\n",
       "      <th>NEU</th>\n",
       "      <th>RDEP</th>\n",
       "      <th>RMED</th>\n",
       "      <th>GR_avg</th>\n",
       "      <th>MD</th>\n",
       "      <th>MD_ft</th>\n",
       "    </tr>\n",
       "    <tr>\n",
       "      <th>DEPT</th>\n",
       "      <th></th>\n",
       "      <th></th>\n",
       "      <th></th>\n",
       "      <th></th>\n",
       "      <th></th>\n",
       "      <th></th>\n",
       "      <th></th>\n",
       "      <th></th>\n",
       "      <th></th>\n",
       "      <th></th>\n",
       "    </tr>\n",
       "  </thead>\n",
       "  <tbody>\n",
       "    <tr>\n",
       "      <th>4635.1424</th>\n",
       "      <td>NaN</td>\n",
       "      <td>NaN</td>\n",
       "      <td>NaN</td>\n",
       "      <td>NaN</td>\n",
       "      <td>NaN</td>\n",
       "      <td>0.6992</td>\n",
       "      <td>0.7141</td>\n",
       "      <td>NaN</td>\n",
       "      <td>4635.1424</td>\n",
       "      <td>15207.160105</td>\n",
       "    </tr>\n",
       "    <tr>\n",
       "      <th>4635.2948</th>\n",
       "      <td>NaN</td>\n",
       "      <td>NaN</td>\n",
       "      <td>NaN</td>\n",
       "      <td>NaN</td>\n",
       "      <td>NaN</td>\n",
       "      <td>0.6423</td>\n",
       "      <td>0.6117</td>\n",
       "      <td>NaN</td>\n",
       "      <td>4635.2948</td>\n",
       "      <td>15207.660105</td>\n",
       "    </tr>\n",
       "    <tr>\n",
       "      <th>4635.4472</th>\n",
       "      <td>NaN</td>\n",
       "      <td>NaN</td>\n",
       "      <td>NaN</td>\n",
       "      <td>NaN</td>\n",
       "      <td>NaN</td>\n",
       "      <td>0.5844</td>\n",
       "      <td>0.5339</td>\n",
       "      <td>NaN</td>\n",
       "      <td>4635.4472</td>\n",
       "      <td>15208.160105</td>\n",
       "    </tr>\n",
       "    <tr>\n",
       "      <th>4635.5996</th>\n",
       "      <td>NaN</td>\n",
       "      <td>NaN</td>\n",
       "      <td>NaN</td>\n",
       "      <td>NaN</td>\n",
       "      <td>NaN</td>\n",
       "      <td>0.5740</td>\n",
       "      <td>0.5197</td>\n",
       "      <td>NaN</td>\n",
       "      <td>4635.5996</td>\n",
       "      <td>15208.660105</td>\n",
       "    </tr>\n",
       "    <tr>\n",
       "      <th>4635.7520</th>\n",
       "      <td>NaN</td>\n",
       "      <td>NaN</td>\n",
       "      <td>NaN</td>\n",
       "      <td>NaN</td>\n",
       "      <td>NaN</td>\n",
       "      <td>0.6552</td>\n",
       "      <td>0.5481</td>\n",
       "      <td>NaN</td>\n",
       "      <td>4635.7520</td>\n",
       "      <td>15209.160105</td>\n",
       "    </tr>\n",
       "    <tr>\n",
       "      <th>4635.9044</th>\n",
       "      <td>NaN</td>\n",
       "      <td>NaN</td>\n",
       "      <td>NaN</td>\n",
       "      <td>NaN</td>\n",
       "      <td>NaN</td>\n",
       "      <td>0.7729</td>\n",
       "      <td>0.5978</td>\n",
       "      <td>NaN</td>\n",
       "      <td>4635.9044</td>\n",
       "      <td>15209.660105</td>\n",
       "    </tr>\n",
       "    <tr>\n",
       "      <th>4636.0568</th>\n",
       "      <td>NaN</td>\n",
       "      <td>NaN</td>\n",
       "      <td>NaN</td>\n",
       "      <td>NaN</td>\n",
       "      <td>NaN</td>\n",
       "      <td>0.8369</td>\n",
       "      <td>0.6257</td>\n",
       "      <td>NaN</td>\n",
       "      <td>4636.0568</td>\n",
       "      <td>15210.160105</td>\n",
       "    </tr>\n",
       "    <tr>\n",
       "      <th>4636.2092</th>\n",
       "      <td>NaN</td>\n",
       "      <td>NaN</td>\n",
       "      <td>NaN</td>\n",
       "      <td>NaN</td>\n",
       "      <td>NaN</td>\n",
       "      <td>0.8741</td>\n",
       "      <td>0.6888</td>\n",
       "      <td>NaN</td>\n",
       "      <td>4636.2092</td>\n",
       "      <td>15210.660105</td>\n",
       "    </tr>\n",
       "    <tr>\n",
       "      <th>4636.3616</th>\n",
       "      <td>NaN</td>\n",
       "      <td>NaN</td>\n",
       "      <td>NaN</td>\n",
       "      <td>NaN</td>\n",
       "      <td>NaN</td>\n",
       "      <td>0.9002</td>\n",
       "      <td>0.8902</td>\n",
       "      <td>NaN</td>\n",
       "      <td>4636.3616</td>\n",
       "      <td>15211.160105</td>\n",
       "    </tr>\n",
       "    <tr>\n",
       "      <th>4636.5140</th>\n",
       "      <td>NaN</td>\n",
       "      <td>NaN</td>\n",
       "      <td>NaN</td>\n",
       "      <td>NaN</td>\n",
       "      <td>NaN</td>\n",
       "      <td>0.9133</td>\n",
       "      <td>1.0363</td>\n",
       "      <td>NaN</td>\n",
       "      <td>4636.5140</td>\n",
       "      <td>15211.660105</td>\n",
       "    </tr>\n",
       "  </tbody>\n",
       "</table>\n",
       "</div>"
      ],
      "text/plain": [
       "           AC  CALI  DEN  GR  NEU    RDEP    RMED  GR_avg         MD  \\\n",
       "DEPT                                                                   \n",
       "4635.1424 NaN   NaN  NaN NaN  NaN  0.6992  0.7141     NaN  4635.1424   \n",
       "4635.2948 NaN   NaN  NaN NaN  NaN  0.6423  0.6117     NaN  4635.2948   \n",
       "4635.4472 NaN   NaN  NaN NaN  NaN  0.5844  0.5339     NaN  4635.4472   \n",
       "4635.5996 NaN   NaN  NaN NaN  NaN  0.5740  0.5197     NaN  4635.5996   \n",
       "4635.7520 NaN   NaN  NaN NaN  NaN  0.6552  0.5481     NaN  4635.7520   \n",
       "4635.9044 NaN   NaN  NaN NaN  NaN  0.7729  0.5978     NaN  4635.9044   \n",
       "4636.0568 NaN   NaN  NaN NaN  NaN  0.8369  0.6257     NaN  4636.0568   \n",
       "4636.2092 NaN   NaN  NaN NaN  NaN  0.8741  0.6888     NaN  4636.2092   \n",
       "4636.3616 NaN   NaN  NaN NaN  NaN  0.9002  0.8902     NaN  4636.3616   \n",
       "4636.5140 NaN   NaN  NaN NaN  NaN  0.9133  1.0363     NaN  4636.5140   \n",
       "\n",
       "                  MD_ft  \n",
       "DEPT                     \n",
       "4635.1424  15207.160105  \n",
       "4635.2948  15207.660105  \n",
       "4635.4472  15208.160105  \n",
       "4635.5996  15208.660105  \n",
       "4635.7520  15209.160105  \n",
       "4635.9044  15209.660105  \n",
       "4636.0568  15210.160105  \n",
       "4636.2092  15210.660105  \n",
       "4636.3616  15211.160105  \n",
       "4636.5140  15211.660105  "
      ]
     },
     "execution_count": 107,
     "metadata": {},
     "output_type": "execute_result"
    }
   ],
   "source": [
    "# Last 10 samples (or use .head(10))\n",
    "df.iloc[-10:]"
   ]
  },
  {
   "cell_type": "code",
   "execution_count": 29,
   "metadata": {},
   "outputs": [
    {
     "data": {
      "text/html": [
       "<div>\n",
       "<style scoped>\n",
       "    .dataframe tbody tr th:only-of-type {\n",
       "        vertical-align: middle;\n",
       "    }\n",
       "\n",
       "    .dataframe tbody tr th {\n",
       "        vertical-align: top;\n",
       "    }\n",
       "\n",
       "    .dataframe thead th {\n",
       "        text-align: right;\n",
       "    }\n",
       "</style>\n",
       "<table border=\"1\" class=\"dataframe\">\n",
       "  <thead>\n",
       "    <tr style=\"text-align: right;\">\n",
       "      <th></th>\n",
       "      <th>AC</th>\n",
       "      <th>CALI</th>\n",
       "      <th>DEN</th>\n",
       "      <th>GR</th>\n",
       "      <th>NEU</th>\n",
       "      <th>RDEP</th>\n",
       "      <th>RMED</th>\n",
       "      <th>GR_avg</th>\n",
       "      <th>MD</th>\n",
       "    </tr>\n",
       "    <tr>\n",
       "      <th>DEPT</th>\n",
       "      <th></th>\n",
       "      <th></th>\n",
       "      <th></th>\n",
       "      <th></th>\n",
       "      <th></th>\n",
       "      <th></th>\n",
       "      <th></th>\n",
       "      <th></th>\n",
       "      <th></th>\n",
       "    </tr>\n",
       "  </thead>\n",
       "  <tbody>\n",
       "    <tr>\n",
       "      <th>102.1568</th>\n",
       "      <td>NaN</td>\n",
       "      <td>NaN</td>\n",
       "      <td>NaN</td>\n",
       "      <td>5.3274</td>\n",
       "      <td>NaN</td>\n",
       "      <td>NaN</td>\n",
       "      <td>NaN</td>\n",
       "      <td>NaN</td>\n",
       "      <td>102.1568</td>\n",
       "    </tr>\n",
       "    <tr>\n",
       "      <th>102.3092</th>\n",
       "      <td>NaN</td>\n",
       "      <td>NaN</td>\n",
       "      <td>NaN</td>\n",
       "      <td>5.8235</td>\n",
       "      <td>NaN</td>\n",
       "      <td>NaN</td>\n",
       "      <td>NaN</td>\n",
       "      <td>NaN</td>\n",
       "      <td>102.3092</td>\n",
       "    </tr>\n",
       "    <tr>\n",
       "      <th>102.4616</th>\n",
       "      <td>NaN</td>\n",
       "      <td>NaN</td>\n",
       "      <td>NaN</td>\n",
       "      <td>6.5228</td>\n",
       "      <td>NaN</td>\n",
       "      <td>NaN</td>\n",
       "      <td>NaN</td>\n",
       "      <td>NaN</td>\n",
       "      <td>102.4616</td>\n",
       "    </tr>\n",
       "    <tr>\n",
       "      <th>102.6140</th>\n",
       "      <td>NaN</td>\n",
       "      <td>NaN</td>\n",
       "      <td>NaN</td>\n",
       "      <td>7.2285</td>\n",
       "      <td>NaN</td>\n",
       "      <td>NaN</td>\n",
       "      <td>NaN</td>\n",
       "      <td>8.345633</td>\n",
       "      <td>102.6140</td>\n",
       "    </tr>\n",
       "    <tr>\n",
       "      <th>102.7664</th>\n",
       "      <td>NaN</td>\n",
       "      <td>NaN</td>\n",
       "      <td>NaN</td>\n",
       "      <td>9.5020</td>\n",
       "      <td>NaN</td>\n",
       "      <td>NaN</td>\n",
       "      <td>NaN</td>\n",
       "      <td>10.448450</td>\n",
       "      <td>102.7664</td>\n",
       "    </tr>\n",
       "  </tbody>\n",
       "</table>\n",
       "</div>"
      ],
      "text/plain": [
       "          AC  CALI  DEN      GR  NEU  RDEP  RMED     GR_avg        MD\n",
       "DEPT                                                                 \n",
       "102.1568 NaN   NaN  NaN  5.3274  NaN   NaN   NaN        NaN  102.1568\n",
       "102.3092 NaN   NaN  NaN  5.8235  NaN   NaN   NaN        NaN  102.3092\n",
       "102.4616 NaN   NaN  NaN  6.5228  NaN   NaN   NaN        NaN  102.4616\n",
       "102.6140 NaN   NaN  NaN  7.2285  NaN   NaN   NaN   8.345633  102.6140\n",
       "102.7664 NaN   NaN  NaN  9.5020  NaN   NaN   NaN  10.448450  102.7664"
      ]
     },
     "execution_count": 29,
     "metadata": {},
     "output_type": "execute_result"
    }
   ],
   "source": [
    "# Copy las.index to new 'MD' column in DataFrame\n",
    "df['MD'] = las.index\n",
    "df.head()"
   ]
  },
  {
   "cell_type": "code",
   "execution_count": 30,
   "metadata": {},
   "outputs": [],
   "source": [
    "# Apply the df back to las (LASFile object)\n",
    "las.set_data(df)"
   ]
  },
  {
   "cell_type": "code",
   "execution_count": 31,
   "metadata": {},
   "outputs": [
    {
     "data": {
      "text/plain": [
       "[CurveItem(mnemonic=DEPT, unit=M, value=00 001 00 00, descr=1  DEPTH, original_mnemonic=DEPT, data.shape=(29754,)),\n",
       " CurveItem(mnemonic=AC, unit=US/F, value=, descr=2  Sonic Transit Time (Slowness), original_mnemonic=AC, data.shape=(29754,)),\n",
       " CurveItem(mnemonic=CALI, unit=IN, value=, descr=3  Caliper, original_mnemonic=CALI, data.shape=(29754,)),\n",
       " CurveItem(mnemonic=DEN, unit=G/CC, value=, descr=4  Bulk Density, original_mnemonic=DEN, data.shape=(29754,)),\n",
       " CurveItem(mnemonic=GR, unit=GAPI, value=, descr=5  Gamma Ray, original_mnemonic=GR, data.shape=(29754,)),\n",
       " CurveItem(mnemonic=NEU, unit=%, value=, descr=6  Neutron Porosity, original_mnemonic=NEU, data.shape=(29754,)),\n",
       " CurveItem(mnemonic=RDEP, unit=OHMM, value=, descr=7  Deep Resistivity, original_mnemonic=RDEP, data.shape=(29754,)),\n",
       " CurveItem(mnemonic=RMED, unit=OHMM, value=, descr=8  Medium Resistivity, original_mnemonic=RMED, data.shape=(29754,)),\n",
       " CurveItem(mnemonic=GR_avg, unit=, value=, descr=, original_mnemonic=GR_avg, data.shape=(29754,)),\n",
       " CurveItem(mnemonic=MD, unit=, value=, descr=, original_mnemonic=MD, data.shape=(29754,))]"
      ]
     },
     "execution_count": 31,
     "metadata": {},
     "output_type": "execute_result"
    }
   ],
   "source": [
    "las.curves"
   ]
  },
  {
   "cell_type": "code",
   "execution_count": 32,
   "metadata": {},
   "outputs": [
    {
     "data": {
      "text/html": [
       "<div>\n",
       "<style scoped>\n",
       "    .dataframe tbody tr th:only-of-type {\n",
       "        vertical-align: middle;\n",
       "    }\n",
       "\n",
       "    .dataframe tbody tr th {\n",
       "        vertical-align: top;\n",
       "    }\n",
       "\n",
       "    .dataframe thead th {\n",
       "        text-align: right;\n",
       "    }\n",
       "</style>\n",
       "<table border=\"1\" class=\"dataframe\">\n",
       "  <thead>\n",
       "    <tr style=\"text-align: right;\">\n",
       "      <th></th>\n",
       "      <th>AC</th>\n",
       "      <th>CALI</th>\n",
       "      <th>DEN</th>\n",
       "      <th>GR</th>\n",
       "      <th>NEU</th>\n",
       "      <th>RDEP</th>\n",
       "      <th>RMED</th>\n",
       "      <th>GR_avg</th>\n",
       "      <th>MD</th>\n",
       "    </tr>\n",
       "  </thead>\n",
       "  <tbody>\n",
       "    <tr>\n",
       "      <th>count</th>\n",
       "      <td>7007.000000</td>\n",
       "      <td>7007.000000</td>\n",
       "      <td>7084.000000</td>\n",
       "      <td>28117.000000</td>\n",
       "      <td>7096.000000</td>\n",
       "      <td>12223.000000</td>\n",
       "      <td>12223.000000</td>\n",
       "      <td>27973.000000</td>\n",
       "      <td>29754.000000</td>\n",
       "    </tr>\n",
       "    <tr>\n",
       "      <th>mean</th>\n",
       "      <td>79.498714</td>\n",
       "      <td>9.611068</td>\n",
       "      <td>2.449055</td>\n",
       "      <td>71.986798</td>\n",
       "      <td>20.117166</td>\n",
       "      <td>2.438382</td>\n",
       "      <td>2.386781</td>\n",
       "      <td>71.930105</td>\n",
       "      <td>2369.335400</td>\n",
       "    </tr>\n",
       "    <tr>\n",
       "      <th>std</th>\n",
       "      <td>18.390705</td>\n",
       "      <td>1.019751</td>\n",
       "      <td>0.165121</td>\n",
       "      <td>32.922780</td>\n",
       "      <td>14.729530</td>\n",
       "      <td>6.631202</td>\n",
       "      <td>5.735731</td>\n",
       "      <td>32.771463</td>\n",
       "      <td>1309.022166</td>\n",
       "    </tr>\n",
       "    <tr>\n",
       "      <th>min</th>\n",
       "      <td>1.025100</td>\n",
       "      <td>6.000000</td>\n",
       "      <td>1.943000</td>\n",
       "      <td>2.766100</td>\n",
       "      <td>2.178300</td>\n",
       "      <td>0.250300</td>\n",
       "      <td>0.179000</td>\n",
       "      <td>5.400233</td>\n",
       "      <td>102.156800</td>\n",
       "    </tr>\n",
       "    <tr>\n",
       "      <th>25%</th>\n",
       "      <td>66.154350</td>\n",
       "      <td>9.142900</td>\n",
       "      <td>2.319975</td>\n",
       "      <td>50.255200</td>\n",
       "      <td>10.631350</td>\n",
       "      <td>0.988000</td>\n",
       "      <td>0.847850</td>\n",
       "      <td>50.617367</td>\n",
       "      <td>1235.746100</td>\n",
       "    </tr>\n",
       "    <tr>\n",
       "      <th>50%</th>\n",
       "      <td>74.661900</td>\n",
       "      <td>9.589400</td>\n",
       "      <td>2.505600</td>\n",
       "      <td>74.998500</td>\n",
       "      <td>15.718550</td>\n",
       "      <td>1.536100</td>\n",
       "      <td>1.490800</td>\n",
       "      <td>75.021717</td>\n",
       "      <td>2369.335400</td>\n",
       "    </tr>\n",
       "    <tr>\n",
       "      <th>75%</th>\n",
       "      <td>93.304550</td>\n",
       "      <td>9.904800</td>\n",
       "      <td>2.585125</td>\n",
       "      <td>92.343800</td>\n",
       "      <td>25.067375</td>\n",
       "      <td>2.434050</td>\n",
       "      <td>2.415400</td>\n",
       "      <td>92.087483</td>\n",
       "      <td>3502.924700</td>\n",
       "    </tr>\n",
       "    <tr>\n",
       "      <th>max</th>\n",
       "      <td>181.813900</td>\n",
       "      <td>20.330400</td>\n",
       "      <td>3.000000</td>\n",
       "      <td>304.333700</td>\n",
       "      <td>146.347400</td>\n",
       "      <td>198.537100</td>\n",
       "      <td>168.604400</td>\n",
       "      <td>287.134517</td>\n",
       "      <td>4636.514000</td>\n",
       "    </tr>\n",
       "  </tbody>\n",
       "</table>\n",
       "</div>"
      ],
      "text/plain": [
       "                AC         CALI          DEN            GR          NEU  \\\n",
       "count  7007.000000  7007.000000  7084.000000  28117.000000  7096.000000   \n",
       "mean     79.498714     9.611068     2.449055     71.986798    20.117166   \n",
       "std      18.390705     1.019751     0.165121     32.922780    14.729530   \n",
       "min       1.025100     6.000000     1.943000      2.766100     2.178300   \n",
       "25%      66.154350     9.142900     2.319975     50.255200    10.631350   \n",
       "50%      74.661900     9.589400     2.505600     74.998500    15.718550   \n",
       "75%      93.304550     9.904800     2.585125     92.343800    25.067375   \n",
       "max     181.813900    20.330400     3.000000    304.333700   146.347400   \n",
       "\n",
       "               RDEP          RMED        GR_avg            MD  \n",
       "count  12223.000000  12223.000000  27973.000000  29754.000000  \n",
       "mean       2.438382      2.386781     71.930105   2369.335400  \n",
       "std        6.631202      5.735731     32.771463   1309.022166  \n",
       "min        0.250300      0.179000      5.400233    102.156800  \n",
       "25%        0.988000      0.847850     50.617367   1235.746100  \n",
       "50%        1.536100      1.490800     75.021717   2369.335400  \n",
       "75%        2.434050      2.415400     92.087483   3502.924700  \n",
       "max      198.537100    168.604400    287.134517   4636.514000  "
      ]
     },
     "execution_count": 32,
     "metadata": {},
     "output_type": "execute_result"
    }
   ],
   "source": [
    "las.df().describe()\n",
    "\n",
    "# Check that new max density value of 3.0 is there\n",
    "# And GR_avg and MD columns have been added"
   ]
  },
  {
   "cell_type": "code",
   "execution_count": null,
   "metadata": {},
   "outputs": [],
   "source": []
  },
  {
   "cell_type": "markdown",
   "metadata": {},
   "source": [
    "### Header section metadata"
   ]
  },
  {
   "cell_type": "code",
   "execution_count": 33,
   "metadata": {},
   "outputs": [
    {
     "data": {
      "text/plain": [
       "dict"
      ]
     },
     "execution_count": 33,
     "metadata": {},
     "output_type": "execute_result"
    }
   ],
   "source": [
    "# Header sections are stored in dictionary las.sections\n",
    "type(las.sections)"
   ]
  },
  {
   "cell_type": "code",
   "execution_count": 34,
   "metadata": {},
   "outputs": [
    {
     "data": {
      "text/plain": [
       "dict_keys(['Version', 'Well', 'Curves', 'Parameter', 'Other'])"
      ]
     },
     "execution_count": 34,
     "metadata": {},
     "output_type": "execute_result"
    }
   ],
   "source": [
    "las.sections.keys()"
   ]
  },
  {
   "cell_type": "code",
   "execution_count": 35,
   "metadata": {},
   "outputs": [
    {
     "data": {
      "text/plain": [
       "dict_values([[HeaderItem(mnemonic=VERS, unit=, value=2.0, descr=CWLS Log ASCII Standard-VE...), HeaderItem(mnemonic=WRAP, unit=, value=NO, descr=One line per depth step)], [HeaderItem(mnemonic=STRT, unit=M, value=102.1568, descr=Top Depth), HeaderItem(mnemonic=STOP, unit=M, value=4636.514, descr=Bottom Depth), HeaderItem(mnemonic=STEP, unit=M, value=0.1524, descr=Depth Increment), HeaderItem(mnemonic=NULL, unit=, value=-999.25, descr=Null Value), HeaderItem(mnemonic=FLD, unit=, value=Q15, descr=Field Name), HeaderItem(mnemonic=WELL, unit=, value=15/9-19, descr=NAME), HeaderItem(mnemonic=WBN, unit=, value=15/9-19 SR, descr=WELLBORE), HeaderItem(mnemonic=NATI, unit=, value=NOR, descr=COUNTRY), HeaderItem(mnemonic=CTRY, unit=, value=NOR, descr=COUNTRY), HeaderItem(mnemonic=COMP, unit=, value=STATOIL, descr=OPERATOR), HeaderItem(mnemonic=PDAT, unit=, value=MSL, descr=PERM DATUM), HeaderItem(mnemonic=COUN, unit=, value=NORTH SEA, descr=RIG NAME), HeaderItem(mnemonic=STAT, unit=, value=NORWAY, descr=STATE), HeaderItem(mnemonic=PBWE, unit=, value=15/9-19, descr=PB WELL ID), HeaderItem(mnemonic=APIN, unit=, value=15/9-19 SR, descr=PB WELLBORE ID), HeaderItem(mnemonic=PBWS, unit=, value=ALL, descr=PB WELL NAME SET)], [CurveItem(mnemonic=DEPT, unit=M, value=00 001 00 00, descr=1  DEPTH, original_mnemonic=DEPT, data.shape=(29754,)), CurveItem(mnemonic=AC, unit=US/F, value=, descr=2  Sonic Transit Time (Slowness), original_mnemonic=AC, data.shape=(29754,)), CurveItem(mnemonic=CALI, unit=IN, value=, descr=3  Caliper, original_mnemonic=CALI, data.shape=(29754,)), CurveItem(mnemonic=DEN, unit=G/CC, value=, descr=4  Bulk Density, original_mnemonic=DEN, data.shape=(29754,)), CurveItem(mnemonic=GR, unit=GAPI, value=, descr=5  Gamma Ray, original_mnemonic=GR, data.shape=(29754,)), CurveItem(mnemonic=NEU, unit=%, value=, descr=6  Neutron Porosity, original_mnemonic=NEU, data.shape=(29754,)), CurveItem(mnemonic=RDEP, unit=OHMM, value=, descr=7  Deep Resistivity, original_mnemonic=RDEP, data.shape=(29754,)), CurveItem(mnemonic=RMED, unit=OHMM, value=, descr=8  Medium Resistivity, original_mnemonic=RMED, data.shape=(29754,)), CurveItem(mnemonic=GR_avg, unit=, value=, descr=, original_mnemonic=GR_avg, data.shape=(29754,)), CurveItem(mnemonic=MD, unit=, value=, descr=, original_mnemonic=MD, data.shape=(29754,))], [HeaderItem(mnemonic=LNAM, unit=, value=COMPOSITE, descr=NAME), HeaderItem(mnemonic=LTYP, unit=, value=PAP.CMP, descr=LOG TYPE), HeaderItem(mnemonic=LSRV, unit=, value=WL.LOG, descr=LOG SERVICE), HeaderItem(mnemonic=LSOU, unit=, value=STATOIL, descr=LOG SOURCE), HeaderItem(mnemonic=LVSN, unit=, value=1, descr=LOG VERSION), HeaderItem(mnemonic=BHIS, unit=, value=R, descr=BRIEF HISTORY), HeaderItem(mnemonic=R1, unit=, value=LIS DECODE EDITED AND SPLICED DATA., de...), HeaderItem(mnemonic=R2, unit=, value=LIS DECODE INCLUDING HYBRID CURVES., de...), HeaderItem(mnemonic=ELZ, unit=, value=0.0, descr=ELEVATION LOG ZERO), HeaderItem(mnemonic=FHIS, unit=, value=RAW-LIS, descr=FULL HISTORY), HeaderItem(mnemonic=QCRM, unit=, value=Waiting for Statoil confirmation, des...), HeaderItem(mnemonic=QCCD, unit=, value=unknown, descr=QC LEVEL), HeaderItem(mnemonic=QCCO, unit=, value=UNKNOWN, descr=QC COMPANY), HeaderItem(mnemonic=QCST, unit=, value=NOT CHECKED, descr=QC STATUS)], ''])"
      ]
     },
     "execution_count": 35,
     "metadata": {},
     "output_type": "execute_result"
    }
   ],
   "source": [
    "las.sections.values()"
   ]
  },
  {
   "cell_type": "code",
   "execution_count": 36,
   "metadata": {},
   "outputs": [
    {
     "data": {
      "text/plain": [
       "[HeaderItem(mnemonic=VERS, unit=, value=2.0, descr=CWLS Log ASCII Standard-VE...),\n",
       " HeaderItem(mnemonic=WRAP, unit=, value=NO, descr=One line per depth step)]"
      ]
     },
     "execution_count": 36,
     "metadata": {},
     "output_type": "execute_result"
    }
   ],
   "source": [
    "las.sections['Version']\n",
    "\n",
    "# How does this work?\n",
    "# lasio is looking for ~v or ~V and reads it in as lasio.las_items_SectionItems\n",
    "# References in LASFile (LASFile.version and LASFile.sections['Version'])\n",
    "# ~w for well, ~c for curves, ~p for params, ~o other\n",
    "\n",
    "# ~a or ~A (~ASCII) is read in as numpy.ndarray\n",
    "# LASFile.data or each column is in LASFile.curves[...].data)"
   ]
  },
  {
   "cell_type": "code",
   "execution_count": 37,
   "metadata": {},
   "outputs": [
    {
     "data": {
      "text/plain": [
       "[HeaderItem(mnemonic=VERS, unit=, value=2.0, descr=CWLS Log ASCII Standard-VE...),\n",
       " HeaderItem(mnemonic=WRAP, unit=, value=NO, descr=One line per depth step)]"
      ]
     },
     "execution_count": 37,
     "metadata": {},
     "output_type": "execute_result"
    }
   ],
   "source": [
    "# Can access the same with\n",
    "las.version"
   ]
  },
  {
   "cell_type": "code",
   "execution_count": 38,
   "metadata": {},
   "outputs": [
    {
     "data": {
      "text/plain": [
       "HeaderItem(mnemonic=VERS, unit=, value=2.0, descr=CWLS Log ASCII Standard-VE...)"
      ]
     },
     "execution_count": 38,
     "metadata": {},
     "output_type": "execute_result"
    }
   ],
   "source": [
    "# Sections themselves are represented by lasio.las_items.SectionItems objects. \n",
    "# This is a list which has been extended to allow you to \n",
    "# access the items within by their mnemonic.\n",
    "# Either attribute-style or item-style access is fine\n",
    "\n",
    "\n",
    "las.version.VERS"
   ]
  },
  {
   "cell_type": "code",
   "execution_count": 39,
   "metadata": {},
   "outputs": [
    {
     "data": {
      "text/plain": [
       "HeaderItem(mnemonic=VERS, unit=, value=2.0, descr=CWLS Log ASCII Standard-VE...)"
      ]
     },
     "execution_count": 39,
     "metadata": {},
     "output_type": "execute_result"
    }
   ],
   "source": [
    "las.version['VERS']"
   ]
  },
  {
   "cell_type": "code",
   "execution_count": 40,
   "metadata": {},
   "outputs": [
    {
     "data": {
      "text/plain": [
       "HeaderItem(mnemonic=VERS, unit=, value=2.0, descr=CWLS Log ASCII Standard-VE...)"
      ]
     },
     "execution_count": 40,
     "metadata": {},
     "output_type": "execute_result"
    }
   ],
   "source": [
    "las.version[0]"
   ]
  },
  {
   "cell_type": "code",
   "execution_count": 112,
   "metadata": {},
   "outputs": [
    {
     "data": {
      "text/plain": [
       "2.0"
      ]
     },
     "execution_count": 112,
     "metadata": {},
     "output_type": "execute_result"
    }
   ],
   "source": [
    "las.version.VERS.value"
   ]
  },
  {
   "cell_type": "code",
   "execution_count": 41,
   "metadata": {},
   "outputs": [
    {
     "data": {
      "text/plain": [
       "[HeaderItem(mnemonic=STRT, unit=M, value=102.1568, descr=Top Depth),\n",
       " HeaderItem(mnemonic=STOP, unit=M, value=4636.514, descr=Bottom Depth),\n",
       " HeaderItem(mnemonic=STEP, unit=M, value=0.1524, descr=Depth Increment),\n",
       " HeaderItem(mnemonic=NULL, unit=, value=-999.25, descr=Null Value),\n",
       " HeaderItem(mnemonic=FLD, unit=, value=Q15, descr=Field Name),\n",
       " HeaderItem(mnemonic=WELL, unit=, value=15/9-19, descr=NAME),\n",
       " HeaderItem(mnemonic=WBN, unit=, value=15/9-19 SR, descr=WELLBORE),\n",
       " HeaderItem(mnemonic=NATI, unit=, value=NOR, descr=COUNTRY),\n",
       " HeaderItem(mnemonic=CTRY, unit=, value=NOR, descr=COUNTRY),\n",
       " HeaderItem(mnemonic=COMP, unit=, value=STATOIL, descr=OPERATOR),\n",
       " HeaderItem(mnemonic=PDAT, unit=, value=MSL, descr=PERM DATUM),\n",
       " HeaderItem(mnemonic=COUN, unit=, value=NORTH SEA, descr=RIG NAME),\n",
       " HeaderItem(mnemonic=STAT, unit=, value=NORWAY, descr=STATE),\n",
       " HeaderItem(mnemonic=PBWE, unit=, value=15/9-19, descr=PB WELL ID),\n",
       " HeaderItem(mnemonic=APIN, unit=, value=15/9-19 SR, descr=PB WELLBORE ID),\n",
       " HeaderItem(mnemonic=PBWS, unit=, value=ALL, descr=PB WELL NAME SET)]"
      ]
     },
     "execution_count": 41,
     "metadata": {},
     "output_type": "execute_result"
    }
   ],
   "source": [
    "las.well"
   ]
  },
  {
   "cell_type": "code",
   "execution_count": 42,
   "metadata": {},
   "outputs": [
    {
     "data": {
      "text/plain": [
       "HeaderItem(mnemonic=CTRY, unit=, value=NOR, descr=COUNTRY)"
      ]
     },
     "execution_count": 42,
     "metadata": {},
     "output_type": "execute_result"
    }
   ],
   "source": [
    "las.well.CTRY"
   ]
  },
  {
   "cell_type": "code",
   "execution_count": 43,
   "metadata": {},
   "outputs": [
    {
     "data": {
      "text/plain": [
       "HeaderItem(mnemonic=CTRY, unit=, value=Norway, descr=COUNTRY)"
      ]
     },
     "execution_count": 43,
     "metadata": {},
     "output_type": "execute_result"
    }
   ],
   "source": [
    "# CTRY value=NOR. Set it to 'Norway'.\n",
    "\n",
    "las.well.CTRY = 'Norway'\n",
    "las.well.CTRY"
   ]
  },
  {
   "cell_type": "code",
   "execution_count": 44,
   "metadata": {},
   "outputs": [
    {
     "data": {
      "text/plain": [
       "[CurveItem(mnemonic=DEPT, unit=M, value=00 001 00 00, descr=1  DEPTH, original_mnemonic=DEPT, data.shape=(29754,)),\n",
       " CurveItem(mnemonic=AC, unit=US/F, value=, descr=2  Sonic Transit Time (Slowness), original_mnemonic=AC, data.shape=(29754,)),\n",
       " CurveItem(mnemonic=CALI, unit=IN, value=, descr=3  Caliper, original_mnemonic=CALI, data.shape=(29754,)),\n",
       " CurveItem(mnemonic=DEN, unit=G/CC, value=, descr=4  Bulk Density, original_mnemonic=DEN, data.shape=(29754,)),\n",
       " CurveItem(mnemonic=GR, unit=GAPI, value=, descr=5  Gamma Ray, original_mnemonic=GR, data.shape=(29754,)),\n",
       " CurveItem(mnemonic=NEU, unit=%, value=, descr=6  Neutron Porosity, original_mnemonic=NEU, data.shape=(29754,)),\n",
       " CurveItem(mnemonic=RDEP, unit=OHMM, value=, descr=7  Deep Resistivity, original_mnemonic=RDEP, data.shape=(29754,)),\n",
       " CurveItem(mnemonic=RMED, unit=OHMM, value=, descr=8  Medium Resistivity, original_mnemonic=RMED, data.shape=(29754,)),\n",
       " CurveItem(mnemonic=GR_avg, unit=, value=, descr=, original_mnemonic=GR_avg, data.shape=(29754,)),\n",
       " CurveItem(mnemonic=MD, unit=, value=, descr=, original_mnemonic=MD, data.shape=(29754,))]"
      ]
     },
     "execution_count": 44,
     "metadata": {},
     "output_type": "execute_result"
    }
   ],
   "source": [
    "las.curves"
   ]
  },
  {
   "cell_type": "code",
   "execution_count": 45,
   "metadata": {},
   "outputs": [
    {
     "data": {
      "text/plain": [
       "CurveItem(mnemonic=GR_avg, unit=GAPI, value=, descr=, original_mnemonic=GR_avg, data.shape=(29754,))"
      ]
     },
     "execution_count": 45,
     "metadata": {},
     "output_type": "execute_result"
    }
   ],
   "source": [
    "las.curves.GR_avg.unit = 'GAPI'\n",
    "las.curves.GR_avg"
   ]
  },
  {
   "cell_type": "code",
   "execution_count": 46,
   "metadata": {},
   "outputs": [
    {
     "data": {
      "text/plain": [
       "[HeaderItem(mnemonic=LNAM, unit=, value=COMPOSITE, descr=NAME),\n",
       " HeaderItem(mnemonic=LTYP, unit=, value=PAP.CMP, descr=LOG TYPE),\n",
       " HeaderItem(mnemonic=LSRV, unit=, value=WL.LOG, descr=LOG SERVICE),\n",
       " HeaderItem(mnemonic=LSOU, unit=, value=STATOIL, descr=LOG SOURCE),\n",
       " HeaderItem(mnemonic=LVSN, unit=, value=1, descr=LOG VERSION),\n",
       " HeaderItem(mnemonic=BHIS, unit=, value=R, descr=BRIEF HISTORY),\n",
       " HeaderItem(mnemonic=R1, unit=, value=LIS DECODE EDITED AND SPLICED DATA., de...),\n",
       " HeaderItem(mnemonic=R2, unit=, value=LIS DECODE INCLUDING HYBRID CURVES., de...),\n",
       " HeaderItem(mnemonic=ELZ, unit=, value=0.0, descr=ELEVATION LOG ZERO),\n",
       " HeaderItem(mnemonic=FHIS, unit=, value=RAW-LIS, descr=FULL HISTORY),\n",
       " HeaderItem(mnemonic=QCRM, unit=, value=Waiting for Statoil confirmation, des...),\n",
       " HeaderItem(mnemonic=QCCD, unit=, value=unknown, descr=QC LEVEL),\n",
       " HeaderItem(mnemonic=QCCO, unit=, value=UNKNOWN, descr=QC COMPANY),\n",
       " HeaderItem(mnemonic=QCST, unit=, value=NOT CHECKED, descr=QC STATUS)]"
      ]
     },
     "execution_count": 46,
     "metadata": {},
     "output_type": "execute_result"
    }
   ],
   "source": [
    "las.params"
   ]
  },
  {
   "cell_type": "code",
   "execution_count": 47,
   "metadata": {},
   "outputs": [],
   "source": [
    "# Rename GR mnemonic as GR1, by changing the header_item.mnemonic attribute"
   ]
  },
  {
   "cell_type": "code",
   "execution_count": 50,
   "metadata": {},
   "outputs": [],
   "source": [
    "las.params.QCST.mnemonic = 'QCST1'"
   ]
  },
  {
   "cell_type": "code",
   "execution_count": 52,
   "metadata": {},
   "outputs": [
    {
     "data": {
      "text/plain": [
       "HeaderItem(mnemonic=QCST1, unit=, value=NOT CHECKED, descr=QC STATUS)"
      ]
     },
     "execution_count": 52,
     "metadata": {},
     "output_type": "execute_result"
    }
   ],
   "source": [
    "las.params.QCST1"
   ]
  },
  {
   "cell_type": "code",
   "execution_count": 54,
   "metadata": {},
   "outputs": [],
   "source": [
    "las.params['DRILL'] = lasio.HeaderItem(mnemonic='DRILL', value='John Smith', descr='Driller on site')"
   ]
  },
  {
   "cell_type": "code",
   "execution_count": 56,
   "metadata": {},
   "outputs": [
    {
     "data": {
      "text/plain": [
       "HeaderItem(mnemonic=DRILL, unit=, value=John Smith, descr=Driller on site)"
      ]
     },
     "execution_count": 56,
     "metadata": {},
     "output_type": "execute_result"
    }
   ],
   "source": [
    "las.params['DRILL']"
   ]
  },
  {
   "cell_type": "code",
   "execution_count": null,
   "metadata": {},
   "outputs": [],
   "source": []
  },
  {
   "cell_type": "code",
   "execution_count": null,
   "metadata": {},
   "outputs": [],
   "source": [
    "# Handling errors\n",
    "# las.read('', ignore_header_errors=True)\n",
    "# las = lasio.read('', mnemonic_case='preserve')"
   ]
  },
  {
   "cell_type": "code",
   "execution_count": null,
   "metadata": {},
   "outputs": [],
   "source": []
  },
  {
   "cell_type": "markdown",
   "metadata": {},
   "source": [
    "### Data section"
   ]
  },
  {
   "cell_type": "code",
   "execution_count": null,
   "metadata": {},
   "outputs": [],
   "source": [
    "# lasio.read(f, read_policy='default') # null_policy='common'"
   ]
  },
  {
   "cell_type": "code",
   "execution_count": null,
   "metadata": {},
   "outputs": [],
   "source": [
    "# specify a null_policy of ‘none’, ‘strict’, ‘common’, ‘aggressive’, or ‘all’.\n",
    "# each has a subset of pre-defined substitutions"
   ]
  },
  {
   "cell_type": "code",
   "execution_count": null,
   "metadata": {},
   "outputs": [],
   "source": []
  },
  {
   "cell_type": "markdown",
   "metadata": {},
   "source": [
    "### Writing LAS files"
   ]
  },
  {
   "cell_type": "code",
   "execution_count": null,
   "metadata": {},
   "outputs": [],
   "source": [
    "# LASFile object can be written to new LAS file with lasio.LASFile.write()"
   ]
  },
  {
   "cell_type": "code",
   "execution_count": 58,
   "metadata": {},
   "outputs": [],
   "source": [
    "# Convert LAS v2.0 file to v1.2\n",
    "\n",
    "las.write('example-as-v1.2.las', version=1.2)"
   ]
  },
  {
   "cell_type": "code",
   "execution_count": 62,
   "metadata": {},
   "outputs": [
    {
     "data": {
      "text/plain": [
       "[HeaderItem(mnemonic=VERS, unit=, value=1.2, descr=CWLS LOG ASCII STANDARD - ...),\n",
       " HeaderItem(mnemonic=WRAP, unit=, value=NO, descr=One line per depth step)]"
      ]
     },
     "execution_count": 62,
     "metadata": {},
     "output_type": "execute_result"
    }
   ],
   "source": [
    "las.version"
   ]
  },
  {
   "cell_type": "code",
   "execution_count": 63,
   "metadata": {},
   "outputs": [],
   "source": [
    "las.version.WRAP = 'YES'"
   ]
  },
  {
   "cell_type": "code",
   "execution_count": 64,
   "metadata": {},
   "outputs": [
    {
     "data": {
      "text/plain": [
       "HeaderItem(mnemonic=WRAP, unit=, value=YES, descr=One line per depth step)"
      ]
     },
     "execution_count": 64,
     "metadata": {},
     "output_type": "execute_result"
    }
   ],
   "source": [
    "las.version.WRAP"
   ]
  },
  {
   "cell_type": "code",
   "execution_count": 65,
   "metadata": {},
   "outputs": [],
   "source": [
    "las.write('example-wrapped.las')\n",
    "\n",
    "# Note that LAS 2.0 allows more than 256 chars per line, so handles unwrapping better."
   ]
  },
  {
   "cell_type": "code",
   "execution_count": null,
   "metadata": {},
   "outputs": [],
   "source": []
  },
  {
   "cell_type": "markdown",
   "metadata": {},
   "source": [
    "### Exporting to other formats"
   ]
  },
  {
   "cell_type": "code",
   "execution_count": 67,
   "metadata": {},
   "outputs": [],
   "source": [
    "las = lasio.read('STAT1990__30-1__15-9-19_SR__COMPOSITE__1.las')"
   ]
  },
  {
   "cell_type": "code",
   "execution_count": 70,
   "metadata": {},
   "outputs": [
    {
     "data": {
      "text/plain": [
       "[HeaderItem(mnemonic=VERS, unit=, value=2.0, descr=CWLS Log ASCII Standard-VE...),\n",
       " HeaderItem(mnemonic=WRAP, unit=, value=NO, descr=One line per depth step)]"
      ]
     },
     "execution_count": 70,
     "metadata": {},
     "output_type": "execute_result"
    }
   ],
   "source": [
    "las.version"
   ]
  },
  {
   "cell_type": "code",
   "execution_count": 71,
   "metadata": {},
   "outputs": [],
   "source": [
    "las.to_csv('sample.csv')"
   ]
  },
  {
   "cell_type": "code",
   "execution_count": 72,
   "metadata": {},
   "outputs": [
    {
     "data": {
      "text/html": [
       "<div>\n",
       "<style scoped>\n",
       "    .dataframe tbody tr th:only-of-type {\n",
       "        vertical-align: middle;\n",
       "    }\n",
       "\n",
       "    .dataframe tbody tr th {\n",
       "        vertical-align: top;\n",
       "    }\n",
       "\n",
       "    .dataframe thead th {\n",
       "        text-align: right;\n",
       "    }\n",
       "</style>\n",
       "<table border=\"1\" class=\"dataframe\">\n",
       "  <thead>\n",
       "    <tr style=\"text-align: right;\">\n",
       "      <th></th>\n",
       "      <th>DEPT</th>\n",
       "      <th>AC</th>\n",
       "      <th>CALI</th>\n",
       "      <th>DEN</th>\n",
       "      <th>GR</th>\n",
       "      <th>NEU</th>\n",
       "      <th>RDEP</th>\n",
       "      <th>RMED</th>\n",
       "    </tr>\n",
       "  </thead>\n",
       "  <tbody>\n",
       "    <tr>\n",
       "      <th>0</th>\n",
       "      <td>M</td>\n",
       "      <td>US/F</td>\n",
       "      <td>IN</td>\n",
       "      <td>G/CC</td>\n",
       "      <td>GAPI</td>\n",
       "      <td>%</td>\n",
       "      <td>OHMM</td>\n",
       "      <td>OHMM</td>\n",
       "    </tr>\n",
       "    <tr>\n",
       "      <th>1</th>\n",
       "      <td>102.1568</td>\n",
       "      <td>NaN</td>\n",
       "      <td>NaN</td>\n",
       "      <td>NaN</td>\n",
       "      <td>5.3274</td>\n",
       "      <td>NaN</td>\n",
       "      <td>NaN</td>\n",
       "      <td>NaN</td>\n",
       "    </tr>\n",
       "    <tr>\n",
       "      <th>2</th>\n",
       "      <td>102.3092</td>\n",
       "      <td>NaN</td>\n",
       "      <td>NaN</td>\n",
       "      <td>NaN</td>\n",
       "      <td>5.8235</td>\n",
       "      <td>NaN</td>\n",
       "      <td>NaN</td>\n",
       "      <td>NaN</td>\n",
       "    </tr>\n",
       "    <tr>\n",
       "      <th>3</th>\n",
       "      <td>102.4616</td>\n",
       "      <td>NaN</td>\n",
       "      <td>NaN</td>\n",
       "      <td>NaN</td>\n",
       "      <td>6.5228</td>\n",
       "      <td>NaN</td>\n",
       "      <td>NaN</td>\n",
       "      <td>NaN</td>\n",
       "    </tr>\n",
       "    <tr>\n",
       "      <th>4</th>\n",
       "      <td>102.614</td>\n",
       "      <td>NaN</td>\n",
       "      <td>NaN</td>\n",
       "      <td>NaN</td>\n",
       "      <td>7.2285</td>\n",
       "      <td>NaN</td>\n",
       "      <td>NaN</td>\n",
       "      <td>NaN</td>\n",
       "    </tr>\n",
       "    <tr>\n",
       "      <th>...</th>\n",
       "      <td>...</td>\n",
       "      <td>...</td>\n",
       "      <td>...</td>\n",
       "      <td>...</td>\n",
       "      <td>...</td>\n",
       "      <td>...</td>\n",
       "      <td>...</td>\n",
       "      <td>...</td>\n",
       "    </tr>\n",
       "    <tr>\n",
       "      <th>29750</th>\n",
       "      <td>4635.9044</td>\n",
       "      <td>NaN</td>\n",
       "      <td>NaN</td>\n",
       "      <td>NaN</td>\n",
       "      <td>NaN</td>\n",
       "      <td>NaN</td>\n",
       "      <td>0.7729</td>\n",
       "      <td>0.5978</td>\n",
       "    </tr>\n",
       "    <tr>\n",
       "      <th>29751</th>\n",
       "      <td>4636.0568</td>\n",
       "      <td>NaN</td>\n",
       "      <td>NaN</td>\n",
       "      <td>NaN</td>\n",
       "      <td>NaN</td>\n",
       "      <td>NaN</td>\n",
       "      <td>0.8369</td>\n",
       "      <td>0.6257</td>\n",
       "    </tr>\n",
       "    <tr>\n",
       "      <th>29752</th>\n",
       "      <td>4636.2092</td>\n",
       "      <td>NaN</td>\n",
       "      <td>NaN</td>\n",
       "      <td>NaN</td>\n",
       "      <td>NaN</td>\n",
       "      <td>NaN</td>\n",
       "      <td>0.8741</td>\n",
       "      <td>0.6888</td>\n",
       "    </tr>\n",
       "    <tr>\n",
       "      <th>29753</th>\n",
       "      <td>4636.3616</td>\n",
       "      <td>NaN</td>\n",
       "      <td>NaN</td>\n",
       "      <td>NaN</td>\n",
       "      <td>NaN</td>\n",
       "      <td>NaN</td>\n",
       "      <td>0.9002</td>\n",
       "      <td>0.8902</td>\n",
       "    </tr>\n",
       "    <tr>\n",
       "      <th>29754</th>\n",
       "      <td>4636.514</td>\n",
       "      <td>NaN</td>\n",
       "      <td>NaN</td>\n",
       "      <td>NaN</td>\n",
       "      <td>NaN</td>\n",
       "      <td>NaN</td>\n",
       "      <td>0.9133</td>\n",
       "      <td>1.0363</td>\n",
       "    </tr>\n",
       "  </tbody>\n",
       "</table>\n",
       "<p>29755 rows × 8 columns</p>\n",
       "</div>"
      ],
      "text/plain": [
       "            DEPT    AC CALI   DEN      GR  NEU    RDEP    RMED\n",
       "0              M  US/F   IN  G/CC    GAPI    %    OHMM    OHMM\n",
       "1       102.1568   NaN  NaN   NaN  5.3274  NaN     NaN     NaN\n",
       "2       102.3092   NaN  NaN   NaN  5.8235  NaN     NaN     NaN\n",
       "3       102.4616   NaN  NaN   NaN  6.5228  NaN     NaN     NaN\n",
       "4        102.614   NaN  NaN   NaN  7.2285  NaN     NaN     NaN\n",
       "...          ...   ...  ...   ...     ...  ...     ...     ...\n",
       "29750  4635.9044   NaN  NaN   NaN     NaN  NaN  0.7729  0.5978\n",
       "29751  4636.0568   NaN  NaN   NaN     NaN  NaN  0.8369  0.6257\n",
       "29752  4636.2092   NaN  NaN   NaN     NaN  NaN  0.8741  0.6888\n",
       "29753  4636.3616   NaN  NaN   NaN     NaN  NaN  0.9002  0.8902\n",
       "29754   4636.514   NaN  NaN   NaN     NaN  NaN  0.9133  1.0363\n",
       "\n",
       "[29755 rows x 8 columns]"
      ]
     },
     "execution_count": 72,
     "metadata": {},
     "output_type": "execute_result"
    }
   ],
   "source": [
    "# Check it worked\n",
    "pd.read_csv('sample.csv')"
   ]
  },
  {
   "cell_type": "code",
   "execution_count": 73,
   "metadata": {},
   "outputs": [],
   "source": [
    "# putting the units together with mnemonics\n",
    "las.to_csv('sample_with_units.csv', units_loc='[]')"
   ]
  },
  {
   "cell_type": "code",
   "execution_count": 77,
   "metadata": {},
   "outputs": [
    {
     "data": {
      "text/html": [
       "<div>\n",
       "<style scoped>\n",
       "    .dataframe tbody tr th:only-of-type {\n",
       "        vertical-align: middle;\n",
       "    }\n",
       "\n",
       "    .dataframe tbody tr th {\n",
       "        vertical-align: top;\n",
       "    }\n",
       "\n",
       "    .dataframe thead th {\n",
       "        text-align: right;\n",
       "    }\n",
       "</style>\n",
       "<table border=\"1\" class=\"dataframe\">\n",
       "  <thead>\n",
       "    <tr style=\"text-align: right;\">\n",
       "      <th></th>\n",
       "      <th>DEPT [M]</th>\n",
       "      <th>AC [US/F]</th>\n",
       "      <th>CALI [IN]</th>\n",
       "      <th>DEN [G/CC]</th>\n",
       "      <th>GR [GAPI]</th>\n",
       "      <th>NEU [%]</th>\n",
       "      <th>RDEP [OHMM]</th>\n",
       "      <th>RMED [OHMM]</th>\n",
       "    </tr>\n",
       "  </thead>\n",
       "  <tbody>\n",
       "    <tr>\n",
       "      <th>0</th>\n",
       "      <td>102.1568</td>\n",
       "      <td>NaN</td>\n",
       "      <td>NaN</td>\n",
       "      <td>NaN</td>\n",
       "      <td>5.3274</td>\n",
       "      <td>NaN</td>\n",
       "      <td>NaN</td>\n",
       "      <td>NaN</td>\n",
       "    </tr>\n",
       "    <tr>\n",
       "      <th>1</th>\n",
       "      <td>102.3092</td>\n",
       "      <td>NaN</td>\n",
       "      <td>NaN</td>\n",
       "      <td>NaN</td>\n",
       "      <td>5.8235</td>\n",
       "      <td>NaN</td>\n",
       "      <td>NaN</td>\n",
       "      <td>NaN</td>\n",
       "    </tr>\n",
       "    <tr>\n",
       "      <th>2</th>\n",
       "      <td>102.4616</td>\n",
       "      <td>NaN</td>\n",
       "      <td>NaN</td>\n",
       "      <td>NaN</td>\n",
       "      <td>6.5228</td>\n",
       "      <td>NaN</td>\n",
       "      <td>NaN</td>\n",
       "      <td>NaN</td>\n",
       "    </tr>\n",
       "    <tr>\n",
       "      <th>3</th>\n",
       "      <td>102.6140</td>\n",
       "      <td>NaN</td>\n",
       "      <td>NaN</td>\n",
       "      <td>NaN</td>\n",
       "      <td>7.2285</td>\n",
       "      <td>NaN</td>\n",
       "      <td>NaN</td>\n",
       "      <td>NaN</td>\n",
       "    </tr>\n",
       "    <tr>\n",
       "      <th>4</th>\n",
       "      <td>102.7664</td>\n",
       "      <td>NaN</td>\n",
       "      <td>NaN</td>\n",
       "      <td>NaN</td>\n",
       "      <td>9.5020</td>\n",
       "      <td>NaN</td>\n",
       "      <td>NaN</td>\n",
       "      <td>NaN</td>\n",
       "    </tr>\n",
       "  </tbody>\n",
       "</table>\n",
       "</div>"
      ],
      "text/plain": [
       "   DEPT [M]  AC [US/F]  CALI [IN]  DEN [G/CC]  GR [GAPI]  NEU [%]  \\\n",
       "0  102.1568        NaN        NaN         NaN     5.3274      NaN   \n",
       "1  102.3092        NaN        NaN         NaN     5.8235      NaN   \n",
       "2  102.4616        NaN        NaN         NaN     6.5228      NaN   \n",
       "3  102.6140        NaN        NaN         NaN     7.2285      NaN   \n",
       "4  102.7664        NaN        NaN         NaN     9.5020      NaN   \n",
       "\n",
       "   RDEP [OHMM]  RMED [OHMM]  \n",
       "0          NaN          NaN  \n",
       "1          NaN          NaN  \n",
       "2          NaN          NaN  \n",
       "3          NaN          NaN  \n",
       "4          NaN          NaN  "
      ]
     },
     "execution_count": 77,
     "metadata": {},
     "output_type": "execute_result"
    }
   ],
   "source": [
    "pd.read_csv('sample_with_units.csv').head(2)"
   ]
  },
  {
   "cell_type": "code",
   "execution_count": 78,
   "metadata": {},
   "outputs": [],
   "source": [
    "# Or leaving mnemonics and units out altogether\n",
    "las.to_csv('sample_no_mnemonics_no_units.csv', mnemonics=False, units=False)"
   ]
  },
  {
   "cell_type": "code",
   "execution_count": 79,
   "metadata": {},
   "outputs": [
    {
     "data": {
      "text/html": [
       "<div>\n",
       "<style scoped>\n",
       "    .dataframe tbody tr th:only-of-type {\n",
       "        vertical-align: middle;\n",
       "    }\n",
       "\n",
       "    .dataframe tbody tr th {\n",
       "        vertical-align: top;\n",
       "    }\n",
       "\n",
       "    .dataframe thead th {\n",
       "        text-align: right;\n",
       "    }\n",
       "</style>\n",
       "<table border=\"1\" class=\"dataframe\">\n",
       "  <thead>\n",
       "    <tr style=\"text-align: right;\">\n",
       "      <th></th>\n",
       "      <th>102.1568</th>\n",
       "      <th>nan</th>\n",
       "      <th>nan.1</th>\n",
       "      <th>nan.2</th>\n",
       "      <th>5.3274</th>\n",
       "      <th>nan.3</th>\n",
       "      <th>nan.4</th>\n",
       "      <th>nan.5</th>\n",
       "    </tr>\n",
       "  </thead>\n",
       "  <tbody>\n",
       "    <tr>\n",
       "      <th>0</th>\n",
       "      <td>102.3092</td>\n",
       "      <td>NaN</td>\n",
       "      <td>NaN</td>\n",
       "      <td>NaN</td>\n",
       "      <td>5.8235</td>\n",
       "      <td>NaN</td>\n",
       "      <td>NaN</td>\n",
       "      <td>NaN</td>\n",
       "    </tr>\n",
       "    <tr>\n",
       "      <th>1</th>\n",
       "      <td>102.4616</td>\n",
       "      <td>NaN</td>\n",
       "      <td>NaN</td>\n",
       "      <td>NaN</td>\n",
       "      <td>6.5228</td>\n",
       "      <td>NaN</td>\n",
       "      <td>NaN</td>\n",
       "      <td>NaN</td>\n",
       "    </tr>\n",
       "    <tr>\n",
       "      <th>2</th>\n",
       "      <td>102.6140</td>\n",
       "      <td>NaN</td>\n",
       "      <td>NaN</td>\n",
       "      <td>NaN</td>\n",
       "      <td>7.2285</td>\n",
       "      <td>NaN</td>\n",
       "      <td>NaN</td>\n",
       "      <td>NaN</td>\n",
       "    </tr>\n",
       "    <tr>\n",
       "      <th>3</th>\n",
       "      <td>102.7664</td>\n",
       "      <td>NaN</td>\n",
       "      <td>NaN</td>\n",
       "      <td>NaN</td>\n",
       "      <td>9.5020</td>\n",
       "      <td>NaN</td>\n",
       "      <td>NaN</td>\n",
       "      <td>NaN</td>\n",
       "    </tr>\n",
       "    <tr>\n",
       "      <th>4</th>\n",
       "      <td>102.9188</td>\n",
       "      <td>NaN</td>\n",
       "      <td>NaN</td>\n",
       "      <td>NaN</td>\n",
       "      <td>15.6696</td>\n",
       "      <td>NaN</td>\n",
       "      <td>NaN</td>\n",
       "      <td>NaN</td>\n",
       "    </tr>\n",
       "    <tr>\n",
       "      <th>...</th>\n",
       "      <td>...</td>\n",
       "      <td>...</td>\n",
       "      <td>...</td>\n",
       "      <td>...</td>\n",
       "      <td>...</td>\n",
       "      <td>...</td>\n",
       "      <td>...</td>\n",
       "      <td>...</td>\n",
       "    </tr>\n",
       "    <tr>\n",
       "      <th>29748</th>\n",
       "      <td>4635.9044</td>\n",
       "      <td>NaN</td>\n",
       "      <td>NaN</td>\n",
       "      <td>NaN</td>\n",
       "      <td>NaN</td>\n",
       "      <td>NaN</td>\n",
       "      <td>0.7729</td>\n",
       "      <td>0.5978</td>\n",
       "    </tr>\n",
       "    <tr>\n",
       "      <th>29749</th>\n",
       "      <td>4636.0568</td>\n",
       "      <td>NaN</td>\n",
       "      <td>NaN</td>\n",
       "      <td>NaN</td>\n",
       "      <td>NaN</td>\n",
       "      <td>NaN</td>\n",
       "      <td>0.8369</td>\n",
       "      <td>0.6257</td>\n",
       "    </tr>\n",
       "    <tr>\n",
       "      <th>29750</th>\n",
       "      <td>4636.2092</td>\n",
       "      <td>NaN</td>\n",
       "      <td>NaN</td>\n",
       "      <td>NaN</td>\n",
       "      <td>NaN</td>\n",
       "      <td>NaN</td>\n",
       "      <td>0.8741</td>\n",
       "      <td>0.6888</td>\n",
       "    </tr>\n",
       "    <tr>\n",
       "      <th>29751</th>\n",
       "      <td>4636.3616</td>\n",
       "      <td>NaN</td>\n",
       "      <td>NaN</td>\n",
       "      <td>NaN</td>\n",
       "      <td>NaN</td>\n",
       "      <td>NaN</td>\n",
       "      <td>0.9002</td>\n",
       "      <td>0.8902</td>\n",
       "    </tr>\n",
       "    <tr>\n",
       "      <th>29752</th>\n",
       "      <td>4636.5140</td>\n",
       "      <td>NaN</td>\n",
       "      <td>NaN</td>\n",
       "      <td>NaN</td>\n",
       "      <td>NaN</td>\n",
       "      <td>NaN</td>\n",
       "      <td>0.9133</td>\n",
       "      <td>1.0363</td>\n",
       "    </tr>\n",
       "  </tbody>\n",
       "</table>\n",
       "<p>29753 rows × 8 columns</p>\n",
       "</div>"
      ],
      "text/plain": [
       "        102.1568  nan  nan.1  nan.2   5.3274  nan.3   nan.4   nan.5\n",
       "0       102.3092  NaN    NaN    NaN   5.8235    NaN     NaN     NaN\n",
       "1       102.4616  NaN    NaN    NaN   6.5228    NaN     NaN     NaN\n",
       "2       102.6140  NaN    NaN    NaN   7.2285    NaN     NaN     NaN\n",
       "3       102.7664  NaN    NaN    NaN   9.5020    NaN     NaN     NaN\n",
       "4       102.9188  NaN    NaN    NaN  15.6696    NaN     NaN     NaN\n",
       "...          ...  ...    ...    ...      ...    ...     ...     ...\n",
       "29748  4635.9044  NaN    NaN    NaN      NaN    NaN  0.7729  0.5978\n",
       "29749  4636.0568  NaN    NaN    NaN      NaN    NaN  0.8369  0.6257\n",
       "29750  4636.2092  NaN    NaN    NaN      NaN    NaN  0.8741  0.6888\n",
       "29751  4636.3616  NaN    NaN    NaN      NaN    NaN  0.9002  0.8902\n",
       "29752  4636.5140  NaN    NaN    NaN      NaN    NaN  0.9133  1.0363\n",
       "\n",
       "[29753 rows x 8 columns]"
      ]
     },
     "execution_count": 79,
     "metadata": {},
     "output_type": "execute_result"
    }
   ],
   "source": [
    "pd.read_csv('sample_no_mnemonics_no_units.csv')"
   ]
  },
  {
   "cell_type": "code",
   "execution_count": 80,
   "metadata": {},
   "outputs": [],
   "source": [
    "# to Excel\n",
    "las.to_excel('sample.xlsx')\n",
    "\n",
    "# You will need to have openpyxl installed ($ pip install openpyxl).\n",
    "# Worked OK for me without"
   ]
  },
  {
   "cell_type": "markdown",
   "metadata": {},
   "source": [
    "The exported spreadsheet has two sheets named “Header” and “Curves”. \n",
    "\n",
    "The “Header” sheet has five columns named “Section”, “Mnemonic”, “Unit”, “Value”, and “Description”, containing the information from all the sections in the header. \n",
    "\n",
    "The “Curves” sheet contains the data as a table, with the curve mnemonics as a header row.\n",
    "\n"
   ]
  },
  {
   "cell_type": "code",
   "execution_count": 84,
   "metadata": {},
   "outputs": [
    {
     "data": {
      "text/html": [
       "<div>\n",
       "<style scoped>\n",
       "    .dataframe tbody tr th:only-of-type {\n",
       "        vertical-align: middle;\n",
       "    }\n",
       "\n",
       "    .dataframe tbody tr th {\n",
       "        vertical-align: top;\n",
       "    }\n",
       "\n",
       "    .dataframe thead th {\n",
       "        text-align: right;\n",
       "    }\n",
       "</style>\n",
       "<table border=\"1\" class=\"dataframe\">\n",
       "  <thead>\n",
       "    <tr style=\"text-align: right;\">\n",
       "      <th></th>\n",
       "      <th>Section</th>\n",
       "      <th>Mnemonic</th>\n",
       "      <th>Unit</th>\n",
       "      <th>Value</th>\n",
       "      <th>Description</th>\n",
       "    </tr>\n",
       "  </thead>\n",
       "  <tbody>\n",
       "    <tr>\n",
       "      <th>0</th>\n",
       "      <td>~Version</td>\n",
       "      <td>VERS</td>\n",
       "      <td>NaN</td>\n",
       "      <td>2</td>\n",
       "      <td>CWLS Log ASCII Standard-VERSION 2.0</td>\n",
       "    </tr>\n",
       "    <tr>\n",
       "      <th>1</th>\n",
       "      <td>~Version</td>\n",
       "      <td>WRAP</td>\n",
       "      <td>NaN</td>\n",
       "      <td>NO</td>\n",
       "      <td>One line per depth step</td>\n",
       "    </tr>\n",
       "    <tr>\n",
       "      <th>2</th>\n",
       "      <td>~Well</td>\n",
       "      <td>STRT</td>\n",
       "      <td>M</td>\n",
       "      <td>102.157</td>\n",
       "      <td>Top Depth</td>\n",
       "    </tr>\n",
       "    <tr>\n",
       "      <th>3</th>\n",
       "      <td>~Well</td>\n",
       "      <td>STOP</td>\n",
       "      <td>M</td>\n",
       "      <td>4636.51</td>\n",
       "      <td>Bottom Depth</td>\n",
       "    </tr>\n",
       "    <tr>\n",
       "      <th>4</th>\n",
       "      <td>~Well</td>\n",
       "      <td>STEP</td>\n",
       "      <td>M</td>\n",
       "      <td>0.1524</td>\n",
       "      <td>Depth Increment</td>\n",
       "    </tr>\n",
       "    <tr>\n",
       "      <th>5</th>\n",
       "      <td>~Well</td>\n",
       "      <td>NaN</td>\n",
       "      <td>NaN</td>\n",
       "      <td>-999.25</td>\n",
       "      <td>Null Value</td>\n",
       "    </tr>\n",
       "    <tr>\n",
       "      <th>6</th>\n",
       "      <td>~Well</td>\n",
       "      <td>FLD</td>\n",
       "      <td>NaN</td>\n",
       "      <td>Q15</td>\n",
       "      <td>Field Name</td>\n",
       "    </tr>\n",
       "    <tr>\n",
       "      <th>7</th>\n",
       "      <td>~Well</td>\n",
       "      <td>WELL</td>\n",
       "      <td>NaN</td>\n",
       "      <td>15/9-19</td>\n",
       "      <td>NAME</td>\n",
       "    </tr>\n",
       "    <tr>\n",
       "      <th>8</th>\n",
       "      <td>~Well</td>\n",
       "      <td>WBN</td>\n",
       "      <td>NaN</td>\n",
       "      <td>15/9-19 SR</td>\n",
       "      <td>WELLBORE</td>\n",
       "    </tr>\n",
       "    <tr>\n",
       "      <th>9</th>\n",
       "      <td>~Well</td>\n",
       "      <td>NATI</td>\n",
       "      <td>NaN</td>\n",
       "      <td>NOR</td>\n",
       "      <td>COUNTRY</td>\n",
       "    </tr>\n",
       "  </tbody>\n",
       "</table>\n",
       "</div>"
      ],
      "text/plain": [
       "    Section Mnemonic Unit       Value                          Description\n",
       "0  ~Version     VERS  NaN           2  CWLS Log ASCII Standard-VERSION 2.0\n",
       "1  ~Version     WRAP  NaN          NO              One line per depth step\n",
       "2     ~Well     STRT    M     102.157                            Top Depth\n",
       "3     ~Well     STOP    M     4636.51                         Bottom Depth\n",
       "4     ~Well     STEP    M      0.1524                      Depth Increment\n",
       "5     ~Well      NaN  NaN     -999.25                           Null Value\n",
       "6     ~Well      FLD  NaN         Q15                           Field Name\n",
       "7     ~Well     WELL  NaN     15/9-19                                 NAME\n",
       "8     ~Well      WBN  NaN  15/9-19 SR                             WELLBORE\n",
       "9     ~Well     NATI  NaN         NOR                              COUNTRY"
      ]
     },
     "execution_count": 84,
     "metadata": {},
     "output_type": "execute_result"
    }
   ],
   "source": [
    "pd.read_excel('sample.xlsx', sheet_name='Header').head(10)"
   ]
  },
  {
   "cell_type": "code",
   "execution_count": 85,
   "metadata": {},
   "outputs": [
    {
     "data": {
      "text/html": [
       "<div>\n",
       "<style scoped>\n",
       "    .dataframe tbody tr th:only-of-type {\n",
       "        vertical-align: middle;\n",
       "    }\n",
       "\n",
       "    .dataframe tbody tr th {\n",
       "        vertical-align: top;\n",
       "    }\n",
       "\n",
       "    .dataframe thead th {\n",
       "        text-align: right;\n",
       "    }\n",
       "</style>\n",
       "<table border=\"1\" class=\"dataframe\">\n",
       "  <thead>\n",
       "    <tr style=\"text-align: right;\">\n",
       "      <th></th>\n",
       "      <th>DEPT</th>\n",
       "      <th>AC</th>\n",
       "      <th>CALI</th>\n",
       "      <th>DEN</th>\n",
       "      <th>GR</th>\n",
       "      <th>NEU</th>\n",
       "      <th>RDEP</th>\n",
       "      <th>RMED</th>\n",
       "    </tr>\n",
       "  </thead>\n",
       "  <tbody>\n",
       "    <tr>\n",
       "      <th>0</th>\n",
       "      <td>102.1568</td>\n",
       "      <td>NaN</td>\n",
       "      <td>NaN</td>\n",
       "      <td>NaN</td>\n",
       "      <td>5.3274</td>\n",
       "      <td>NaN</td>\n",
       "      <td>NaN</td>\n",
       "      <td>NaN</td>\n",
       "    </tr>\n",
       "    <tr>\n",
       "      <th>1</th>\n",
       "      <td>102.3092</td>\n",
       "      <td>NaN</td>\n",
       "      <td>NaN</td>\n",
       "      <td>NaN</td>\n",
       "      <td>5.8235</td>\n",
       "      <td>NaN</td>\n",
       "      <td>NaN</td>\n",
       "      <td>NaN</td>\n",
       "    </tr>\n",
       "    <tr>\n",
       "      <th>2</th>\n",
       "      <td>102.4616</td>\n",
       "      <td>NaN</td>\n",
       "      <td>NaN</td>\n",
       "      <td>NaN</td>\n",
       "      <td>6.5228</td>\n",
       "      <td>NaN</td>\n",
       "      <td>NaN</td>\n",
       "      <td>NaN</td>\n",
       "    </tr>\n",
       "    <tr>\n",
       "      <th>3</th>\n",
       "      <td>102.6140</td>\n",
       "      <td>NaN</td>\n",
       "      <td>NaN</td>\n",
       "      <td>NaN</td>\n",
       "      <td>7.2285</td>\n",
       "      <td>NaN</td>\n",
       "      <td>NaN</td>\n",
       "      <td>NaN</td>\n",
       "    </tr>\n",
       "    <tr>\n",
       "      <th>4</th>\n",
       "      <td>102.7664</td>\n",
       "      <td>NaN</td>\n",
       "      <td>NaN</td>\n",
       "      <td>NaN</td>\n",
       "      <td>9.5020</td>\n",
       "      <td>NaN</td>\n",
       "      <td>NaN</td>\n",
       "      <td>NaN</td>\n",
       "    </tr>\n",
       "    <tr>\n",
       "      <th>5</th>\n",
       "      <td>102.9188</td>\n",
       "      <td>NaN</td>\n",
       "      <td>NaN</td>\n",
       "      <td>NaN</td>\n",
       "      <td>15.6696</td>\n",
       "      <td>NaN</td>\n",
       "      <td>NaN</td>\n",
       "      <td>NaN</td>\n",
       "    </tr>\n",
       "    <tr>\n",
       "      <th>6</th>\n",
       "      <td>103.0712</td>\n",
       "      <td>NaN</td>\n",
       "      <td>NaN</td>\n",
       "      <td>NaN</td>\n",
       "      <td>17.9443</td>\n",
       "      <td>NaN</td>\n",
       "      <td>NaN</td>\n",
       "      <td>NaN</td>\n",
       "    </tr>\n",
       "    <tr>\n",
       "      <th>7</th>\n",
       "      <td>103.2236</td>\n",
       "      <td>NaN</td>\n",
       "      <td>NaN</td>\n",
       "      <td>NaN</td>\n",
       "      <td>18.0740</td>\n",
       "      <td>NaN</td>\n",
       "      <td>NaN</td>\n",
       "      <td>NaN</td>\n",
       "    </tr>\n",
       "    <tr>\n",
       "      <th>8</th>\n",
       "      <td>103.3760</td>\n",
       "      <td>NaN</td>\n",
       "      <td>NaN</td>\n",
       "      <td>NaN</td>\n",
       "      <td>18.2037</td>\n",
       "      <td>NaN</td>\n",
       "      <td>NaN</td>\n",
       "      <td>NaN</td>\n",
       "    </tr>\n",
       "    <tr>\n",
       "      <th>9</th>\n",
       "      <td>103.5284</td>\n",
       "      <td>NaN</td>\n",
       "      <td>NaN</td>\n",
       "      <td>NaN</td>\n",
       "      <td>18.3334</td>\n",
       "      <td>NaN</td>\n",
       "      <td>NaN</td>\n",
       "      <td>NaN</td>\n",
       "    </tr>\n",
       "  </tbody>\n",
       "</table>\n",
       "</div>"
      ],
      "text/plain": [
       "       DEPT  AC  CALI  DEN       GR  NEU  RDEP  RMED\n",
       "0  102.1568 NaN   NaN  NaN   5.3274  NaN   NaN   NaN\n",
       "1  102.3092 NaN   NaN  NaN   5.8235  NaN   NaN   NaN\n",
       "2  102.4616 NaN   NaN  NaN   6.5228  NaN   NaN   NaN\n",
       "3  102.6140 NaN   NaN  NaN   7.2285  NaN   NaN   NaN\n",
       "4  102.7664 NaN   NaN  NaN   9.5020  NaN   NaN   NaN\n",
       "5  102.9188 NaN   NaN  NaN  15.6696  NaN   NaN   NaN\n",
       "6  103.0712 NaN   NaN  NaN  17.9443  NaN   NaN   NaN\n",
       "7  103.2236 NaN   NaN  NaN  18.0740  NaN   NaN   NaN\n",
       "8  103.3760 NaN   NaN  NaN  18.2037  NaN   NaN   NaN\n",
       "9  103.5284 NaN   NaN  NaN  18.3334  NaN   NaN   NaN"
      ]
     },
     "execution_count": 85,
     "metadata": {},
     "output_type": "execute_result"
    }
   ],
   "source": [
    "pd.read_excel('sample.xlsx', sheet_name='Curves').head(10)"
   ]
  },
  {
   "cell_type": "code",
   "execution_count": 87,
   "metadata": {},
   "outputs": [],
   "source": [
    "# Script interfaces\n",
    "# Single file\n",
    "\n",
    "# las2excel --help\n",
    "# e.g.\n",
    "# las2excel tests\\examples\\sample.las c:\\users\\kinverarity\\Desktop\\sample.xlsx\n",
    "    \n",
    "# las2excelbulk --help\n",
    "# e.g.\n",
    "# las2excelbulk --recursive test_folder"
   ]
  },
  {
   "cell_type": "code",
   "execution_count": null,
   "metadata": {},
   "outputs": [],
   "source": []
  },
  {
   "cell_type": "code",
   "execution_count": 114,
   "metadata": {},
   "outputs": [
    {
     "name": "stdout",
     "output_type": "stream",
     "text": [
      "{\"metadata\": {\"Version\": {\"VERS\": 2.0, \"WRAP\": \"NO\", \"DLM\": \"SPACE\"}, \"Well\": {\"STRT\": 10.0, \"STOP\": 49.5, \"STEP\": 0.5, \"NULL\": -9999.25, \"COMP\": \"\", \"WELL\": \"\", \"FLD\": \"\", \"LOC\": \"\", \"PROV\": \"\", \"CNTY\": \"\", \"STAT\": \"\", \"CTRY\": \"\", \"SRVC\": \"\", \"DATE\": \"2020-04-16 16:02:07\", \"UWI\": \"\", \"API\": \"\"}, \"Curves\": {\"DEPT:1\": \"\", \"SYNTH:1\": \"\", \"DEPT:2\": \"\", \"SYNTH:2\": \"\"}, \"Parameter\": {\"ENG\": \"Kent Inverarity\", \"LMF\": \"GL\"}, \"Other\": \"Example of how to create a LAS file from scratch using lasio\"}, \"data\": {\"DEPT:1\": [10.0, 10.5, 11.0, 11.5, 12.0, 12.5, 13.0, 13.5, 14.0, 14.5, 15.0, 15.5, 16.0, 16.5, 17.0, 17.5, 18.0, 18.5, 19.0, 19.5, 20.0, 20.5, 21.0, 21.5, 22.0, 22.5, 23.0, 23.5, 24.0, 24.5, 25.0, 25.5, 26.0, 26.5, 27.0, 27.5, 28.0, 28.5, 29.0, 29.5, 30.0, 30.5, 31.0, 31.5, 32.0, 32.5, 33.0, 33.5, 34.0, 34.5, 35.0, 35.5, 36.0, 36.5, 37.0, 37.5, 38.0, 38.5, 39.0, 39.5, 40.0, 40.5, 41.0, 41.5, 42.0, 42.5, 43.0, 43.5, 44.0, 44.5, 45.0, 45.5, 46.0, 46.5, 47.0, 47.5, 48.0, 48.5, 49.0, 49.5], \"SYNTH:1\": [null, null, null, null, null, null, null, null, 5.977577490290546, 5.962731623013583, 6.038337301807954, 6.895759039237861, 6.486595032010566, 6.640877968434104, 6.752636153578758, 6.263365293650886, 7.052515294198088, 6.871532955063192, 6.653145627292477, 6.7971023615695145, 6.882536474769145, 7.374550760041726, 7.369624601371677, 7.023276794548032, 7.232740131715523, 7.437068730258255, 7.51427470837797, 7.099302583216247, 7.743104592177135, 7.53759285918485, 7.788189350453272, 7.64815830369948, 7.341661515811357, 8.07729335909742, 7.543075814442596, 7.82972994099381, 7.35604233485138, 7.794164840091627, 8.069374295704431, 8.191122492718883, 7.750214223242077, 7.749008530621406, 7.501742531392576, 8.491438236418446, 7.788849600589222, 8.330781799352167, 7.91305643233247, 8.001259074049157, 7.817564079049417, 7.864934434335506, 8.720226653856603, 8.516818062006665, 8.463993430746887, 8.09878892345256, 8.354354220001015, 8.857415930117883, 8.416505887234456, 8.275538042876818, 8.208593104680538, 8.469040565690378, 8.76378699071263, 8.410742109283008, 8.718379118445865, 8.568042234229457, 9.062244282556044, 8.951890201657136, 8.476938572991168, 8.59308934762981, 8.851474509885872, 8.867303400960342, 9.112253538172675, 9.107893654459138, 8.589643900347257, 8.556908774653817, 9.321773671470494, 9.350400593815996, 8.594339800843684, 8.464134443279049, 8.682016547961325, 8.952931505207433], \"DEPT:2\": [10.0, 10.5, 11.0, 11.5, 12.0, 12.5, 13.0, 13.5, 14.0, 14.5, 15.0, 15.5, 16.0, 16.5, 17.0, 17.5, 18.0, 18.5, 19.0, 19.5, 20.0, 20.5, 21.0, 21.5, 22.0, 22.5, 23.0, 23.5, 24.0, 24.5, 25.0, 25.5, 26.0, 26.5, 27.0, 27.5, 28.0, 28.5, 29.0, 29.5, 30.0, 30.5, 31.0, 31.5, 32.0, 32.5, 33.0, 33.5, 34.0, 34.5, 35.0, 35.5, 36.0, 36.5, 37.0, 37.5, 38.0, 38.5, 39.0, 39.5, 40.0, 40.5, 41.0, 41.5, 42.0, 42.5, 43.0, 43.5, 44.0, 44.5, 45.0, 45.5, 46.0, 46.5, 47.0, 47.5, 48.0, 48.5, 49.0, 49.5], \"SYNTH:2\": [null, null, null, null, null, null, null, null, 6.008299981883655, 6.657333659812374, 5.986623169858609, 6.315694602995358, 6.39359660522605, 6.752181151551918, 6.813063968794051, 6.393661387878099, 6.780403664321838, 7.262185479750891, 6.413780283206734, 6.688072659400983, 7.251161528211275, 6.7467261160031, 7.479374599326686, 6.811225936298676, 7.436265399078375, 7.148144606120137, 7.556136091187643, 7.430164161449108, 7.770266808573139, 7.758002558851695, 7.044282309377384, 7.715832483349842, 7.830620378427967, 7.5084582808521025, 7.532517616281063, 7.257644218474063, 8.010737723656227, 7.9579050738893775, 7.313705515305052, 7.656961381652622, 8.093705573098786, 8.173503765181238, 7.4921985980527674, 8.305527288256807, 8.395661703810045, 8.40135114547172, 8.525486053332864, 8.005148367658117, 8.181593440246084, 8.180746179624748, 8.115860684304899, 8.337639499520671, 8.744026636928865, 8.386038838827018, 8.819600444546325, 8.400183705447876, 8.759889555578349, 8.389583716597857, 8.26184559429436, 8.298559517424188, 8.729979369576267, 9.026279807000098, 8.116620474383732, 8.624978938617664, 9.031610733508753, 8.172776371875257, 8.996727671284042, 9.019893934713126, 8.45887787256669, 8.956008693595717, 9.183467791755914, 8.340471113585483, 8.584928651549664, 8.557749394355698, 8.42700492950487, 8.500655939160179, 9.166367402283313, 9.025822788759353, 8.983467195497123, 8.973855433460706]}}\n"
     ]
    }
   ],
   "source": [
    "# To export to JSON (JavaScript Object Notation) you need a special encoder\n",
    "\n",
    "t = json.dumps(las, cls=lasio.JSONEncoder)\n",
    "print(t)"
   ]
  },
  {
   "cell_type": "code",
   "execution_count": null,
   "metadata": {},
   "outputs": [],
   "source": []
  },
  {
   "cell_type": "code",
   "execution_count": null,
   "metadata": {},
   "outputs": [],
   "source": []
  },
  {
   "cell_type": "markdown",
   "metadata": {},
   "source": [
    "### Building a LAS file from scratch"
   ]
  },
  {
   "cell_type": "code",
   "execution_count": 88,
   "metadata": {},
   "outputs": [],
   "source": [
    "las = lasio.LASFile()"
   ]
  },
  {
   "cell_type": "code",
   "execution_count": 89,
   "metadata": {},
   "outputs": [
    {
     "data": {
      "text/plain": [
       "{'Version': [HeaderItem(mnemonic=VERS, unit=, value=2.0, descr=CWLS log ASCII Standard -V...),\n",
       "  HeaderItem(mnemonic=WRAP, unit=, value=NO, descr=One line per depth step),\n",
       "  HeaderItem(mnemonic=DLM, unit=, value=SPACE, descr=Column Data Section Delim...)],\n",
       " 'Well': [HeaderItem(mnemonic=STRT, unit=m, value=nan, descr=START DEPTH),\n",
       "  HeaderItem(mnemonic=STOP, unit=m, value=nan, descr=STOP DEPTH),\n",
       "  HeaderItem(mnemonic=STEP, unit=m, value=nan, descr=STEP),\n",
       "  HeaderItem(mnemonic=NULL, unit=, value=-9999.25, descr=NULL VALUE),\n",
       "  HeaderItem(mnemonic=COMP, unit=, value=, descr=COMPANY),\n",
       "  HeaderItem(mnemonic=WELL, unit=, value=, descr=WELL),\n",
       "  HeaderItem(mnemonic=FLD, unit=, value=, descr=FIELD),\n",
       "  HeaderItem(mnemonic=LOC, unit=, value=, descr=LOCATION),\n",
       "  HeaderItem(mnemonic=PROV, unit=, value=, descr=PROVINCE),\n",
       "  HeaderItem(mnemonic=CNTY, unit=, value=, descr=COUNTY),\n",
       "  HeaderItem(mnemonic=STAT, unit=, value=, descr=STATE),\n",
       "  HeaderItem(mnemonic=CTRY, unit=, value=, descr=COUNTRY),\n",
       "  HeaderItem(mnemonic=SRVC, unit=, value=, descr=SERVICE COMPANY),\n",
       "  HeaderItem(mnemonic=DATE, unit=, value=, descr=DATE),\n",
       "  HeaderItem(mnemonic=UWI, unit=, value=, descr=UNIQUE WELL ID),\n",
       "  HeaderItem(mnemonic=API, unit=, value=, descr=API NUMBER)],\n",
       " 'Curves': [],\n",
       " 'Parameter': [],\n",
       " 'Other': ''}"
      ]
     },
     "execution_count": 89,
     "metadata": {},
     "output_type": "execute_result"
    }
   ],
   "source": [
    "# When you create a LASFile from scratch, it comes with some default metadata\n",
    "\n",
    "las.header"
   ]
  },
  {
   "cell_type": "code",
   "execution_count": 93,
   "metadata": {},
   "outputs": [
    {
     "data": {
      "text/plain": [
       "HeaderItem(mnemonic=DATE, unit=, value=2020-04-16 16:02:07, descr=DATE)"
      ]
     },
     "execution_count": 93,
     "metadata": {},
     "output_type": "execute_result"
    }
   ],
   "source": [
    "# Correct the date in the Well section\n",
    "from datetime import datetime\n",
    "\n",
    "las.well.DATE = datetime.today().strftime('%Y-%m-%d %H:%M:%S')\n",
    "las.well.DATE"
   ]
  },
  {
   "cell_type": "code",
   "execution_count": 94,
   "metadata": {},
   "outputs": [],
   "source": [
    "# Add some new header fields\n",
    "\n",
    "las.params['ENG'] = lasio.HeaderItem('ENG', value='Kent Inverarity')\n",
    "las.params['LMF'] = lasio.HeaderItem('LMF', value='GL')\n",
    "las.other = 'Example of how to create a LAS file from scratch using lasio'"
   ]
  },
  {
   "cell_type": "code",
   "execution_count": 95,
   "metadata": {},
   "outputs": [
    {
     "data": {
      "text/plain": [
       "[HeaderItem(mnemonic=ENG, unit=, value=Kent Inverarity, descr=),\n",
       " HeaderItem(mnemonic=LMF, unit=, value=GL, descr=)]"
      ]
     },
     "execution_count": 95,
     "metadata": {},
     "output_type": "execute_result"
    }
   ],
   "source": [
    "las.params"
   ]
  },
  {
   "cell_type": "code",
   "execution_count": 96,
   "metadata": {},
   "outputs": [
    {
     "data": {
      "text/plain": [
       "'Example of how to create a LAS file from scratch using lasio'"
      ]
     },
     "execution_count": 96,
     "metadata": {},
     "output_type": "execute_result"
    }
   ],
   "source": [
    "las.other"
   ]
  },
  {
   "cell_type": "code",
   "execution_count": 100,
   "metadata": {},
   "outputs": [],
   "source": [
    "# Invent some data for a curve\n",
    "\n",
    "depths = np.arange(10, 50, 0.5)\n",
    "synth = np.log10(depths)*5+np.random.random(len(depths))\n",
    "synth[:8] = np.nan\n",
    "\n",
    "# And add these to the LASFile object\n",
    "\n",
    "las.add_curve('DEPT', depths, unit='m')\n",
    "las.add_curve('SYNTH', synth, descr='fake data')\n",
    "\n",
    "# And write the results to the file\n",
    "\n",
    "las.write('scratch_v1.2.las', version=1.2)\n",
    "las.write('scratch_v2.las', version=2)"
   ]
  },
  {
   "cell_type": "code",
   "execution_count": null,
   "metadata": {},
   "outputs": [],
   "source": []
  },
  {
   "cell_type": "code",
   "execution_count": null,
   "metadata": {},
   "outputs": [],
   "source": [
    "### Character encodings\n",
    "\n",
    "# las = lasio.read('example.las', encoding='windows-1252')"
   ]
  },
  {
   "cell_type": "code",
   "execution_count": null,
   "metadata": {},
   "outputs": [],
   "source": []
  },
  {
   "cell_type": "code",
   "execution_count": null,
   "metadata": {},
   "outputs": [],
   "source": []
  },
  {
   "cell_type": "code",
   "execution_count": null,
   "metadata": {},
   "outputs": [],
   "source": []
  },
  {
   "cell_type": "code",
   "execution_count": null,
   "metadata": {},
   "outputs": [],
   "source": []
  },
  {
   "cell_type": "code",
   "execution_count": null,
   "metadata": {},
   "outputs": [],
   "source": []
  },
  {
   "cell_type": "code",
   "execution_count": null,
   "metadata": {},
   "outputs": [],
   "source": []
  },
  {
   "cell_type": "code",
   "execution_count": null,
   "metadata": {},
   "outputs": [],
   "source": []
  },
  {
   "cell_type": "code",
   "execution_count": null,
   "metadata": {},
   "outputs": [],
   "source": []
  },
  {
   "cell_type": "code",
   "execution_count": null,
   "metadata": {},
   "outputs": [],
   "source": []
  },
  {
   "cell_type": "code",
   "execution_count": null,
   "metadata": {},
   "outputs": [],
   "source": []
  }
 ],
 "metadata": {
  "kernelspec": {
   "display_name": "Python (geoenv1)",
   "language": "python",
   "name": "geoenv1"
  },
  "language_info": {
   "codemirror_mode": {
    "name": "ipython",
    "version": 3
   },
   "file_extension": ".py",
   "mimetype": "text/x-python",
   "name": "python",
   "nbconvert_exporter": "python",
   "pygments_lexer": "ipython3",
   "version": "3.7.4"
  },
  "toc": {
   "base_numbering": 1,
   "nav_menu": {},
   "number_sections": true,
   "sideBar": true,
   "skip_h1_title": false,
   "title_cell": "Table of Contents",
   "title_sidebar": "Contents",
   "toc_cell": false,
   "toc_position": {},
   "toc_section_display": true,
   "toc_window_display": false
  },
  "varInspector": {
   "cols": {
    "lenName": 16,
    "lenType": 16,
    "lenVar": 40
   },
   "kernels_config": {
    "python": {
     "delete_cmd_postfix": "",
     "delete_cmd_prefix": "del ",
     "library": "var_list.py",
     "varRefreshCmd": "print(var_dic_list())"
    },
    "r": {
     "delete_cmd_postfix": ") ",
     "delete_cmd_prefix": "rm(",
     "library": "var_list.r",
     "varRefreshCmd": "cat(var_dic_list()) "
    }
   },
   "types_to_exclude": [
    "module",
    "function",
    "builtin_function_or_method",
    "instance",
    "_Feature"
   ],
   "window_display": false
  }
 },
 "nbformat": 4,
 "nbformat_minor": 2
}
